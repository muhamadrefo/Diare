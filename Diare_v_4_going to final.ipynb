{
  "nbformat": 4,
  "nbformat_minor": 0,
  "metadata": {
    "colab": {
      "name": "Diare v.4.0'.ipynb",
      "provenance": [],
      "collapsed_sections": [],
      "authorship_tag": "ABX9TyM8WHkIjLF4dGqe1LFCVmqA"
    },
    "kernelspec": {
      "name": "python3",
      "display_name": "Python 3"
    }
  },
  "cells": [
    {
      "cell_type": "markdown",
      "metadata": {
        "id": "zNETeOQwg85I"
      },
      "source": [
        "# Preprocessing"
      ]
    },
    {
      "cell_type": "code",
      "metadata": {
        "colab": {
          "base_uri": "https://localhost:8080/"
        },
        "id": "Kw_UVGBKgJ_R",
        "outputId": "10bdc5bf-6a06-4ad8-a99d-927079af912e"
      },
      "source": [
        "from google.colab import drive\n",
        "drive.mount('/content/drive')"
      ],
      "execution_count": 1,
      "outputs": [
        {
          "output_type": "stream",
          "text": [
            "Mounted at /content/drive\n"
          ],
          "name": "stdout"
        }
      ]
    },
    {
      "cell_type": "code",
      "metadata": {
        "colab": {
          "base_uri": "https://localhost:8080/"
        },
        "id": "rlr3LNDQg6qM",
        "outputId": "016b980d-9bfa-4344-eacd-5923b7589e6d"
      },
      "source": [
        "%cd /content/drive/MyDrive/Dataset/Diarrhea\n",
        "%ls"
      ],
      "execution_count": 2,
      "outputs": [
        {
          "output_type": "stream",
          "text": [
            "/content/drive/MyDrive/Dataset/Diarrhea\n",
            " cos1.dot     Diare.csv    'Laporan Diare 2019.xls'   search2.csv   tree3.dot\n",
            " cusdm1.csv   dm01.csv      modelDT.pkl               search3.csv   tree4.dot\n",
            " cusdm2.csv   dm02.csv      normal.pkl                search4.csv   tree.dot\n",
            " cusdm3.csv   dm03.csv      over.pkl                  search.csv    under.pkl\n",
            " demo.csv     golf_df.csv   savecsv.csv               tree2.dot\n"
          ],
          "name": "stdout"
        }
      ]
    },
    {
      "cell_type": "code",
      "metadata": {
        "colab": {
          "base_uri": "https://localhost:8080/",
          "height": 505
        },
        "id": "BnLzUMtnhXre",
        "outputId": "5a2e4bc7-c4a4-441b-b903-f21e9f3afc6f"
      },
      "source": [
        "import csv\n",
        "import joblib\n",
        "%matplotlib inline\n",
        "import pandas as pd\n",
        "import seaborn as sns\n",
        "from sklearn import tree\n",
        "from sklearn import metrics\n",
        "from graphviz import Source\n",
        "import matplotlib.pyplot as plt\n",
        "from collections import Counter\n",
        "from warnings import simplefilter\n",
        "from sklearn.tree import export_text\n",
        "from sklearn.pipeline import Pipeline\n",
        "from sklearn.tree import export_graphviz\n",
        "from imblearn.over_sampling import SMOTE\n",
        "from IPython.display import display, SVG\n",
        "from sklearn.preprocessing import LabelEncoder\n",
        "from sklearn.tree import DecisionTreeClassifier\n",
        "from imblearn.over_sampling import RandomOverSampler\n",
        "from imblearn.under_sampling import RandomUnderSampler\n",
        "from sklearn.model_selection import train_test_split as tt\n",
        "from sklearn.metrics import confusion_matrix, plot_confusion_matrix, classification_report\n",
        "\n",
        "#ignore all future warning\n",
        "simplefilter(action='ignore', category=FutureWarning)\n",
        "da= pd.read_csv('Diare.csv')\n",
        "da"
      ],
      "execution_count": 3,
      "outputs": [
        {
          "output_type": "stream",
          "text": [
            "/usr/local/lib/python3.7/dist-packages/sklearn/externals/six.py:31: FutureWarning: The module is deprecated in version 0.21 and will be removed in version 0.23 since we've dropped support for Python 2.7. Please rely on the official version of six (https://pypi.org/project/six/).\n",
            "  \"(https://pypi.org/project/six/).\", FutureWarning)\n",
            "/usr/local/lib/python3.7/dist-packages/sklearn/utils/deprecation.py:144: FutureWarning: The sklearn.neighbors.base module is  deprecated in version 0.22 and will be removed in version 0.24. The corresponding classes / functions should instead be imported from sklearn.neighbors. Anything that cannot be imported from sklearn.neighbors is now part of the private API.\n",
            "  warnings.warn(message, FutureWarning)\n"
          ],
          "name": "stderr"
        },
        {
          "output_type": "execute_result",
          "data": {
            "text/html": [
              "<div>\n",
              "<style scoped>\n",
              "    .dataframe tbody tr th:only-of-type {\n",
              "        vertical-align: middle;\n",
              "    }\n",
              "\n",
              "    .dataframe tbody tr th {\n",
              "        vertical-align: top;\n",
              "    }\n",
              "\n",
              "    .dataframe thead th {\n",
              "        text-align: right;\n",
              "    }\n",
              "</style>\n",
              "<table border=\"1\" class=\"dataframe\">\n",
              "  <thead>\n",
              "    <tr style=\"text-align: right;\">\n",
              "      <th></th>\n",
              "      <th>Demam</th>\n",
              "      <th>Muntah</th>\n",
              "      <th>Mulut Kering</th>\n",
              "      <th>Nyeri di Perut</th>\n",
              "      <th>BAB lebih dari 2 minggu</th>\n",
              "      <th>BAB lebih dari 3x Sehari</th>\n",
              "      <th>Feses Encer</th>\n",
              "      <th>Feses Berdarah/Berlendir</th>\n",
              "      <th>Diare</th>\n",
              "    </tr>\n",
              "  </thead>\n",
              "  <tbody>\n",
              "    <tr>\n",
              "      <th>0</th>\n",
              "      <td>Tidak</td>\n",
              "      <td>Ya</td>\n",
              "      <td>Ya</td>\n",
              "      <td>Ya</td>\n",
              "      <td>Tidak</td>\n",
              "      <td>Ya</td>\n",
              "      <td>Tidak</td>\n",
              "      <td>Berlendir</td>\n",
              "      <td>Akut</td>\n",
              "    </tr>\n",
              "    <tr>\n",
              "      <th>1</th>\n",
              "      <td>Tidak</td>\n",
              "      <td>Tidak</td>\n",
              "      <td>Tidak</td>\n",
              "      <td>Tidak</td>\n",
              "      <td>Tidak</td>\n",
              "      <td>Ya</td>\n",
              "      <td>Ya</td>\n",
              "      <td>Tidak</td>\n",
              "      <td>Akut</td>\n",
              "    </tr>\n",
              "    <tr>\n",
              "      <th>2</th>\n",
              "      <td>Tidak</td>\n",
              "      <td>Tidak</td>\n",
              "      <td>Tidak</td>\n",
              "      <td>Tidak</td>\n",
              "      <td>Tidak</td>\n",
              "      <td>Tidak</td>\n",
              "      <td>Ya</td>\n",
              "      <td>Berlendir</td>\n",
              "      <td>Akut</td>\n",
              "    </tr>\n",
              "    <tr>\n",
              "      <th>3</th>\n",
              "      <td>Tidak</td>\n",
              "      <td>Tidak</td>\n",
              "      <td>Ya</td>\n",
              "      <td>Tidak</td>\n",
              "      <td>Tidak</td>\n",
              "      <td>Ya</td>\n",
              "      <td>Tidak</td>\n",
              "      <td>Berlendir</td>\n",
              "      <td>Akut</td>\n",
              "    </tr>\n",
              "    <tr>\n",
              "      <th>4</th>\n",
              "      <td>Tidak</td>\n",
              "      <td>Ya</td>\n",
              "      <td>Ya</td>\n",
              "      <td>Ya</td>\n",
              "      <td>Tidak</td>\n",
              "      <td>Ya</td>\n",
              "      <td>Tidak</td>\n",
              "      <td>Berlendir</td>\n",
              "      <td>Akut</td>\n",
              "    </tr>\n",
              "    <tr>\n",
              "      <th>...</th>\n",
              "      <td>...</td>\n",
              "      <td>...</td>\n",
              "      <td>...</td>\n",
              "      <td>...</td>\n",
              "      <td>...</td>\n",
              "      <td>...</td>\n",
              "      <td>...</td>\n",
              "      <td>...</td>\n",
              "      <td>...</td>\n",
              "    </tr>\n",
              "    <tr>\n",
              "      <th>500</th>\n",
              "      <td>Tidak</td>\n",
              "      <td>Tidak</td>\n",
              "      <td>Ya</td>\n",
              "      <td>Tidak</td>\n",
              "      <td>NaN</td>\n",
              "      <td>Ya</td>\n",
              "      <td>Ya</td>\n",
              "      <td>Berdarah</td>\n",
              "      <td>Akut</td>\n",
              "    </tr>\n",
              "    <tr>\n",
              "      <th>501</th>\n",
              "      <td>Tidak</td>\n",
              "      <td>Ya</td>\n",
              "      <td>Ya</td>\n",
              "      <td>Tidak</td>\n",
              "      <td>Tidak</td>\n",
              "      <td>Tidak</td>\n",
              "      <td>Ya</td>\n",
              "      <td>Berdarah</td>\n",
              "      <td>Akut</td>\n",
              "    </tr>\n",
              "    <tr>\n",
              "      <th>502</th>\n",
              "      <td>Ya</td>\n",
              "      <td>Tidak</td>\n",
              "      <td>Ya</td>\n",
              "      <td>Tidak</td>\n",
              "      <td>Tidak</td>\n",
              "      <td>Ya</td>\n",
              "      <td>Ya</td>\n",
              "      <td>Tidak</td>\n",
              "      <td>Akut</td>\n",
              "    </tr>\n",
              "    <tr>\n",
              "      <th>503</th>\n",
              "      <td>Tidak</td>\n",
              "      <td>Ya</td>\n",
              "      <td>Ya</td>\n",
              "      <td>Tidak</td>\n",
              "      <td>Tidak</td>\n",
              "      <td>Tidak</td>\n",
              "      <td>Ya</td>\n",
              "      <td>Berlendir</td>\n",
              "      <td>Akut</td>\n",
              "    </tr>\n",
              "    <tr>\n",
              "      <th>504</th>\n",
              "      <td>Tidak</td>\n",
              "      <td>Ya</td>\n",
              "      <td>Tidak</td>\n",
              "      <td>Ya</td>\n",
              "      <td>Tidak</td>\n",
              "      <td>NaN</td>\n",
              "      <td>Ya</td>\n",
              "      <td>Tidak</td>\n",
              "      <td>Akut</td>\n",
              "    </tr>\n",
              "  </tbody>\n",
              "</table>\n",
              "<p>505 rows × 9 columns</p>\n",
              "</div>"
            ],
            "text/plain": [
              "     Demam Muntah Mulut Kering  ... Feses Encer Feses Berdarah/Berlendir Diare\n",
              "0    Tidak     Ya           Ya  ...       Tidak                Berlendir  Akut\n",
              "1    Tidak  Tidak        Tidak  ...          Ya                    Tidak  Akut\n",
              "2    Tidak  Tidak        Tidak  ...          Ya                Berlendir  Akut\n",
              "3    Tidak  Tidak           Ya  ...       Tidak                Berlendir  Akut\n",
              "4    Tidak     Ya           Ya  ...       Tidak                Berlendir  Akut\n",
              "..     ...    ...          ...  ...         ...                      ...   ...\n",
              "500  Tidak  Tidak           Ya  ...          Ya                 Berdarah  Akut\n",
              "501  Tidak     Ya           Ya  ...          Ya                 Berdarah  Akut\n",
              "502     Ya  Tidak           Ya  ...          Ya                    Tidak  Akut\n",
              "503  Tidak     Ya           Ya  ...          Ya                Berlendir  Akut\n",
              "504  Tidak     Ya        Tidak  ...          Ya                    Tidak  Akut\n",
              "\n",
              "[505 rows x 9 columns]"
            ]
          },
          "metadata": {
            "tags": []
          },
          "execution_count": 3
        }
      ]
    },
    {
      "cell_type": "code",
      "metadata": {
        "colab": {
          "base_uri": "https://localhost:8080/",
          "height": 346
        },
        "id": "8S4Aapi7i24d",
        "outputId": "418bb72b-ca8a-4d8f-ff24-af23c0e4b25c"
      },
      "source": [
        "#drop missing data\n",
        "data = da.dropna()\n",
        "print('Jumlah missing data: ', (len(da)-len(data)),'\\n')\n",
        "\n",
        "# renaming label column on dataset\n",
        "data = data.rename(columns={'Nyeri di Perut':'Nyeri',\n",
        "                                    'Mulut Kering':'MK',\n",
        "                                    'BAB lebih dari 2 minggu':'BAB_1',\n",
        "                                    'BAB lebih dari 3x Sehari':'BAB_2',\n",
        "                                    'Feses Encer':'FE',\n",
        "                                    'Feses Berdarah/Berlendir':'FBoB'})\n",
        "\n",
        "\n",
        "#Check pembagian tiap target class\n",
        "sns.countplot(x = data['Diare'])\n",
        "plt.title('Data pembagian kelas diare')\n",
        "plt.xlabel('Target kelas')\n",
        "plt.ylabel('Frekuensi')"
      ],
      "execution_count": 4,
      "outputs": [
        {
          "output_type": "stream",
          "text": [
            "Jumlah missing data:  23 \n",
            "\n"
          ],
          "name": "stdout"
        },
        {
          "output_type": "execute_result",
          "data": {
            "text/plain": [
              "Text(0, 0.5, 'Frekuensi')"
            ]
          },
          "metadata": {
            "tags": []
          },
          "execution_count": 4
        },
        {
          "output_type": "display_data",
          "data": {
            "image/png": "[encoded data removed]",
            "text/plain": [
              "<Figure size 432x288 with 1 Axes>"
            ]
          },
          "metadata": {
            "tags": [],
            "needs_background": "light"
          }
        }
      ]
    },
    {
      "cell_type": "code",
      "metadata": {
        "id": "CSf4GsdimqFH"
      },
      "source": [
        "#Encode using LabelEncoder\n",
        "\n",
        "le = LabelEncoder()\n",
        "clf= DecisionTreeClassifier(criterion='gini')\n",
        "X = data.drop(columns='Diare')\n",
        "y = data['Diare']\n",
        "\n",
        "#applying label encoder untuk tiap atribut predictor\n",
        "X = X.apply(le.fit_transform)"
      ],
      "execution_count": 5,
      "outputs": []
    },
    {
      "cell_type": "code",
      "metadata": {
        "colab": {
          "base_uri": "https://localhost:8080/",
          "height": 416
        },
        "id": "Qx_SW4l25ZYT",
        "outputId": "516bb45f-49cd-42e6-b977-37111b127f30"
      },
      "source": [
        "X"
      ],
      "execution_count": 6,
      "outputs": [
        {
          "output_type": "execute_result",
          "data": {
            "text/html": [
              "<div>\n",
              "<style scoped>\n",
              "    .dataframe tbody tr th:only-of-type {\n",
              "        vertical-align: middle;\n",
              "    }\n",
              "\n",
              "    .dataframe tbody tr th {\n",
              "        vertical-align: top;\n",
              "    }\n",
              "\n",
              "    .dataframe thead th {\n",
              "        text-align: right;\n",
              "    }\n",
              "</style>\n",
              "<table border=\"1\" class=\"dataframe\">\n",
              "  <thead>\n",
              "    <tr style=\"text-align: right;\">\n",
              "      <th></th>\n",
              "      <th>Demam</th>\n",
              "      <th>Muntah</th>\n",
              "      <th>MK</th>\n",
              "      <th>Nyeri</th>\n",
              "      <th>BAB_1</th>\n",
              "      <th>BAB_2</th>\n",
              "      <th>FE</th>\n",
              "      <th>FBoB</th>\n",
              "    </tr>\n",
              "  </thead>\n",
              "  <tbody>\n",
              "    <tr>\n",
              "      <th>0</th>\n",
              "      <td>0</td>\n",
              "      <td>1</td>\n",
              "      <td>1</td>\n",
              "      <td>1</td>\n",
              "      <td>0</td>\n",
              "      <td>1</td>\n",
              "      <td>0</td>\n",
              "      <td>1</td>\n",
              "    </tr>\n",
              "    <tr>\n",
              "      <th>1</th>\n",
              "      <td>0</td>\n",
              "      <td>0</td>\n",
              "      <td>0</td>\n",
              "      <td>0</td>\n",
              "      <td>0</td>\n",
              "      <td>1</td>\n",
              "      <td>1</td>\n",
              "      <td>2</td>\n",
              "    </tr>\n",
              "    <tr>\n",
              "      <th>2</th>\n",
              "      <td>0</td>\n",
              "      <td>0</td>\n",
              "      <td>0</td>\n",
              "      <td>0</td>\n",
              "      <td>0</td>\n",
              "      <td>0</td>\n",
              "      <td>1</td>\n",
              "      <td>1</td>\n",
              "    </tr>\n",
              "    <tr>\n",
              "      <th>3</th>\n",
              "      <td>0</td>\n",
              "      <td>0</td>\n",
              "      <td>1</td>\n",
              "      <td>0</td>\n",
              "      <td>0</td>\n",
              "      <td>1</td>\n",
              "      <td>0</td>\n",
              "      <td>1</td>\n",
              "    </tr>\n",
              "    <tr>\n",
              "      <th>4</th>\n",
              "      <td>0</td>\n",
              "      <td>1</td>\n",
              "      <td>1</td>\n",
              "      <td>1</td>\n",
              "      <td>0</td>\n",
              "      <td>1</td>\n",
              "      <td>0</td>\n",
              "      <td>1</td>\n",
              "    </tr>\n",
              "    <tr>\n",
              "      <th>...</th>\n",
              "      <td>...</td>\n",
              "      <td>...</td>\n",
              "      <td>...</td>\n",
              "      <td>...</td>\n",
              "      <td>...</td>\n",
              "      <td>...</td>\n",
              "      <td>...</td>\n",
              "      <td>...</td>\n",
              "    </tr>\n",
              "    <tr>\n",
              "      <th>498</th>\n",
              "      <td>1</td>\n",
              "      <td>0</td>\n",
              "      <td>0</td>\n",
              "      <td>1</td>\n",
              "      <td>1</td>\n",
              "      <td>1</td>\n",
              "      <td>1</td>\n",
              "      <td>0</td>\n",
              "    </tr>\n",
              "    <tr>\n",
              "      <th>499</th>\n",
              "      <td>1</td>\n",
              "      <td>0</td>\n",
              "      <td>0</td>\n",
              "      <td>1</td>\n",
              "      <td>1</td>\n",
              "      <td>1</td>\n",
              "      <td>1</td>\n",
              "      <td>0</td>\n",
              "    </tr>\n",
              "    <tr>\n",
              "      <th>501</th>\n",
              "      <td>0</td>\n",
              "      <td>1</td>\n",
              "      <td>1</td>\n",
              "      <td>0</td>\n",
              "      <td>0</td>\n",
              "      <td>0</td>\n",
              "      <td>1</td>\n",
              "      <td>0</td>\n",
              "    </tr>\n",
              "    <tr>\n",
              "      <th>502</th>\n",
              "      <td>1</td>\n",
              "      <td>0</td>\n",
              "      <td>1</td>\n",
              "      <td>0</td>\n",
              "      <td>0</td>\n",
              "      <td>1</td>\n",
              "      <td>1</td>\n",
              "      <td>2</td>\n",
              "    </tr>\n",
              "    <tr>\n",
              "      <th>503</th>\n",
              "      <td>0</td>\n",
              "      <td>1</td>\n",
              "      <td>1</td>\n",
              "      <td>0</td>\n",
              "      <td>0</td>\n",
              "      <td>0</td>\n",
              "      <td>1</td>\n",
              "      <td>1</td>\n",
              "    </tr>\n",
              "  </tbody>\n",
              "</table>\n",
              "<p>482 rows × 8 columns</p>\n",
              "</div>"
            ],
            "text/plain": [
              "     Demam  Muntah  MK  Nyeri  BAB_1  BAB_2  FE  FBoB\n",
              "0        0       1   1      1      0      1   0     1\n",
              "1        0       0   0      0      0      1   1     2\n",
              "2        0       0   0      0      0      0   1     1\n",
              "3        0       0   1      0      0      1   0     1\n",
              "4        0       1   1      1      0      1   0     1\n",
              "..     ...     ...  ..    ...    ...    ...  ..   ...\n",
              "498      1       0   0      1      1      1   1     0\n",
              "499      1       0   0      1      1      1   1     0\n",
              "501      0       1   1      0      0      0   1     0\n",
              "502      1       0   1      0      0      1   1     2\n",
              "503      0       1   1      0      0      0   1     1\n",
              "\n",
              "[482 rows x 8 columns]"
            ]
          },
          "metadata": {
            "tags": []
          },
          "execution_count": 6
        }
      ]
    },
    {
      "cell_type": "markdown",
      "metadata": {
        "id": "gsjadv2ihCd9"
      },
      "source": [
        "# Learn model"
      ]
    },
    {
      "cell_type": "code",
      "metadata": {
        "id": "nPJolkj5hEp3"
      },
      "source": [
        "def normal():\n",
        "  #Splitting data train and test\n",
        "  X_train, X_test, y_train, y_test = tt(X,y, test_size=0.2, random_state=20)\n",
        "  print(Counter(y_train), '\\n')\n",
        "  \n",
        "  #Proceed model\n",
        "  clf.fit(X_train, y_train)\n",
        "  y_pred = clf.predict(X_test)\n",
        "  print(classification_report(y_test, y_pred))\n",
        "  acc = metrics.accuracy_score(y_test, y_pred)*100\n",
        "  joblib.dump(clf, 'normal.pkl')\n",
        "  plot_confusion_matrix(clf, X_test, y_test)\n",
        "  plt.show()\n",
        "  print('\\n')\n",
        "\n",
        "  #tree viz and tree text\n",
        "  graph= Source(tree.export_graphviz(clf, feature_names=X.columns, class_names=True,\n",
        "                                     filled=True))\n",
        "  display(SVG(graph.pipe(format='svg')))\n",
        "  print('\\n')\n",
        "  tree_root = export_text(clf)\n",
        "  print(tree_root)\n",
        "\n",
        "def over():\n",
        "  #get balanced data sample also splitting data train and test\n",
        "  ros = RandomOverSampler(sampling_strategy='minority')\n",
        "  X_over, y_over = ros.fit_resample(X,y)\n",
        "  X_train, X_test, y_train, y_test = tt(X_over, y_over, test_size=0.2, random_state=8)\n",
        "  print(Counter(y_train))\n",
        "\n",
        "  #proceed model\n",
        "  clf.fit(X_train, y_train)\n",
        "  y_pred = clf.predict(X_test)\n",
        "  print(classification_report(y_test, y_pred))\n",
        "  acc = metrics.accuracy_score(y_test, y_pred)*100\n",
        "  joblib.dump(clf, 'over.pkl')\n",
        "  plot_confusion_matrix(clf, X_test, y_test)\n",
        "  plt.show()\n",
        "  print('\\n')\n",
        "\n",
        "  #tree viz and tree text\n",
        "  graph= Source(tree.export_graphviz(clf, feature_names=X.columns, class_names=True,\n",
        "                                     filled=True))\n",
        "  display(SVG(graph.pipe(format='svg')))\n",
        "  print('\\n')\n",
        "  tree_root = export_text(clf)\n",
        "  print(tree_root)\n",
        "\n",
        "def under():\n",
        "  #get balanced data sample also splitting data train and test\n",
        "  rus = RandomUnderSampler(random_state=8)\n",
        "  X_under, y_under = rus.fit_resample(X,y)\n",
        "  X_train, X_test, y_train, y_test = tt(X_under, y_under, test_size=0.2, random_state=8)\n",
        "  print(Counter(y_train))\n",
        "\n",
        "  #proceed model\n",
        "  clf.fit(X_train, y_train)\n",
        "  y_pred = clf.predict(X_test)\n",
        "  print(classification_report(y_test, y_pred))\n",
        "  acc = metrics.accuracy_score(y_test, y_pred)*100\n",
        "  joblib.dump(clf, 'under.pkl')\n",
        "  plot_confusion_matrix(clf, X_test, y_test)\n",
        "  plt.show()\n",
        "  print('\\n')\n",
        "\n",
        "  #tree viz and tree text\n",
        "  graph= Source(tree.export_graphviz(clf, feature_names=X.columns, class_names=True,\n",
        "                                     filled=True))\n",
        "  display(SVG(graph.pipe(format='svg')))\n",
        "  print('\\n')\n",
        "  tree_root = export_text(clf)\n",
        "  print(tree_root)"
      ],
      "execution_count": 7,
      "outputs": []
    },
    {
      "cell_type": "code",
      "metadata": {
        "colab": {
          "base_uri": "https://localhost:8080/",
          "height": 889
        },
        "id": "LuiCnz3DysPP",
        "outputId": "54a0d951-f4a7-467b-c238-f5de05767492"
      },
      "source": [
        "normal()"
      ],
      "execution_count": 8,
      "outputs": [
        {
          "output_type": "stream",
          "text": [
            "Counter({'Akut': 359, 'Kronis': 26}) \n",
            "\n",
            "              precision    recall  f1-score   support\n",
            "\n",
            "        Akut       1.00      1.00      1.00        92\n",
            "      Kronis       1.00      1.00      1.00         5\n",
            "\n",
            "    accuracy                           1.00        97\n",
            "   macro avg       1.00      1.00      1.00        97\n",
            "weighted avg       1.00      1.00      1.00        97\n",
            "\n"
          ],
          "name": "stdout"
        },
        {
          "output_type": "display_data",
          "data": {
            "image/png": "[encoded data removed]",
            "text/plain": [
              "<Figure size 432x288 with 2 Axes>"
            ]
          },
          "metadata": {
            "tags": [],
            "needs_background": "light"
          }
        },
        {
          "output_type": "stream",
          "text": [
            "\n",
            "\n"
          ],
          "name": "stdout"
        },
        {
          "output_type": "display_data",
          "data": {
            "text/plain": [
              "<IPython.core.display.SVG object>"
            ],
            "image/svg+xml": "<svg height=\"195pt\" viewBox=\"0.00 0.00 238.00 195.00\" width=\"238pt\" xmlns=\"http://www.w3.org/2000/svg\" xmlns:xlink=\"http://www.w3.org/1999/xlink\">\n<g class=\"graph\" id=\"graph0\" transform=\"scale(1 1) rotate(0) translate(4 191)\">\n<title>Tree</title>\n<polygon fill=\"#ffffff\" points=\"-4,4 -4,-191 234,-191 234,4 -4,4\" stroke=\"transparent\"/>\n<!-- 0 -->\n<g class=\"node\" id=\"node1\">\n<title>0</title>\n<polygon fill=\"#e78a47\" points=\"175.5,-187 58.5,-187 58.5,-104 175.5,-104 175.5,-187\" stroke=\"#000000\"/>\n<text fill=\"#000000\" font-family=\"Times,serif\" font-size=\"14.00\" text-anchor=\"middle\" x=\"117\" y=\"-171.8\">BAB_1 &lt;= 0.5</text>\n<text fill=\"#000000\" font-family=\"Times,serif\" font-size=\"14.00\" text-anchor=\"middle\" x=\"117\" y=\"-156.8\">gini = 0.126</text>\n<text fill=\"#000000\" font-family=\"Times,serif\" font-size=\"14.00\" text-anchor=\"middle\" x=\"117\" y=\"-141.8\">samples = 385</text>\n<text fill=\"#000000\" font-family=\"Times,serif\" font-size=\"14.00\" text-anchor=\"middle\" x=\"117\" y=\"-126.8\">value = [359, 26]</text>\n<text fill=\"#000000\" font-family=\"Times,serif\" font-size=\"14.00\" text-anchor=\"middle\" x=\"117\" y=\"-111.8\">class = y[0]</text>\n</g>\n<!-- 1 -->\n<g class=\"node\" id=\"node2\">\n<title>1</title>\n<polygon fill=\"#e58139\" points=\"110,-68 0,-68 0,0 110,0 110,-68\" stroke=\"#000000\"/>\n<text fill=\"#000000\" font-family=\"Times,serif\" font-size=\"14.00\" text-anchor=\"middle\" x=\"55\" y=\"-52.8\">gini = 0.0</text>\n<text fill=\"#000000\" font-family=\"Times,serif\" font-size=\"14.00\" text-anchor=\"middle\" x=\"55\" y=\"-37.8\">samples = 359</text>\n<text fill=\"#000000\" font-family=\"Times,serif\" font-size=\"14.00\" text-anchor=\"middle\" x=\"55\" y=\"-22.8\">value = [359, 0]</text>\n<text fill=\"#000000\" font-family=\"Times,serif\" font-size=\"14.00\" text-anchor=\"middle\" x=\"55\" y=\"-7.8\">class = y[0]</text>\n</g>\n<!-- 0&#45;&gt;1 -->\n<g class=\"edge\" id=\"edge1\">\n<title>0-&gt;1</title>\n<path d=\"M93.9135,-103.9815C89.0585,-95.2504 83.926,-86.0202 79.0371,-77.2281\" fill=\"none\" stroke=\"#000000\"/>\n<polygon fill=\"#000000\" points=\"81.9712,-75.3025 74.0524,-68.2637 75.8533,-78.7043 81.9712,-75.3025\" stroke=\"#000000\"/>\n<text fill=\"#000000\" font-family=\"Times,serif\" font-size=\"14.00\" text-anchor=\"middle\" x=\"67.1936\" y=\"-88.6044\">True</text>\n</g>\n<!-- 2 -->\n<g class=\"node\" id=\"node3\">\n<title>2</title>\n<polygon fill=\"#399de5\" points=\"230,-68 128,-68 128,0 230,0 230,-68\" stroke=\"#000000\"/>\n<text fill=\"#000000\" font-family=\"Times,serif\" font-size=\"14.00\" text-anchor=\"middle\" x=\"179\" y=\"-52.8\">gini = 0.0</text>\n<text fill=\"#000000\" font-family=\"Times,serif\" font-size=\"14.00\" text-anchor=\"middle\" x=\"179\" y=\"-37.8\">samples = 26</text>\n<text fill=\"#000000\" font-family=\"Times,serif\" font-size=\"14.00\" text-anchor=\"middle\" x=\"179\" y=\"-22.8\">value = [0, 26]</text>\n<text fill=\"#000000\" font-family=\"Times,serif\" font-size=\"14.00\" text-anchor=\"middle\" x=\"179\" y=\"-7.8\">class = y[1]</text>\n</g>\n<!-- 0&#45;&gt;2 -->\n<g class=\"edge\" id=\"edge2\">\n<title>0-&gt;2</title>\n<path d=\"M140.0865,-103.9815C144.9415,-95.2504 150.074,-86.0202 154.9629,-77.2281\" fill=\"none\" stroke=\"#000000\"/>\n<polygon fill=\"#000000\" points=\"158.1467,-78.7043 159.9476,-68.2637 152.0288,-75.3025 158.1467,-78.7043\" stroke=\"#000000\"/>\n<text fill=\"#000000\" font-family=\"Times,serif\" font-size=\"14.00\" text-anchor=\"middle\" x=\"166.8064\" y=\"-88.6044\">False</text>\n</g>\n</g>\n</svg>"
          },
          "metadata": {
            "tags": []
          }
        },
        {
          "output_type": "stream",
          "text": [
            "\n",
            "\n",
            "|--- feature_4 <= 0.50\n",
            "|   |--- class: Akut\n",
            "|--- feature_4 >  0.50\n",
            "|   |--- class: Kronis\n",
            "\n"
          ],
          "name": "stdout"
        }
      ]
    },
    {
      "cell_type": "code",
      "metadata": {
        "id": "sbUq9t1SywjA",
        "colab": {
          "base_uri": "https://localhost:8080/",
          "height": 872
        },
        "outputId": "dfc9b719-a057-43f4-ae44-add1493c25f0"
      },
      "source": [
        "over()"
      ],
      "execution_count": 9,
      "outputs": [
        {
          "output_type": "stream",
          "text": [
            "Counter({'Akut': 361, 'Kronis': 360})\n",
            "              precision    recall  f1-score   support\n",
            "\n",
            "        Akut       1.00      1.00      1.00        90\n",
            "      Kronis       1.00      1.00      1.00        91\n",
            "\n",
            "    accuracy                           1.00       181\n",
            "   macro avg       1.00      1.00      1.00       181\n",
            "weighted avg       1.00      1.00      1.00       181\n",
            "\n"
          ],
          "name": "stdout"
        },
        {
          "output_type": "display_data",
          "data": {
            "image/png": "[encoded data removed]",
            "text/plain": [
              "<Figure size 432x288 with 2 Axes>"
            ]
          },
          "metadata": {
            "tags": [],
            "needs_background": "light"
          }
        },
        {
          "output_type": "stream",
          "text": [
            "\n",
            "\n"
          ],
          "name": "stdout"
        },
        {
          "output_type": "display_data",
          "data": {
            "text/plain": [
              "<IPython.core.display.SVG object>"
            ],
            "image/svg+xml": "<svg height=\"195pt\" viewBox=\"0.00 0.00 246.00 195.00\" width=\"246pt\" xmlns=\"http://www.w3.org/2000/svg\" xmlns:xlink=\"http://www.w3.org/1999/xlink\">\n<g class=\"graph\" id=\"graph0\" transform=\"scale(1 1) rotate(0) translate(4 191)\">\n<title>Tree</title>\n<polygon fill=\"#ffffff\" points=\"-4,4 -4,-191 242,-191 242,4 -4,4\" stroke=\"transparent\"/>\n<!-- 0 -->\n<g class=\"node\" id=\"node1\">\n<title>0</title>\n<polygon fill=\"#fffffe\" points=\"181.5,-187 56.5,-187 56.5,-104 181.5,-104 181.5,-187\" stroke=\"#000000\"/>\n<text fill=\"#000000\" font-family=\"Times,serif\" font-size=\"14.00\" text-anchor=\"middle\" x=\"119\" y=\"-171.8\">BAB_1 &lt;= 0.5</text>\n<text fill=\"#000000\" font-family=\"Times,serif\" font-size=\"14.00\" text-anchor=\"middle\" x=\"119\" y=\"-156.8\">gini = 0.5</text>\n<text fill=\"#000000\" font-family=\"Times,serif\" font-size=\"14.00\" text-anchor=\"middle\" x=\"119\" y=\"-141.8\">samples = 721</text>\n<text fill=\"#000000\" font-family=\"Times,serif\" font-size=\"14.00\" text-anchor=\"middle\" x=\"119\" y=\"-126.8\">value = [361, 360]</text>\n<text fill=\"#000000\" font-family=\"Times,serif\" font-size=\"14.00\" text-anchor=\"middle\" x=\"119\" y=\"-111.8\">class = y[0]</text>\n</g>\n<!-- 1 -->\n<g class=\"node\" id=\"node2\">\n<title>1</title>\n<polygon fill=\"#e58139\" points=\"110,-68 0,-68 0,0 110,0 110,-68\" stroke=\"#000000\"/>\n<text fill=\"#000000\" font-family=\"Times,serif\" font-size=\"14.00\" text-anchor=\"middle\" x=\"55\" y=\"-52.8\">gini = 0.0</text>\n<text fill=\"#000000\" font-family=\"Times,serif\" font-size=\"14.00\" text-anchor=\"middle\" x=\"55\" y=\"-37.8\">samples = 361</text>\n<text fill=\"#000000\" font-family=\"Times,serif\" font-size=\"14.00\" text-anchor=\"middle\" x=\"55\" y=\"-22.8\">value = [361, 0]</text>\n<text fill=\"#000000\" font-family=\"Times,serif\" font-size=\"14.00\" text-anchor=\"middle\" x=\"55\" y=\"-7.8\">class = y[0]</text>\n</g>\n<!-- 0&#45;&gt;1 -->\n<g class=\"edge\" id=\"edge1\">\n<title>0-&gt;1</title>\n<path d=\"M95.1688,-103.9815C90.1044,-95.1585 84.7475,-85.8258 79.6532,-76.9506\" fill=\"none\" stroke=\"#000000\"/>\n<polygon fill=\"#000000\" points=\"82.6807,-75.1942 74.667,-68.2637 76.6097,-78.6789 82.6807,-75.1942\" stroke=\"#000000\"/>\n<text fill=\"#000000\" font-family=\"Times,serif\" font-size=\"14.00\" text-anchor=\"middle\" x=\"68.1357\" y=\"-88.6954\">True</text>\n</g>\n<!-- 2 -->\n<g class=\"node\" id=\"node3\">\n<title>2</title>\n<polygon fill=\"#399de5\" points=\"238,-68 128,-68 128,0 238,0 238,-68\" stroke=\"#000000\"/>\n<text fill=\"#000000\" font-family=\"Times,serif\" font-size=\"14.00\" text-anchor=\"middle\" x=\"183\" y=\"-52.8\">gini = 0.0</text>\n<text fill=\"#000000\" font-family=\"Times,serif\" font-size=\"14.00\" text-anchor=\"middle\" x=\"183\" y=\"-37.8\">samples = 360</text>\n<text fill=\"#000000\" font-family=\"Times,serif\" font-size=\"14.00\" text-anchor=\"middle\" x=\"183\" y=\"-22.8\">value = [0, 360]</text>\n<text fill=\"#000000\" font-family=\"Times,serif\" font-size=\"14.00\" text-anchor=\"middle\" x=\"183\" y=\"-7.8\">class = y[1]</text>\n</g>\n<!-- 0&#45;&gt;2 -->\n<g class=\"edge\" id=\"edge2\">\n<title>0-&gt;2</title>\n<path d=\"M142.8312,-103.9815C147.8956,-95.1585 153.2525,-85.8258 158.3468,-76.9506\" fill=\"none\" stroke=\"#000000\"/>\n<polygon fill=\"#000000\" points=\"161.3903,-78.6789 163.333,-68.2637 155.3193,-75.1942 161.3903,-78.6789\" stroke=\"#000000\"/>\n<text fill=\"#000000\" font-family=\"Times,serif\" font-size=\"14.00\" text-anchor=\"middle\" x=\"169.8643\" y=\"-88.6954\">False</text>\n</g>\n</g>\n</svg>"
          },
          "metadata": {
            "tags": []
          }
        },
        {
          "output_type": "stream",
          "text": [
            "\n",
            "\n",
            "|--- feature_4 <= 0.50\n",
            "|   |--- class: Akut\n",
            "|--- feature_4 >  0.50\n",
            "|   |--- class: Kronis\n",
            "\n"
          ],
          "name": "stdout"
        }
      ]
    },
    {
      "cell_type": "code",
      "metadata": {
        "id": "B3bT3HQoyzlK",
        "colab": {
          "base_uri": "https://localhost:8080/",
          "height": 876
        },
        "outputId": "95d7f380-970a-408e-b3bb-2b1f8fb48680"
      },
      "source": [
        "under()"
      ],
      "execution_count": 10,
      "outputs": [
        {
          "output_type": "stream",
          "text": [
            "Counter({'Kronis': 25, 'Akut': 24})\n",
            "              precision    recall  f1-score   support\n",
            "\n",
            "        Akut       1.00      0.86      0.92         7\n",
            "      Kronis       0.86      1.00      0.92         6\n",
            "\n",
            "    accuracy                           0.92        13\n",
            "   macro avg       0.93      0.93      0.92        13\n",
            "weighted avg       0.93      0.92      0.92        13\n",
            "\n"
          ],
          "name": "stdout"
        },
        {
          "output_type": "display_data",
          "data": {
            "image/png": "[encoded data removed]",
            "text/plain": [
              "<Figure size 432x288 with 2 Axes>"
            ]
          },
          "metadata": {
            "tags": [],
            "needs_background": "light"
          }
        },
        {
          "output_type": "stream",
          "text": [
            "\n",
            "\n"
          ],
          "name": "stdout"
        },
        {
          "output_type": "display_data",
          "data": {
            "text/plain": [
              "<IPython.core.display.SVG object>"
            ],
            "image/svg+xml": "<svg height=\"195pt\" viewBox=\"0.00 0.00 230.00 195.00\" width=\"230pt\" xmlns=\"http://www.w3.org/2000/svg\" xmlns:xlink=\"http://www.w3.org/1999/xlink\">\n<g class=\"graph\" id=\"graph0\" transform=\"scale(1 1) rotate(0) translate(4 191)\">\n<title>Tree</title>\n<polygon fill=\"#ffffff\" points=\"-4,4 -4,-191 226,-191 226,4 -4,4\" stroke=\"transparent\"/>\n<!-- 0 -->\n<g class=\"node\" id=\"node1\">\n<title>0</title>\n<polygon fill=\"#f7fbfe\" points=\"166,-187 56,-187 56,-104 166,-104 166,-187\" stroke=\"#000000\"/>\n<text fill=\"#000000\" font-family=\"Times,serif\" font-size=\"14.00\" text-anchor=\"middle\" x=\"111\" y=\"-171.8\">Demam &lt;= 0.5</text>\n<text fill=\"#000000\" font-family=\"Times,serif\" font-size=\"14.00\" text-anchor=\"middle\" x=\"111\" y=\"-156.8\">gini = 0.5</text>\n<text fill=\"#000000\" font-family=\"Times,serif\" font-size=\"14.00\" text-anchor=\"middle\" x=\"111\" y=\"-141.8\">samples = 49</text>\n<text fill=\"#000000\" font-family=\"Times,serif\" font-size=\"14.00\" text-anchor=\"middle\" x=\"111\" y=\"-126.8\">value = [24, 25]</text>\n<text fill=\"#000000\" font-family=\"Times,serif\" font-size=\"14.00\" text-anchor=\"middle\" x=\"111\" y=\"-111.8\">class = y[1]</text>\n</g>\n<!-- 1 -->\n<g class=\"node\" id=\"node2\">\n<title>1</title>\n<polygon fill=\"#e58139\" points=\"102,-68 0,-68 0,0 102,0 102,-68\" stroke=\"#000000\"/>\n<text fill=\"#000000\" font-family=\"Times,serif\" font-size=\"14.00\" text-anchor=\"middle\" x=\"51\" y=\"-52.8\">gini = 0.0</text>\n<text fill=\"#000000\" font-family=\"Times,serif\" font-size=\"14.00\" text-anchor=\"middle\" x=\"51\" y=\"-37.8\">samples = 24</text>\n<text fill=\"#000000\" font-family=\"Times,serif\" font-size=\"14.00\" text-anchor=\"middle\" x=\"51\" y=\"-22.8\">value = [24, 0]</text>\n<text fill=\"#000000\" font-family=\"Times,serif\" font-size=\"14.00\" text-anchor=\"middle\" x=\"51\" y=\"-7.8\">class = y[0]</text>\n</g>\n<!-- 0&#45;&gt;1 -->\n<g class=\"edge\" id=\"edge1\">\n<title>0-&gt;1</title>\n<path d=\"M88.6582,-103.9815C83.9598,-95.2504 78.9929,-86.0202 74.2617,-77.2281\" fill=\"none\" stroke=\"#000000\"/>\n<polygon fill=\"#000000\" points=\"77.2586,-75.4111 69.4379,-68.2637 71.0944,-78.7282 77.2586,-75.4111\" stroke=\"#000000\"/>\n<text fill=\"#000000\" font-family=\"Times,serif\" font-size=\"14.00\" text-anchor=\"middle\" x=\"62.2478\" y=\"-88.5074\">True</text>\n</g>\n<!-- 2 -->\n<g class=\"node\" id=\"node3\">\n<title>2</title>\n<polygon fill=\"#399de5\" points=\"222,-68 120,-68 120,0 222,0 222,-68\" stroke=\"#000000\"/>\n<text fill=\"#000000\" font-family=\"Times,serif\" font-size=\"14.00\" text-anchor=\"middle\" x=\"171\" y=\"-52.8\">gini = 0.0</text>\n<text fill=\"#000000\" font-family=\"Times,serif\" font-size=\"14.00\" text-anchor=\"middle\" x=\"171\" y=\"-37.8\">samples = 25</text>\n<text fill=\"#000000\" font-family=\"Times,serif\" font-size=\"14.00\" text-anchor=\"middle\" x=\"171\" y=\"-22.8\">value = [0, 25]</text>\n<text fill=\"#000000\" font-family=\"Times,serif\" font-size=\"14.00\" text-anchor=\"middle\" x=\"171\" y=\"-7.8\">class = y[1]</text>\n</g>\n<!-- 0&#45;&gt;2 -->\n<g class=\"edge\" id=\"edge2\">\n<title>0-&gt;2</title>\n<path d=\"M133.3418,-103.9815C138.0402,-95.2504 143.0071,-86.0202 147.7383,-77.2281\" fill=\"none\" stroke=\"#000000\"/>\n<polygon fill=\"#000000\" points=\"150.9056,-78.7282 152.5621,-68.2637 144.7414,-75.4111 150.9056,-78.7282\" stroke=\"#000000\"/>\n<text fill=\"#000000\" font-family=\"Times,serif\" font-size=\"14.00\" text-anchor=\"middle\" x=\"159.7522\" y=\"-88.5074\">False</text>\n</g>\n</g>\n</svg>"
          },
          "metadata": {
            "tags": []
          }
        },
        {
          "output_type": "stream",
          "text": [
            "\n",
            "\n",
            "|--- feature_0 <= 0.50\n",
            "|   |--- class: Akut\n",
            "|--- feature_0 >  0.50\n",
            "|   |--- class: Kronis\n",
            "\n"
          ],
          "name": "stdout"
        }
      ]
    },
    {
      "cell_type": "markdown",
      "metadata": {
        "id": "zmNW30L1rgtC"
      },
      "source": [
        "# Test Predict start here"
      ]
    },
    {
      "cell_type": "code",
      "metadata": {
        "id": "7LR0WoFxrfWI"
      },
      "source": [
        "def test_normal():\n",
        "  while True:\n",
        "    class CustomException(Exception):\n",
        "      pass #print('Please input integer between 0 and 2')\n",
        "\n",
        "    try:\n",
        "      print('======================================================')\n",
        "      print('\\t\\t\\t START')\n",
        "      print('======================================================')\n",
        "      de = int(input('\\n  kondisi demam. 1 untuk ya, 0 untuk tidak: '))\n",
        "      if de > 1 or de < 0:\n",
        "        raise AssertionError\n",
        "\n",
        "      mu = int(input('\\n  kondisi muntah. 1 untuk ya, 0 untuk tidak: '))\n",
        "      if mu > 1 or mu < 0:\n",
        "        raise AssertionError\n",
        "      \n",
        "      mk = int(input('\\n  kondisi mulut kering. 1 untuk ya, 0 untuk tidak: '))\n",
        "      if mk > 1 or mk < 0:\n",
        "        raise AssertionError\n",
        "      \n",
        "      ny = int(input('\\n  kondisi nyeri di perut. 1 untuk ya, 0 untuk tidak: '))\n",
        "      if ny > 1 or ny < 0:\n",
        "        raise AssertionError\n",
        "      \n",
        "      bab1 = int(input('\\n  kondisi BAB lebih dari 2 minggu. 1 untuk ya, 0 untuk tidak: '))\n",
        "      if bab1 > 1 or bab1 < 0:\n",
        "        raise AssertionError\n",
        "      \n",
        "      bab2 = int(input('\\n  kondisi BAB lebih dari 3x sehari. 1 untuk ya, 0 untuk tidak: '))\n",
        "      if bab2 > 1 or bab2 < 0:\n",
        "        raise AssertionError\n",
        "      \n",
        "      fe = int(input('\\n  kondisi feses encer. 1 untuk ya, 0 untuk tidak: '))\n",
        "      if fe > 1 or fe < 0:\n",
        "        raise AssertionError\n",
        "      \n",
        "      fb = int(input('\\n  kondisi feses berdarah atau berlendir. 2 untuk tidak sama sekali, 1 untuk berlendir, 0 untuk berdarah: '))\n",
        "      if fb > 2 or fb < 0:\n",
        "        raise CustomException\n",
        "      break\n",
        "    except ValueError:\n",
        "      print('Please input integer only...')\n",
        "    except AssertionError:\n",
        "      print('Please input integer between 1 or 0')\n",
        "    except CustomException:\n",
        "      print('Please input integer between 0 and 2')\n",
        "      continue\n",
        "\n",
        "  pred = [[de,mu,mk,ny,bab1,bab2,fe,fb]]\n",
        "  print('\\n  Binary Input',pred)\n",
        "\n",
        "  load_model = joblib.load('normal.pkl')\n",
        "  result=(load_model.predict(pred))\n",
        "  print('\\n  Result:',result)\n",
        "  print('======================================================')\n",
        "  print('\\t\\t\\t END')\n",
        "  print('======================================================')\n",
        "\n",
        "#test_normal()"
      ],
      "execution_count": 11,
      "outputs": []
    },
    {
      "cell_type": "code",
      "metadata": {
        "id": "Jt1qBxZ-FAiA"
      },
      "source": [
        "def test_over():\n",
        "  while True:\n",
        "    class CustomException(Exception):\n",
        "      pass\n",
        "\n",
        "    try:\n",
        "      print('======================================================')\n",
        "      print('\\t\\t\\t START')\n",
        "      print('======================================================')\n",
        "      de = int(input('\\n  kondisi demam. 1 untuk ya, 0 untuk tidak: '))\n",
        "      if de > 1 or de < 0:\n",
        "        raise AssertionError\n",
        "\n",
        "      mu = int(input('\\n  kondisi muntah. 1 untuk ya, 0 untuk tidak: '))\n",
        "      if mu > 1 or mu < 0:\n",
        "        raise AssertionError\n",
        "      \n",
        "      mk = int(input('\\n  kondisi mulut kering. 1 untuk ya, 0 untuk tidak: '))\n",
        "      if mk > 1 or mk < 0:\n",
        "        raise AssertionError\n",
        "      \n",
        "      ny = int(input('\\n  kondisi nyeri di perut. 1 untuk ya, 0 untuk tidak: '))\n",
        "      if ny > 1 or ny < 0:\n",
        "        raise AssertionError\n",
        "      \n",
        "      bab1 = int(input('\\n  kondisi BAB lebih dari 2 minggu. 1 untuk ya, 0 untuk tidak: '))\n",
        "      if bab1 > 1 or bab1 < 0:\n",
        "        raise AssertionError\n",
        "      \n",
        "      bab2 = int(input('\\n  kondisi BAB lebih dari 3x sehari. 1 untuk ya, 0 untuk tidak: '))\n",
        "      if bab2 > 1 or bab2 < 0:\n",
        "        raise AssertionError\n",
        "      \n",
        "      fe = int(input('\\n  kondisi feses encer. 1 untuk ya, 0 untuk tidak: '))\n",
        "      if fe > 1 or fe < 0:\n",
        "        raise AssertionError\n",
        "      \n",
        "      fb = int(input('\\n  kondisi feses berdarah atau berlendir. 2 untuk tidak sama sekali, 1 untuk berlendir, 0 untuk berdarah: '))\n",
        "      if fb > 2 or fb < 0:\n",
        "        raise CustomException\n",
        "      break\n",
        "    except ValueError:\n",
        "      print('Please input integer only...')\n",
        "    except AssertionError:\n",
        "      print('Please input integer between 1 or 0')\n",
        "    except CustomException:\n",
        "      print('Please input integer between 0 and 2')\n",
        "      continue\n",
        "\n",
        "  pred = [[de,mu,mk,ny,bab1,bab2,fe,fb]]\n",
        "  print('\\n  Binary Input',pred)\n",
        "\n",
        "  load_model = joblib.load('over.pkl')\n",
        "  result=(load_model.predict(pred))\n",
        "  print('\\n  Result:',result)\n",
        "  print('======================================================')\n",
        "  print('\\t\\t\\t END')\n",
        "  print('======================================================')\n",
        "\n",
        "#test_over()"
      ],
      "execution_count": 12,
      "outputs": []
    },
    {
      "cell_type": "code",
      "metadata": {
        "id": "Rh9qZcmkFFwc"
      },
      "source": [
        "def test_under():\n",
        "  while True:\n",
        "    class CustomException(Exception):\n",
        "      pass\n",
        "      \n",
        "    try:\n",
        "      print('======================================================')\n",
        "      print('\\t\\t\\t START')\n",
        "      print('======================================================')\n",
        "      de = int(input('\\n  kondisi demam. 1 untuk ya, 0 untuk tidak: '))\n",
        "      if de > 1 or de < 0:\n",
        "        raise AssertionError\n",
        "\n",
        "      mu = int(input('\\n  kondisi muntah. 1 untuk ya, 0 untuk tidak: '))\n",
        "      if mu > 1 or mu < 0:\n",
        "        raise AssertionError\n",
        "      \n",
        "      mk = int(input('\\n  kondisi mulut kering. 1 untuk ya, 0 untuk tidak: '))\n",
        "      if mk > 1 or mk < 0:\n",
        "        raise AssertionError\n",
        "      \n",
        "      ny = int(input('\\n  kondisi nyeri di perut. 1 untuk ya, 0 untuk tidak: '))\n",
        "      if ny > 1 or ny < 0:\n",
        "        raise AssertionError\n",
        "      \n",
        "      bab1 = int(input('\\n  kondisi BAB lebih dari 2 minggu. 1 untuk ya, 0 untuk tidak: '))\n",
        "      if bab1 > 1 or bab1 < 0:\n",
        "        raise AssertionError\n",
        "      \n",
        "      bab2 = int(input('\\n  kondisi BAB lebih dari 3x sehari. 1 untuk ya, 0 untuk tidak: '))\n",
        "      if bab2 > 1 or bab2 < 0:\n",
        "        raise AssertionError\n",
        "      \n",
        "      fe = int(input('\\n  kondisi feses encer. 1 untuk ya, 0 untuk tidak: '))\n",
        "      if fe > 1 or fe < 0:\n",
        "        raise AssertionError\n",
        "      \n",
        "      fb = int(input('\\n  kondisi feses berdarah atau berlendir. 2 untuk tidak sama sekali, 1 untuk berlendir, 0 untuk berdarah: '))\n",
        "      if fb > 2 or fb < 0:\n",
        "        raise CustomException\n",
        "      break\n",
        "    except ValueError:\n",
        "      print('Please input integer only...')\n",
        "    except AssertionError:\n",
        "      print('Please input integer between 1 or 0')\n",
        "    except CustomException:\n",
        "      print('Please input integer between 0 and 2')\n",
        "      continue\n",
        "\n",
        "  pred = [[de,mu,mk,ny,bab1,bab2,fe,fb]]\n",
        "  print('\\n  Binary Input',pred)\n",
        "\n",
        "  load_model = joblib.load('under.pkl')\n",
        "  result=(load_model.predict(pred))\n",
        "  print('\\n  Result:',result)\n",
        "  print('======================================================')\n",
        "  print('\\t\\t\\t END')\n",
        "  print('======================================================')\n",
        "\n",
        "\n",
        "#test_under()"
      ],
      "execution_count": 13,
      "outputs": []
    },
    {
      "cell_type": "markdown",
      "metadata": {
        "id": "mYcLv7kQkuXz"
      },
      "source": [
        "# Misc"
      ]
    },
    {
      "cell_type": "code",
      "metadata": {
        "id": "Y3fy0ZMPeAdD",
        "colab": {
          "base_uri": "https://localhost:8080/"
        },
        "outputId": "f7fd5cc9-9af9-4815-fe69-6c5c4497a3ce"
      },
      "source": [
        "def fast_n():\n",
        "  predfast = [[0,1,1,1,1,1,1,0]]\n",
        "  model = joblib.load('normal.pkl')\n",
        "  hasil = (model.predict(predfast))\n",
        "\n",
        "  print('\\n Prediksi normal', hasil)\n",
        "fast_n()\n",
        "\n",
        "def fast_o():\n",
        "  predfast = [[0,1,1,1,1,1,1,0]]\n",
        "  model = joblib.load('over.pkl')\n",
        "  hasil = (model.predict(predfast))\n",
        "\n",
        "  print('\\n Prediksi over', hasil)\n",
        "fast_o()\n",
        "\n",
        "def fast_u():\n",
        "  predfast = [[0,1,1,1,1,1,1,0]]\n",
        "  model = joblib.load('under.pkl')\n",
        "  hasil = (model.predict(predfast))\n",
        "\n",
        "  print('\\n Prediksi under', hasil)\n",
        "fast_u()"
      ],
      "execution_count": 14,
      "outputs": [
        {
          "output_type": "stream",
          "text": [
            "\n",
            " Prediksi normal ['Kronis']\n",
            "\n",
            " Prediksi over ['Kronis']\n",
            "\n",
            " Prediksi under ['Akut']\n"
          ],
          "name": "stdout"
        }
      ]
    },
    {
      "cell_type": "code",
      "metadata": {
        "colab": {
          "base_uri": "https://localhost:8080/"
        },
        "id": "MVsVROl9lGnF",
        "outputId": "8ca9d415-aff6-418b-d9eb-f402fd75c25e"
      },
      "source": [
        "\n",
        "def counter():\n",
        "  le = LabelEncoder()\n",
        "  clf= DecisionTreeClassifier(criterion='gini')\n",
        "  X = data.drop(columns='Diare')\n",
        "  y  = data['Diare']\n",
        "\n",
        "  #applying label encoder untuk tiap atribut predictor\n",
        "  X = X.apply(le.fit_transform)\n",
        "  X_train, X_test, y_train, y_test = tt(X,y, test_size=0.2, random_state=20)\n",
        "  print('Normal')\n",
        "  print(Counter(y_train), 'Train' )\n",
        "  print(Counter(y_test), 'Test')\n",
        "\n",
        "  ros = RandomOverSampler(sampling_strategy='minority')\n",
        "  X_over, y_over = ros.fit_resample(X,y)\n",
        "  XX_train, XX_test, yy_train, yy_test = tt(X_over, y_over, test_size=0.2, random_state=8)\n",
        "  print( '\\nOversampling')\n",
        "  print(Counter(yy_train), 'Train' )\n",
        "  print(Counter(yy_test), 'Test')\n",
        "\n",
        "  rus = RandomUnderSampler(random_state=8)\n",
        "  X_under, y_under = rus.fit_resample(X,y)\n",
        "  XXX_train, XXX_test, yyy_train, yyy_test = tt(X_under, y_under, test_size=0.2, random_state=8)\n",
        "  print('\\nUndersampling')\n",
        "  print(Counter(yyy_train), 'Train' )\n",
        "  print(Counter(yyy_test), 'Test')\n",
        "\n",
        "counter()"
      ],
      "execution_count": 15,
      "outputs": [
        {
          "output_type": "stream",
          "text": [
            "Normal\n",
            "Counter({'Akut': 359, 'Kronis': 26}) Train\n",
            "Counter({'Akut': 92, 'Kronis': 5}) Test\n",
            "\n",
            "Oversampling\n",
            "Counter({'Akut': 361, 'Kronis': 360}) Train\n",
            "Counter({'Kronis': 91, 'Akut': 90}) Test\n",
            "\n",
            "Undersampling\n",
            "Counter({'Kronis': 25, 'Akut': 24}) Train\n",
            "Counter({'Akut': 7, 'Kronis': 6}) Test\n"
          ],
          "name": "stdout"
        }
      ]
    },
    {
      "cell_type": "code",
      "metadata": {
        "colab": {
          "base_uri": "https://localhost:8080/"
        },
        "id": "XybITTS9KAqH",
        "outputId": "954cb6de-d039-453c-f8bd-ce5097848128"
      },
      "source": [
        "def sample():\n",
        "  le = LabelEncoder()\n",
        "  clf= DecisionTreeClassifier(criterion='gini')\n",
        "  X = data.drop(columns='Diare')\n",
        "  y  = data['Diare']\n",
        "  rus = RandomUnderSampler(random_state=8)\n",
        "  X_under, y_under = rus.fit_resample(X,y)\n",
        "  XXX_train, XXX_test, yyy_train, yyy_test = tt(X_under, y_under, test_size=0.2, random_state=8)\n",
        "  print('\\nUndersampling')\n",
        "  print(XXX_test)\n",
        "\n",
        "\n",
        "def sampleNormal():\n",
        "  le = LabelEncoder()\n",
        "  clf= DecisionTreeClassifier(criterion='gini')\n",
        "  X = data.drop(columns='Diare')\n",
        "  y  = data['Diare']\n",
        "  X = X.apply(le.fit_transform)\n",
        "  X_train, X_test, y_train, y_test = tt(X,y, test_size = 0.2, random_state=8)\n",
        "  print(X_test.head(60))\n",
        "\n",
        "sampleNormal()"
      ],
      "execution_count": 53,
      "outputs": [
        {
          "output_type": "stream",
          "text": [
            "     Demam  Muntah  MK  Nyeri  BAB_1  BAB_2  FE  FBoB\n",
            "89       0       1   1      1      0      0   1     2\n",
            "335      0       1   0      1      0      1   0     1\n",
            "8        0       0   1      0      0      1   1     2\n",
            "258      0       0   0      0      0      1   1     0\n",
            "168      0       0   0      0      0      1   1     0\n",
            "41       1       1   0      1      1      1   1     0\n",
            "120      0       1   0      1      0      1   1     2\n",
            "130      1       1   0      0      0      0   1     0\n",
            "0        0       1   1      1      0      1   0     1\n",
            "300      0       1   1      1      0      0   1     1\n",
            "315      0       0   1      0      0      1   1     1\n",
            "273      0       1   1      0      0      0   1     1\n",
            "383      0       0   0      1      0      1   1     1\n",
            "214      0       0   1      1      0      1   1     1\n",
            "107      0       1   0      0      0      0   1     1\n",
            "128      0       0   0      1      0      0   1     1\n",
            "27       0       1   1      0      0      0   1     1\n",
            "308      1       0   1      0      0      1   1     0\n",
            "424      0       1   1      0      0      1   1     1\n",
            "132      0       0   0      0      0      1   1     0\n",
            "78       0       1   0      1      0      1   0     1\n",
            "412      0       1   1      0      0      0   1     2\n",
            "66       0       1   1      1      0      1   1     1\n",
            "484      0       1   1      0      0      0   1     2\n",
            "153      0       0   0      1      0      1   1     2\n",
            "413      1       0   0      1      0      0   1     2\n",
            "385      0       1   1      1      0      0   1     2\n",
            "200      0       1   0      1      0      1   1     1\n",
            "181      0       0   1      1      0      0   1     1\n",
            "56       0       0   0      0      0      1   1     2\n",
            "199      0       0   1      0      0      1   1     1\n",
            "142      0       1   1      1      0      0   1     0\n",
            "97       0       0   1      1      0      0   1     1\n",
            "379      0       1   1      0      0      1   0     2\n",
            "297      0       1   1      0      0      1   1     0\n",
            "64       0       0   0      0      0      1   0     0\n",
            "465      0       1   1      1      0      0   1     0\n",
            "312      0       1   0      0      0      1   1     2\n",
            "92       0       0   0      1      0      1   1     1\n",
            "262      0       1   1      1      0      0   1     1\n",
            "477      0       1   0      0      0      0   1     0\n",
            "299      0       0   0      1      0      0   1     1\n",
            "460      0       1   1      1      0      1   1     2\n",
            "68       0       0   1      1      0      1   1     0\n",
            "473      0       0   1      1      0      0   1     1\n",
            "422      0       1   0      1      0      1   1     2\n",
            "247      0       1   0      1      0      0   1     1\n",
            "103      0       1   1      1      0      1   1     1\n",
            "426      0       1   1      1      0      0   1     1\n",
            "228      0       1   0      1      0      0   1     2\n",
            "196      0       1   0      1      0      1   1     1\n",
            "302      0       1   1      0      0      1   0     2\n",
            "177      0       1   1      0      0      0   1     0\n",
            "489      0       0   0      1      0      1   0     1\n",
            "250      0       1   1      1      0      1   0     2\n",
            "284      0       0   0      0      0      1   1     0\n",
            "285      0       1   1      0      0      1   1     2\n",
            "418      0       0   1      0      0      1   1     1\n",
            "167      0       1   1      1      0      1   0     2\n",
            "448      0       0   0      1      0      0   1     0\n"
          ],
          "name": "stdout"
        }
      ]
    }
  ]
}