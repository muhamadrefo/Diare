{
  "nbformat": 4,
  "nbformat_minor": 0,
  "metadata": {
    "colab": {
      "name": "Diare v3.1.ipynb",
      "provenance": [],
      "collapsed_sections": [
        "qYjkeRH26cND"
      ],
      "authorship_tag": "ABX9TyOwmCx82Seab0Qqbfk+ln0U"
    },
    "kernelspec": {
      "name": "python3",
      "display_name": "Python 3"
    }
  },
  "cells": [
    {
      "cell_type": "markdown",
      "metadata": {
        "id": "qYjkeRH26cND"
      },
      "source": [
        "#PreProcessing"
      ]
    },
    {
      "cell_type": "code",
      "metadata": {
        "colab": {
          "base_uri": "https://localhost:8080/"
        },
        "id": "7bMf81Mh6Ae4",
        "outputId": "8cd3d320-ce70-4d60-877f-3e0b2ac34129"
      },
      "source": [
        "from google.colab import drive\r\n",
        "drive.mount('/content/drive')"
      ],
      "execution_count": null,
      "outputs": [
        {
          "output_type": "stream",
          "text": [
            "Mounted at /content/drive\n"
          ],
          "name": "stdout"
        }
      ]
    },
    {
      "cell_type": "code",
      "metadata": {
        "colab": {
          "base_uri": "https://localhost:8080/"
        },
        "id": "Hk33a9UU6a8S",
        "outputId": "d54290f5-f92c-4a4e-9da9-655da46e9aed"
      },
      "source": [
        "%cd /content/drive/MyDrive/Dataset/Diarrhea\r\n",
        "%ls"
      ],
      "execution_count": null,
      "outputs": [
        {
          "output_type": "stream",
          "text": [
            "/content/drive/MyDrive/Dataset/Diarrhea\n",
            " Diare.csv      dummy2.csv   golf_df.csv               MuaraBeliti.csv\n",
            " Diarrhea.csv   dummy.csv   'Laporan Diare 2019.xls'   tree.dot\n"
          ],
          "name": "stdout"
        }
      ]
    },
    {
      "cell_type": "code",
      "metadata": {
        "id": "1TchEbAF6jBJ"
      },
      "source": [
        "import csv\r\n",
        "import pandas as pd\r\n",
        "\r\n",
        "data= pd.read_csv('Diare.csv')\r\n",
        "data= data.dropna() #drop all missing data\r\n",
        "data.describe()"
      ],
      "execution_count": null,
      "outputs": []
    },
    {
      "cell_type": "code",
      "metadata": {
        "id": "QrtunLe-7BQB"
      },
      "source": [
        "#Rename Column\r\n",
        "data = data.rename(columns={'Nyeri di Perut':'Nyeri',\r\n",
        "                                    'Mulut Kering':'MK',\r\n",
        "                                    'BAB lebih dari 2 minggu':'BAB_1',\r\n",
        "                                    'BAB lebih dari 3x Sehari':'BAB_2',\r\n",
        "                                    'Feses Encer':'FE',\r\n",
        "                                    'Feses Berdarah/Berlendir':'FBoB'})\r\n",
        "data"
      ],
      "execution_count": null,
      "outputs": []
    },
    {
      "cell_type": "code",
      "metadata": {
        "colab": {
          "base_uri": "https://localhost:8080/"
        },
        "id": "UbG3ivYQ7X65",
        "outputId": "4f0fe0d7-4538-400d-f8e5-a6be92c25614"
      },
      "source": [
        "#Check Pembagian tiap target class\r\n",
        "import matplotlib.pyplot as plt\r\n",
        "%matplotlib inline\r\n",
        "import seaborn as sns\r\n",
        "\r\n",
        "sns.countplot(x = data['Diare'])\r\n",
        "plt.title('Data Pembagian Kelas Diare')\r\n",
        "plt.xlabel('Jenis Diare')\r\n",
        "plt.ylabel('Frekuensi')"
      ],
      "execution_count": null,
      "outputs": [
        {
          "output_type": "execute_result",
          "data": {
            "text/plain": [
              "Text(0, 0.5, 'Frekuensi')"
            ]
          },
          "metadata": {
            "tags": []
          },
          "execution_count": 9
        },
        {
          "output_type": "display_data",
          "data": {
            "image/png": "[encoded data removed]",
            "text/plain": [
              "<Figure size 432x288 with 1 Axes>"
            ]
          },
          "metadata": {
            "tags": [],
            "needs_background": "light"
          }
        }
      ]
    },
    {
      "cell_type": "markdown",
      "metadata": {
        "id": "FsgQSUw49Lcr"
      },
      "source": [
        "# Proceed Normal Learning Model"
      ]
    },
    {
      "cell_type": "code",
      "metadata": {
        "colab": {
          "base_uri": "https://localhost:8080/"
        },
        "id": "A9a0Weeh9HMU",
        "outputId": "b5bcea2f-1657-4016-f6a3-33ce729d3c21"
      },
      "source": [
        "from sklearn.tree import DecisionTreeClassifier\r\n",
        "from sklearn.model_selection import train_test_split as tt\r\n",
        "from sklearn.metrics import confusion_matrix, plot_confusion_matrix, classification_report\r\n",
        "from sklearn.preprocessing import LabelEncoder\r\n",
        "\r\n",
        "#Encode using LabelEncoder\r\n",
        "le = LabelEncoder()\r\n",
        "data= data.apply(le.fit_transform)\r\n",
        "\r\n",
        "#Split data train and test\r\n",
        "X = data.drop(columns='Diare')\r\n",
        "y = data['Diare']\r\n",
        "\r\n",
        "X_train, X_test, y_train, y_test = tt(X,y, test_size = 0.3, random_state=16)"
      ],
      "execution_count": null,
      "outputs": [
        {
          "output_type": "execute_result",
          "data": {
            "text/plain": [
              "DecisionTreeClassifier(ccp_alpha=0.0, class_weight=None, criterion='gini',\n",
              "                       max_depth=None, max_features=None, max_leaf_nodes=None,\n",
              "                       min_impurity_decrease=0.0, min_impurity_split=None,\n",
              "                       min_samples_leaf=1, min_samples_split=2,\n",
              "                       min_weight_fraction_leaf=0.0, presort='deprecated',\n",
              "                       random_state=None, splitter='best')"
            ]
          },
          "metadata": {
            "tags": []
          },
          "execution_count": 36
        }
      ]
    },
    {
      "cell_type": "code",
      "metadata": {
        "colab": {
          "base_uri": "https://localhost:8080/",
          "height": 438
        },
        "id": "rHie-dpgAkzL",
        "outputId": "36421feb-9fe2-41e7-851e-e947abed8575"
      },
      "source": [
        "#learning model using imbalanced dataset\r\n",
        "model1 = DecisionTreeClassifier(criterion='gini') #using default position\r\n",
        "model1.fit(X_train, y_train)\r\n",
        "\r\n",
        "#Test data report\r\n",
        "y_pred = model1.predict(X_test)\r\n",
        "print(classification_report(y_test,y_pred))\r\n",
        "plot_confusion_matrix(model1, X_test, y_test)\r\n",
        "plt.show()"
      ],
      "execution_count": null,
      "outputs": [
        {
          "output_type": "stream",
          "text": [
            "              precision    recall  f1-score   support\n",
            "\n",
            "           0       1.00      1.00      1.00       133\n",
            "           1       1.00      1.00      1.00        12\n",
            "\n",
            "    accuracy                           1.00       145\n",
            "   macro avg       1.00      1.00      1.00       145\n",
            "weighted avg       1.00      1.00      1.00       145\n",
            "\n"
          ],
          "name": "stdout"
        },
        {
          "output_type": "display_data",
          "data": {
            "image/png": "[encoded data removed]",
            "text/plain": [
              "<Figure size 432x288 with 2 Axes>"
            ]
          },
          "metadata": {
            "tags": [],
            "needs_background": "light"
          }
        }
      ]
    },
    {
      "cell_type": "code",
      "metadata": {
        "colab": {
          "base_uri": "https://localhost:8080/",
          "height": 287
        },
        "id": "qe3pa1YMBTl4",
        "outputId": "4a1c9348-9696-4350-fe5c-c09d729da121"
      },
      "source": [
        "#Searching every randomstate hoping there's one or two values that not 100% accurate\r\n",
        "import numpy as np\r\n",
        "\r\n",
        "def search():\r\n",
        "  clf = DecisionTreeClassifier(criterion='gini')\r\n",
        "  with open('search.csv', 'w') as f:\r\n",
        "    writer = csv.writer(f)\r\n",
        "    writer.writerow(['RandomState', 'Accuracy Training'])\r\n",
        "    for rs in range(100):\r\n",
        "      X_train, X_test, y_train, y_test = tt(X,y, test_size = 0.3, random_state= rs+1)\r\n",
        "      clf.fit(X_train, y_train)\r\n",
        "      y_pred = clf.predict(X_test)\r\n",
        "      acc = (np.sum(y_pred == y_test)/y_test.size)*100\r\n",
        "      writer.writerow([str(rs+1), str(acc)])\r\n",
        "\r\n",
        "search()\r\n",
        "hasil = pd.read_csv('search.csv')\r\n",
        "hasil.describe()"
      ],
      "execution_count": null,
      "outputs": [
        {
          "output_type": "execute_result",
          "data": {
            "text/html": [
              "<div>\n",
              "<style scoped>\n",
              "    .dataframe tbody tr th:only-of-type {\n",
              "        vertical-align: middle;\n",
              "    }\n",
              "\n",
              "    .dataframe tbody tr th {\n",
              "        vertical-align: top;\n",
              "    }\n",
              "\n",
              "    .dataframe thead th {\n",
              "        text-align: right;\n",
              "    }\n",
              "</style>\n",
              "<table border=\"1\" class=\"dataframe\">\n",
              "  <thead>\n",
              "    <tr style=\"text-align: right;\">\n",
              "      <th></th>\n",
              "      <th>RandomState</th>\n",
              "      <th>Accuracy Training</th>\n",
              "    </tr>\n",
              "  </thead>\n",
              "  <tbody>\n",
              "    <tr>\n",
              "      <th>count</th>\n",
              "      <td>100.000000</td>\n",
              "      <td>100.0</td>\n",
              "    </tr>\n",
              "    <tr>\n",
              "      <th>mean</th>\n",
              "      <td>50.500000</td>\n",
              "      <td>100.0</td>\n",
              "    </tr>\n",
              "    <tr>\n",
              "      <th>std</th>\n",
              "      <td>29.011492</td>\n",
              "      <td>0.0</td>\n",
              "    </tr>\n",
              "    <tr>\n",
              "      <th>min</th>\n",
              "      <td>1.000000</td>\n",
              "      <td>100.0</td>\n",
              "    </tr>\n",
              "    <tr>\n",
              "      <th>25%</th>\n",
              "      <td>25.750000</td>\n",
              "      <td>100.0</td>\n",
              "    </tr>\n",
              "    <tr>\n",
              "      <th>50%</th>\n",
              "      <td>50.500000</td>\n",
              "      <td>100.0</td>\n",
              "    </tr>\n",
              "    <tr>\n",
              "      <th>75%</th>\n",
              "      <td>75.250000</td>\n",
              "      <td>100.0</td>\n",
              "    </tr>\n",
              "    <tr>\n",
              "      <th>max</th>\n",
              "      <td>100.000000</td>\n",
              "      <td>100.0</td>\n",
              "    </tr>\n",
              "  </tbody>\n",
              "</table>\n",
              "</div>"
            ],
            "text/plain": [
              "       RandomState  Accuracy Training\n",
              "count   100.000000              100.0\n",
              "mean     50.500000              100.0\n",
              "std      29.011492                0.0\n",
              "min       1.000000              100.0\n",
              "25%      25.750000              100.0\n",
              "50%      50.500000              100.0\n",
              "75%      75.250000              100.0\n",
              "max     100.000000              100.0"
            ]
          },
          "metadata": {
            "tags": []
          },
          "execution_count": 49
        }
      ]
    },
    {
      "cell_type": "markdown",
      "metadata": {
        "id": "BcDrBDXAE4Wv"
      },
      "source": [
        "# Proceed Undersampling for balanced data sample"
      ]
    },
    {
      "cell_type": "code",
      "metadata": {
        "id": "nb-ksw6EE2rZ",
        "colab": {
          "base_uri": "https://localhost:8080/"
        },
        "outputId": "660bd4ad-0cba-4e8f-d052-509f74a40663"
      },
      "source": [
        "from imblearn.under_sampling import RandomUnderSampler\r\n",
        "from sklearn.pipeline import Pipeline\r\n",
        "from collections import Counter\r\n",
        "\r\n",
        "rus = RandomUnderSampler(random_state=8)\r\n",
        "X_sam, y_sam = rus.fit_sample(X,y)\r\n",
        "print(Counter(y_sam))"
      ],
      "execution_count": 50,
      "outputs": [
        {
          "output_type": "stream",
          "text": [
            "Counter({0: 31, 1: 31})\n"
          ],
          "name": "stdout"
        },
        {
          "output_type": "stream",
          "text": [
            "/usr/local/lib/python3.6/dist-packages/sklearn/utils/deprecation.py:87: FutureWarning: Function safe_indexing is deprecated; safe_indexing is deprecated in version 0.22 and will be removed in version 0.24.\n",
            "  warnings.warn(msg, category=FutureWarning)\n"
          ],
          "name": "stderr"
        }
      ]
    },
    {
      "cell_type": "code",
      "metadata": {
        "colab": {
          "base_uri": "https://localhost:8080/",
          "height": 438
        },
        "id": "e-LagUTcIYRc",
        "outputId": "35277b69-dd2a-4965-a7c6-ded1d5d5b5fa"
      },
      "source": [
        "#splitting data sample\r\n",
        "X_train, X_test, y_train, y_test = tt(X_sam, y_sam, test_size=0.3, random_state=8)\r\n",
        "\r\n",
        "#Create Classifier\r\n",
        "model2 = DecisionTreeClassifier(criterion='gini')\r\n",
        "model2.fit(X_train, y_train)\r\n",
        "y_pred = model2.predict(X_test)\r\n",
        "print(classification_report(y_test, y_pred))\r\n",
        "plot_confusion_matrix(model2, X_test, y_test)\r\n",
        "plt.show()"
      ],
      "execution_count": 53,
      "outputs": [
        {
          "output_type": "stream",
          "text": [
            "              precision    recall  f1-score   support\n",
            "\n",
            "           0       1.00      1.00      1.00         8\n",
            "           1       1.00      1.00      1.00        11\n",
            "\n",
            "    accuracy                           1.00        19\n",
            "   macro avg       1.00      1.00      1.00        19\n",
            "weighted avg       1.00      1.00      1.00        19\n",
            "\n"
          ],
          "name": "stdout"
        },
        {
          "output_type": "display_data",
          "data": {
            "image/png": "[encoded data removed]",
            "text/plain": [
              "<Figure size 432x288 with 2 Axes>"
            ]
          },
          "metadata": {
            "tags": [],
            "needs_background": "light"
          }
        }
      ]
    },
    {
      "cell_type": "code",
      "metadata": {
        "colab": {
          "base_uri": "https://localhost:8080/",
          "height": 287
        },
        "id": "Sm8JPVmsJWHL",
        "outputId": "a6449e6c-575b-4c5a-b314-0c2faf235e20"
      },
      "source": [
        "#searching throung 100 randomstate as same as normal run before\r\n",
        "\r\n",
        "def search2():\r\n",
        "  clf = DecisionTreeClassifier(criterion='gini')\r\n",
        "  with open('search2.csv', 'w') as f:\r\n",
        "    writer = csv.writer(f)\r\n",
        "    writer.writerow(['RandomState', 'Accuracy Training'])\r\n",
        "    for rs in range(100):\r\n",
        "      X_train, X_test, y_train, y_test = tt(X_sam,y_sam, test_size = 0.3, random_state= rs+1)\r\n",
        "      clf.fit(X_train, y_train)\r\n",
        "      y_pred = clf.predict(X_test)\r\n",
        "      acc = (np.sum(y_pred == y_test)/y_test.size)*100\r\n",
        "      writer.writerow([str(rs+1), str(acc)])\r\n",
        "\r\n",
        "search2()\r\n",
        "hasil2 = pd.read_csv('search2.csv')\r\n",
        "hasil2.describe()"
      ],
      "execution_count": 55,
      "outputs": [
        {
          "output_type": "execute_result",
          "data": {
            "text/html": [
              "<div>\n",
              "<style scoped>\n",
              "    .dataframe tbody tr th:only-of-type {\n",
              "        vertical-align: middle;\n",
              "    }\n",
              "\n",
              "    .dataframe tbody tr th {\n",
              "        vertical-align: top;\n",
              "    }\n",
              "\n",
              "    .dataframe thead th {\n",
              "        text-align: right;\n",
              "    }\n",
              "</style>\n",
              "<table border=\"1\" class=\"dataframe\">\n",
              "  <thead>\n",
              "    <tr style=\"text-align: right;\">\n",
              "      <th></th>\n",
              "      <th>RandomState</th>\n",
              "      <th>Accuracy Training</th>\n",
              "    </tr>\n",
              "  </thead>\n",
              "  <tbody>\n",
              "    <tr>\n",
              "      <th>count</th>\n",
              "      <td>100.000000</td>\n",
              "      <td>100.000000</td>\n",
              "    </tr>\n",
              "    <tr>\n",
              "      <th>mean</th>\n",
              "      <td>50.500000</td>\n",
              "      <td>99.473684</td>\n",
              "    </tr>\n",
              "    <tr>\n",
              "      <th>std</th>\n",
              "      <td>29.011492</td>\n",
              "      <td>1.586902</td>\n",
              "    </tr>\n",
              "    <tr>\n",
              "      <th>min</th>\n",
              "      <td>1.000000</td>\n",
              "      <td>94.736842</td>\n",
              "    </tr>\n",
              "    <tr>\n",
              "      <th>25%</th>\n",
              "      <td>25.750000</td>\n",
              "      <td>100.000000</td>\n",
              "    </tr>\n",
              "    <tr>\n",
              "      <th>50%</th>\n",
              "      <td>50.500000</td>\n",
              "      <td>100.000000</td>\n",
              "    </tr>\n",
              "    <tr>\n",
              "      <th>75%</th>\n",
              "      <td>75.250000</td>\n",
              "      <td>100.000000</td>\n",
              "    </tr>\n",
              "    <tr>\n",
              "      <th>max</th>\n",
              "      <td>100.000000</td>\n",
              "      <td>100.000000</td>\n",
              "    </tr>\n",
              "  </tbody>\n",
              "</table>\n",
              "</div>"
            ],
            "text/plain": [
              "       RandomState  Accuracy Training\n",
              "count   100.000000         100.000000\n",
              "mean     50.500000          99.473684\n",
              "std      29.011492           1.586902\n",
              "min       1.000000          94.736842\n",
              "25%      25.750000         100.000000\n",
              "50%      50.500000         100.000000\n",
              "75%      75.250000         100.000000\n",
              "max     100.000000         100.000000"
            ]
          },
          "metadata": {
            "tags": []
          },
          "execution_count": 55
        }
      ]
    },
    {
      "cell_type": "markdown",
      "metadata": {
        "id": "nDYiaw51E-nr"
      },
      "source": [
        "# Proceed Oversampling (SMOTE) for balanced data sample"
      ]
    },
    {
      "cell_type": "code",
      "metadata": {
        "id": "Tallx-M8FDUV",
        "colab": {
          "base_uri": "https://localhost:8080/"
        },
        "outputId": "0107405e-09ed-47ee-a34f-163146374d9e"
      },
      "source": [
        "from imblearn.over_sampling import SMOTE\r\n",
        "\r\n",
        "over = SMOTE()\r\n",
        "X_samp, y_samp = over.fit_sample(X,y)\r\n",
        "print(Counter(y_samp))"
      ],
      "execution_count": 56,
      "outputs": [
        {
          "output_type": "stream",
          "text": [
            "Counter({0: 451, 1: 451})\n"
          ],
          "name": "stdout"
        },
        {
          "output_type": "stream",
          "text": [
            "/usr/local/lib/python3.6/dist-packages/sklearn/utils/deprecation.py:87: FutureWarning: Function safe_indexing is deprecated; safe_indexing is deprecated in version 0.22 and will be removed in version 0.24.\n",
            "  warnings.warn(msg, category=FutureWarning)\n"
          ],
          "name": "stderr"
        }
      ]
    },
    {
      "cell_type": "code",
      "metadata": {
        "colab": {
          "base_uri": "https://localhost:8080/",
          "height": 438
        },
        "id": "-1guHYwEKgE7",
        "outputId": "be4f61ed-7e6d-4727-eb0a-4a62ab001955"
      },
      "source": [
        "#splitting data sample\r\n",
        "X_train, X_test, y_train, y_test = tt(X_samp, y_samp, test_size=0.3, random_state=8)\r\n",
        "\r\n",
        "#Create Classifier\r\n",
        "model3 = DecisionTreeClassifier(criterion='gini')\r\n",
        "model3.fit(X_train, y_train)\r\n",
        "y_pred = model3.predict(X_test)\r\n",
        "print(classification_report(y_test, y_pred))\r\n",
        "plot_confusion_matrix(model3, X_test, y_test)\r\n",
        "plt.show()"
      ],
      "execution_count": 57,
      "outputs": [
        {
          "output_type": "stream",
          "text": [
            "              precision    recall  f1-score   support\n",
            "\n",
            "           0       1.00      1.00      1.00       122\n",
            "           1       1.00      1.00      1.00       149\n",
            "\n",
            "    accuracy                           1.00       271\n",
            "   macro avg       1.00      1.00      1.00       271\n",
            "weighted avg       1.00      1.00      1.00       271\n",
            "\n"
          ],
          "name": "stdout"
        },
        {
          "output_type": "display_data",
          "data": {
            "image/png": "[encoded data removed]",
            "text/plain": [
              "<Figure size 432x288 with 2 Axes>"
            ]
          },
          "metadata": {
            "tags": [],
            "needs_background": "light"
          }
        }
      ]
    },
    {
      "cell_type": "code",
      "metadata": {
        "colab": {
          "base_uri": "https://localhost:8080/",
          "height": 287
        },
        "id": "4y1s3PlqKrFd",
        "outputId": "673da1ff-1411-46b7-d9c9-6e4ad25b685f"
      },
      "source": [
        "#searching throung 100 randomstate as same as normal run before\r\n",
        "\r\n",
        "def search3():\r\n",
        "  clf = DecisionTreeClassifier(criterion='gini')\r\n",
        "  with open('search3.csv', 'w') as f:\r\n",
        "    writer = csv.writer(f)\r\n",
        "    writer.writerow(['RandomState', 'Accuracy Training'])\r\n",
        "    for rs in range(100):\r\n",
        "      X_train, X_test, y_train, y_test = tt(X_samp,y_samp, test_size = 0.3, random_state= rs+1)\r\n",
        "      clf.fit(X_train, y_train)\r\n",
        "      y_pred = clf.predict(X_test)\r\n",
        "      acc = (np.sum(y_pred == y_test)/y_test.size)*100\r\n",
        "      writer.writerow([str(rs+1), str(acc)])\r\n",
        "\r\n",
        "search2()\r\n",
        "hasil2 = pd.read_csv('search2.csv')\r\n",
        "hasil2.describe()"
      ],
      "execution_count": 58,
      "outputs": [
        {
          "output_type": "execute_result",
          "data": {
            "text/html": [
              "<div>\n",
              "<style scoped>\n",
              "    .dataframe tbody tr th:only-of-type {\n",
              "        vertical-align: middle;\n",
              "    }\n",
              "\n",
              "    .dataframe tbody tr th {\n",
              "        vertical-align: top;\n",
              "    }\n",
              "\n",
              "    .dataframe thead th {\n",
              "        text-align: right;\n",
              "    }\n",
              "</style>\n",
              "<table border=\"1\" class=\"dataframe\">\n",
              "  <thead>\n",
              "    <tr style=\"text-align: right;\">\n",
              "      <th></th>\n",
              "      <th>RandomState</th>\n",
              "      <th>Accuracy Training</th>\n",
              "    </tr>\n",
              "  </thead>\n",
              "  <tbody>\n",
              "    <tr>\n",
              "      <th>count</th>\n",
              "      <td>100.000000</td>\n",
              "      <td>100.000000</td>\n",
              "    </tr>\n",
              "    <tr>\n",
              "      <th>mean</th>\n",
              "      <td>50.500000</td>\n",
              "      <td>99.263158</td>\n",
              "    </tr>\n",
              "    <tr>\n",
              "      <th>std</th>\n",
              "      <td>29.011492</td>\n",
              "      <td>1.835448</td>\n",
              "    </tr>\n",
              "    <tr>\n",
              "      <th>min</th>\n",
              "      <td>1.000000</td>\n",
              "      <td>94.736842</td>\n",
              "    </tr>\n",
              "    <tr>\n",
              "      <th>25%</th>\n",
              "      <td>25.750000</td>\n",
              "      <td>100.000000</td>\n",
              "    </tr>\n",
              "    <tr>\n",
              "      <th>50%</th>\n",
              "      <td>50.500000</td>\n",
              "      <td>100.000000</td>\n",
              "    </tr>\n",
              "    <tr>\n",
              "      <th>75%</th>\n",
              "      <td>75.250000</td>\n",
              "      <td>100.000000</td>\n",
              "    </tr>\n",
              "    <tr>\n",
              "      <th>max</th>\n",
              "      <td>100.000000</td>\n",
              "      <td>100.000000</td>\n",
              "    </tr>\n",
              "  </tbody>\n",
              "</table>\n",
              "</div>"
            ],
            "text/plain": [
              "       RandomState  Accuracy Training\n",
              "count   100.000000         100.000000\n",
              "mean     50.500000          99.263158\n",
              "std      29.011492           1.835448\n",
              "min       1.000000          94.736842\n",
              "25%      25.750000         100.000000\n",
              "50%      50.500000         100.000000\n",
              "75%      75.250000         100.000000\n",
              "max     100.000000         100.000000"
            ]
          },
          "metadata": {
            "tags": []
          },
          "execution_count": 58
        }
      ]
    },
    {
      "cell_type": "markdown",
      "metadata": {
        "id": "CpQQglIVLEG7"
      },
      "source": [
        "# Visualization Tree"
      ]
    },
    {
      "cell_type": "code",
      "metadata": {
        "colab": {
          "base_uri": "https://localhost:8080/",
          "height": 241
        },
        "id": "nWccDBaYLGeB",
        "outputId": "53603975-697c-4154-bf1e-0bcc2c16f715"
      },
      "source": [
        "from sklearn import tree\r\n",
        "from sklearn.tree import export_graphviz\r\n",
        "tree.export_graphviz(model1, out_file='tree.dot')\r\n",
        "from graphviz import Source\r\n",
        "from IPython.display import display, SVG\r\n",
        "\r\n",
        "graph = Source(tree.export_graphviz(model1, filled = True))\r\n",
        "display(SVG(graph.pipe(format='svg')))"
      ],
      "execution_count": 61,
      "outputs": [
        {
          "output_type": "display_data",
          "data": {
            "text/plain": [
              "<IPython.core.display.SVG object>"
            ],
            "image/svg+xml": "<svg height=\"165pt\" viewBox=\"0.00 0.00 238.00 165.00\" width=\"238pt\" xmlns=\"http://www.w3.org/2000/svg\" xmlns:xlink=\"http://www.w3.org/1999/xlink\">\n<g class=\"graph\" id=\"graph0\" transform=\"scale(1 1) rotate(0) translate(4 161)\">\n<title>Tree</title>\n<polygon fill=\"#ffffff\" points=\"-4,4 -4,-161 234,-161 234,4 -4,4\" stroke=\"transparent\"/>\n<!-- 0 -->\n<g class=\"node\" id=\"node1\">\n<title>0</title>\n<polygon fill=\"#e78945\" points=\"175.5,-157 58.5,-157 58.5,-89 175.5,-89 175.5,-157\" stroke=\"#000000\"/>\n<text fill=\"#000000\" font-family=\"Times,serif\" font-size=\"14.00\" text-anchor=\"middle\" x=\"117\" y=\"-141.8\">X[4] &lt;= 0.5</text>\n<text fill=\"#000000\" font-family=\"Times,serif\" font-size=\"14.00\" text-anchor=\"middle\" x=\"117\" y=\"-126.8\">gini = 0.106</text>\n<text fill=\"#000000\" font-family=\"Times,serif\" font-size=\"14.00\" text-anchor=\"middle\" x=\"117\" y=\"-111.8\">samples = 337</text>\n<text fill=\"#000000\" font-family=\"Times,serif\" font-size=\"14.00\" text-anchor=\"middle\" x=\"117\" y=\"-96.8\">value = [318, 19]</text>\n</g>\n<!-- 1 -->\n<g class=\"node\" id=\"node2\">\n<title>1</title>\n<polygon fill=\"#e58139\" points=\"110,-53 0,-53 0,0 110,0 110,-53\" stroke=\"#000000\"/>\n<text fill=\"#000000\" font-family=\"Times,serif\" font-size=\"14.00\" text-anchor=\"middle\" x=\"55\" y=\"-37.8\">gini = 0.0</text>\n<text fill=\"#000000\" font-family=\"Times,serif\" font-size=\"14.00\" text-anchor=\"middle\" x=\"55\" y=\"-22.8\">samples = 318</text>\n<text fill=\"#000000\" font-family=\"Times,serif\" font-size=\"14.00\" text-anchor=\"middle\" x=\"55\" y=\"-7.8\">value = [318, 0]</text>\n</g>\n<!-- 0&#45;&gt;1 -->\n<g class=\"edge\" id=\"edge1\">\n<title>0-&gt;1</title>\n<path d=\"M95.1411,-88.9777C89.4932,-80.187 83.4007,-70.7044 77.7104,-61.8477\" fill=\"none\" stroke=\"#000000\"/>\n<polygon fill=\"#000000\" points=\"80.5356,-59.7698 72.1856,-53.2485 74.6463,-63.5536 80.5356,-59.7698\" stroke=\"#000000\"/>\n<text fill=\"#000000\" font-family=\"Times,serif\" font-size=\"14.00\" text-anchor=\"middle\" x=\"66.8684\" y=\"-73.9765\">True</text>\n</g>\n<!-- 2 -->\n<g class=\"node\" id=\"node3\">\n<title>2</title>\n<polygon fill=\"#399de5\" points=\"230,-53 128,-53 128,0 230,0 230,-53\" stroke=\"#000000\"/>\n<text fill=\"#000000\" font-family=\"Times,serif\" font-size=\"14.00\" text-anchor=\"middle\" x=\"179\" y=\"-37.8\">gini = 0.0</text>\n<text fill=\"#000000\" font-family=\"Times,serif\" font-size=\"14.00\" text-anchor=\"middle\" x=\"179\" y=\"-22.8\">samples = 19</text>\n<text fill=\"#000000\" font-family=\"Times,serif\" font-size=\"14.00\" text-anchor=\"middle\" x=\"179\" y=\"-7.8\">value = [0, 19]</text>\n</g>\n<!-- 0&#45;&gt;2 -->\n<g class=\"edge\" id=\"edge2\">\n<title>0-&gt;2</title>\n<path d=\"M138.8589,-88.9777C144.5068,-80.187 150.5993,-70.7044 156.2896,-61.8477\" fill=\"none\" stroke=\"#000000\"/>\n<polygon fill=\"#000000\" points=\"159.3537,-63.5536 161.8144,-53.2485 153.4644,-59.7698 159.3537,-63.5536\" stroke=\"#000000\"/>\n<text fill=\"#000000\" font-family=\"Times,serif\" font-size=\"14.00\" text-anchor=\"middle\" x=\"167.1316\" y=\"-73.9765\">False</text>\n</g>\n</g>\n</svg>"
          },
          "metadata": {
            "tags": []
          }
        }
      ]
    },
    {
      "cell_type": "code",
      "metadata": {
        "colab": {
          "base_uri": "https://localhost:8080/",
          "height": 241
        },
        "id": "CeYF6KERL_5Q",
        "outputId": "be328cb3-24ef-429f-f54f-2097f34e9998"
      },
      "source": [
        "tree.export_graphviz(model2, out_file='tree.dot')\r\n",
        "graph = Source(tree.export_graphviz(model2, filled = True))\r\n",
        "display(SVG(graph.pipe(format='svg')))"
      ],
      "execution_count": 62,
      "outputs": [
        {
          "output_type": "display_data",
          "data": {
            "text/plain": [
              "<IPython.core.display.SVG object>"
            ],
            "image/svg+xml": "<svg height=\"165pt\" viewBox=\"0.00 0.00 230.00 165.00\" width=\"230pt\" xmlns=\"http://www.w3.org/2000/svg\" xmlns:xlink=\"http://www.w3.org/1999/xlink\">\n<g class=\"graph\" id=\"graph0\" transform=\"scale(1 1) rotate(0) translate(4 161)\">\n<title>Tree</title>\n<polygon fill=\"#ffffff\" points=\"-4,4 -4,-161 226,-161 226,4 -4,4\" stroke=\"transparent\"/>\n<!-- 0 -->\n<g class=\"node\" id=\"node1\">\n<title>0</title>\n<polygon fill=\"#fcefe5\" points=\"166,-157 56,-157 56,-89 166,-89 166,-157\" stroke=\"#000000\"/>\n<text fill=\"#000000\" font-family=\"Times,serif\" font-size=\"14.00\" text-anchor=\"middle\" x=\"111\" y=\"-141.8\">X[4] &lt;= 0.5</text>\n<text fill=\"#000000\" font-family=\"Times,serif\" font-size=\"14.00\" text-anchor=\"middle\" x=\"111\" y=\"-126.8\">gini = 0.498</text>\n<text fill=\"#000000\" font-family=\"Times,serif\" font-size=\"14.00\" text-anchor=\"middle\" x=\"111\" y=\"-111.8\">samples = 43</text>\n<text fill=\"#000000\" font-family=\"Times,serif\" font-size=\"14.00\" text-anchor=\"middle\" x=\"111\" y=\"-96.8\">value = [23, 20]</text>\n</g>\n<!-- 1 -->\n<g class=\"node\" id=\"node2\">\n<title>1</title>\n<polygon fill=\"#e58139\" points=\"102,-53 0,-53 0,0 102,0 102,-53\" stroke=\"#000000\"/>\n<text fill=\"#000000\" font-family=\"Times,serif\" font-size=\"14.00\" text-anchor=\"middle\" x=\"51\" y=\"-37.8\">gini = 0.0</text>\n<text fill=\"#000000\" font-family=\"Times,serif\" font-size=\"14.00\" text-anchor=\"middle\" x=\"51\" y=\"-22.8\">samples = 23</text>\n<text fill=\"#000000\" font-family=\"Times,serif\" font-size=\"14.00\" text-anchor=\"middle\" x=\"51\" y=\"-7.8\">value = [23, 0]</text>\n</g>\n<!-- 0&#45;&gt;1 -->\n<g class=\"edge\" id=\"edge1\">\n<title>0-&gt;1</title>\n<path d=\"M89.8462,-88.9777C84.3805,-80.187 78.4846,-70.7044 72.9778,-61.8477\" fill=\"none\" stroke=\"#000000\"/>\n<polygon fill=\"#000000\" points=\"75.8837,-59.8927 67.6312,-53.2485 69.9391,-63.5889 75.8837,-59.8927\" stroke=\"#000000\"/>\n<text fill=\"#000000\" font-family=\"Times,serif\" font-size=\"14.00\" text-anchor=\"middle\" x=\"61.9529\" y=\"-73.8951\">True</text>\n</g>\n<!-- 2 -->\n<g class=\"node\" id=\"node3\">\n<title>2</title>\n<polygon fill=\"#399de5\" points=\"222,-53 120,-53 120,0 222,0 222,-53\" stroke=\"#000000\"/>\n<text fill=\"#000000\" font-family=\"Times,serif\" font-size=\"14.00\" text-anchor=\"middle\" x=\"171\" y=\"-37.8\">gini = 0.0</text>\n<text fill=\"#000000\" font-family=\"Times,serif\" font-size=\"14.00\" text-anchor=\"middle\" x=\"171\" y=\"-22.8\">samples = 20</text>\n<text fill=\"#000000\" font-family=\"Times,serif\" font-size=\"14.00\" text-anchor=\"middle\" x=\"171\" y=\"-7.8\">value = [0, 20]</text>\n</g>\n<!-- 0&#45;&gt;2 -->\n<g class=\"edge\" id=\"edge2\">\n<title>0-&gt;2</title>\n<path d=\"M132.1538,-88.9777C137.6195,-80.187 143.5154,-70.7044 149.0222,-61.8477\" fill=\"none\" stroke=\"#000000\"/>\n<polygon fill=\"#000000\" points=\"152.0609,-63.5889 154.3688,-53.2485 146.1163,-59.8927 152.0609,-63.5889\" stroke=\"#000000\"/>\n<text fill=\"#000000\" font-family=\"Times,serif\" font-size=\"14.00\" text-anchor=\"middle\" x=\"160.0471\" y=\"-73.8951\">False</text>\n</g>\n</g>\n</svg>"
          },
          "metadata": {
            "tags": []
          }
        }
      ]
    },
    {
      "cell_type": "code",
      "metadata": {
        "colab": {
          "base_uri": "https://localhost:8080/",
          "height": 241
        },
        "id": "ZUHOVzwEMKih",
        "outputId": "6f10d191-f897-4b33-ee8c-5a66f2e3c6ca"
      },
      "source": [
        "tree.export_graphviz(model3, out_file='tree.dot')\r\n",
        "graph = Source(tree.export_graphviz(model3, filled = True))\r\n",
        "display(SVG(graph.pipe(format='svg')))"
      ],
      "execution_count": 63,
      "outputs": [
        {
          "output_type": "display_data",
          "data": {
            "text/plain": [
              "<IPython.core.display.SVG object>"
            ],
            "image/svg+xml": "<svg height=\"165pt\" viewBox=\"0.00 0.00 246.00 165.00\" width=\"246pt\" xmlns=\"http://www.w3.org/2000/svg\" xmlns:xlink=\"http://www.w3.org/1999/xlink\">\n<g class=\"graph\" id=\"graph0\" transform=\"scale(1 1) rotate(0) translate(4 161)\">\n<title>Tree</title>\n<polygon fill=\"#ffffff\" points=\"-4,4 -4,-161 242,-161 242,4 -4,4\" stroke=\"transparent\"/>\n<!-- 0 -->\n<g class=\"node\" id=\"node1\">\n<title>0</title>\n<polygon fill=\"#fdf5ef\" points=\"181.5,-157 56.5,-157 56.5,-89 181.5,-89 181.5,-157\" stroke=\"#000000\"/>\n<text fill=\"#000000\" font-family=\"Times,serif\" font-size=\"14.00\" text-anchor=\"middle\" x=\"119\" y=\"-141.8\">X[4] &lt;= 0.5</text>\n<text fill=\"#000000\" font-family=\"Times,serif\" font-size=\"14.00\" text-anchor=\"middle\" x=\"119\" y=\"-126.8\">gini = 0.499</text>\n<text fill=\"#000000\" font-family=\"Times,serif\" font-size=\"14.00\" text-anchor=\"middle\" x=\"119\" y=\"-111.8\">samples = 631</text>\n<text fill=\"#000000\" font-family=\"Times,serif\" font-size=\"14.00\" text-anchor=\"middle\" x=\"119\" y=\"-96.8\">value = [329, 302]</text>\n</g>\n<!-- 1 -->\n<g class=\"node\" id=\"node2\">\n<title>1</title>\n<polygon fill=\"#e58139\" points=\"110,-53 0,-53 0,0 110,0 110,-53\" stroke=\"#000000\"/>\n<text fill=\"#000000\" font-family=\"Times,serif\" font-size=\"14.00\" text-anchor=\"middle\" x=\"55\" y=\"-37.8\">gini = 0.0</text>\n<text fill=\"#000000\" font-family=\"Times,serif\" font-size=\"14.00\" text-anchor=\"middle\" x=\"55\" y=\"-22.8\">samples = 329</text>\n<text fill=\"#000000\" font-family=\"Times,serif\" font-size=\"14.00\" text-anchor=\"middle\" x=\"55\" y=\"-7.8\">value = [329, 0]</text>\n</g>\n<!-- 0&#45;&gt;1 -->\n<g class=\"edge\" id=\"edge1\">\n<title>0-&gt;1</title>\n<path d=\"M96.436,-88.9777C90.6059,-80.187 84.3169,-70.7044 78.443,-61.8477\" fill=\"none\" stroke=\"#000000\"/>\n<polygon fill=\"#000000\" points=\"81.1838,-59.6478 72.7399,-53.2485 75.3502,-63.5167 81.1838,-59.6478\" stroke=\"#000000\"/>\n<text fill=\"#000000\" font-family=\"Times,serif\" font-size=\"14.00\" text-anchor=\"middle\" x=\"67.7783\" y=\"-74.0512\">True</text>\n</g>\n<!-- 2 -->\n<g class=\"node\" id=\"node3\">\n<title>2</title>\n<polygon fill=\"#399de5\" points=\"238,-53 128,-53 128,0 238,0 238,-53\" stroke=\"#000000\"/>\n<text fill=\"#000000\" font-family=\"Times,serif\" font-size=\"14.00\" text-anchor=\"middle\" x=\"183\" y=\"-37.8\">gini = 0.0</text>\n<text fill=\"#000000\" font-family=\"Times,serif\" font-size=\"14.00\" text-anchor=\"middle\" x=\"183\" y=\"-22.8\">samples = 302</text>\n<text fill=\"#000000\" font-family=\"Times,serif\" font-size=\"14.00\" text-anchor=\"middle\" x=\"183\" y=\"-7.8\">value = [0, 302]</text>\n</g>\n<!-- 0&#45;&gt;2 -->\n<g class=\"edge\" id=\"edge2\">\n<title>0-&gt;2</title>\n<path d=\"M141.564,-88.9777C147.3941,-80.187 153.6831,-70.7044 159.557,-61.8477\" fill=\"none\" stroke=\"#000000\"/>\n<polygon fill=\"#000000\" points=\"162.6498,-63.5167 165.2601,-53.2485 156.8162,-59.6478 162.6498,-63.5167\" stroke=\"#000000\"/>\n<text fill=\"#000000\" font-family=\"Times,serif\" font-size=\"14.00\" text-anchor=\"middle\" x=\"170.2217\" y=\"-74.0512\">False</text>\n</g>\n</g>\n</svg>"
          },
          "metadata": {
            "tags": []
          }
        }
      ]
    }
  ]
}