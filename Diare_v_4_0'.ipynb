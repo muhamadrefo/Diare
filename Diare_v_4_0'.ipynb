{
  "nbformat": 4,
  "nbformat_minor": 0,
  "metadata": {
    "colab": {
      "name": "Diare v.4.0'.ipynb",
      "provenance": [],
      "collapsed_sections": [],
      "authorship_tag": "ABX9TyNhhjbkPq3sTlOV3+CX61rl"
    },
    "kernelspec": {
      "name": "python3",
      "display_name": "Python 3"
    }
  },
  "cells": [
    {
      "cell_type": "markdown",
      "metadata": {
        "id": "zNETeOQwg85I"
      },
      "source": [
        "# Preprocessing"
      ]
    },
    {
      "cell_type": "code",
      "metadata": {
        "colab": {
          "base_uri": "https://localhost:8080/"
        },
        "id": "Kw_UVGBKgJ_R",
        "outputId": "71cc69f8-a2b0-4578-b1f8-870943ea6601"
      },
      "source": [
        "from google.colab import drive\r\n",
        "drive.mount('/content/drive')"
      ],
      "execution_count": 1,
      "outputs": [
        {
          "output_type": "stream",
          "text": [
            "Drive already mounted at /content/drive; to attempt to forcibly remount, call drive.mount(\"/content/drive\", force_remount=True).\n"
          ],
          "name": "stdout"
        }
      ]
    },
    {
      "cell_type": "code",
      "metadata": {
        "colab": {
          "base_uri": "https://localhost:8080/"
        },
        "id": "rlr3LNDQg6qM",
        "outputId": "fc8c58e6-85c1-4ee7-a80e-d561628cf559"
      },
      "source": [
        "%cd /content/drive/MyDrive/Dataset/Diarrhea\r\n",
        "%ls"
      ],
      "execution_count": 2,
      "outputs": [
        {
          "output_type": "stream",
          "text": [
            "/content/drive/MyDrive/Dataset/Diarrhea\n",
            " cos1.dot     Diare.csv   golf_df.csv               search3.csv   tree3.dot\n",
            " cusdm1.csv   dm01.csv   'Laporan Diare 2019.xls'   search4.csv   tree4.dot\n",
            " cusdm2.csv   dm02.csv    savecsv.csv               search.csv    tree.dot\n",
            " cusdm3.csv   dm03.csv    search2.csv               tree2.dot\n"
          ],
          "name": "stdout"
        }
      ]
    },
    {
      "cell_type": "code",
      "metadata": {
        "colab": {
          "base_uri": "https://localhost:8080/",
          "height": 391
        },
        "id": "BnLzUMtnhXre",
        "outputId": "eef61df5-dd4f-44b7-90a2-662c0f030ee8"
      },
      "source": [
        "import csv\r\n",
        "import joblib\r\n",
        "%matplotlib inline\r\n",
        "import numpy as np\r\n",
        "import pandas as pd\r\n",
        "import seaborn as sns\r\n",
        "from sklearn import tree\r\n",
        "from sklearn import metrics\r\n",
        "from graphviz import Source\r\n",
        "import matplotlib.pyplot as plt\r\n",
        "from collections import Counter\r\n",
        "from warnings import simplefilter\r\n",
        "from sklearn.tree import export_text\r\n",
        "from sklearn.pipeline import Pipeline\r\n",
        "from sklearn.tree import export_graphviz\r\n",
        "from imblearn.over_sampling import SMOTE\r\n",
        "from IPython.display import display, SVG\r\n",
        "from sklearn.preprocessing import LabelEncoder\r\n",
        "from sklearn.tree import DecisionTreeClassifier\r\n",
        "from imblearn.over_sampling import RandomOverSampler\r\n",
        "from imblearn.under_sampling import RandomUnderSampler\r\n",
        "from sklearn.model_selection import train_test_split as tt\r\n",
        "from sklearn.metrics import confusion_matrix, plot_confusion_matrix, classification_report\r\n",
        "\r\n",
        "#ignore all future warning\r\n",
        "simplefilter(action='ignore', category=FutureWarning)\r\n",
        "da= pd.read_csv('Diare.csv')\r\n",
        "da"
      ],
      "execution_count": 13,
      "outputs": [
        {
          "output_type": "execute_result",
          "data": {
            "text/html": [
              "<div>\n",
              "<style scoped>\n",
              "    .dataframe tbody tr th:only-of-type {\n",
              "        vertical-align: middle;\n",
              "    }\n",
              "\n",
              "    .dataframe tbody tr th {\n",
              "        vertical-align: top;\n",
              "    }\n",
              "\n",
              "    .dataframe thead th {\n",
              "        text-align: right;\n",
              "    }\n",
              "</style>\n",
              "<table border=\"1\" class=\"dataframe\">\n",
              "  <thead>\n",
              "    <tr style=\"text-align: right;\">\n",
              "      <th></th>\n",
              "      <th>Demam</th>\n",
              "      <th>Muntah</th>\n",
              "      <th>Mulut Kering</th>\n",
              "      <th>Nyeri di Perut</th>\n",
              "      <th>BAB lebih dari 2 minggu</th>\n",
              "      <th>BAB lebih dari 3x Sehari</th>\n",
              "      <th>Feses Encer</th>\n",
              "      <th>Feses Berdarah/Berlendir</th>\n",
              "      <th>Diare</th>\n",
              "    </tr>\n",
              "  </thead>\n",
              "  <tbody>\n",
              "    <tr>\n",
              "      <th>0</th>\n",
              "      <td>Tidak</td>\n",
              "      <td>Ya</td>\n",
              "      <td>Ya</td>\n",
              "      <td>Ya</td>\n",
              "      <td>Tidak</td>\n",
              "      <td>Ya</td>\n",
              "      <td>Tidak</td>\n",
              "      <td>Berlendir</td>\n",
              "      <td>Akut</td>\n",
              "    </tr>\n",
              "    <tr>\n",
              "      <th>1</th>\n",
              "      <td>Tidak</td>\n",
              "      <td>Tidak</td>\n",
              "      <td>Tidak</td>\n",
              "      <td>Tidak</td>\n",
              "      <td>Tidak</td>\n",
              "      <td>Ya</td>\n",
              "      <td>Ya</td>\n",
              "      <td>Tidak</td>\n",
              "      <td>Akut</td>\n",
              "    </tr>\n",
              "    <tr>\n",
              "      <th>2</th>\n",
              "      <td>Tidak</td>\n",
              "      <td>Tidak</td>\n",
              "      <td>Tidak</td>\n",
              "      <td>Tidak</td>\n",
              "      <td>Tidak</td>\n",
              "      <td>Tidak</td>\n",
              "      <td>Ya</td>\n",
              "      <td>Berlendir</td>\n",
              "      <td>Akut</td>\n",
              "    </tr>\n",
              "    <tr>\n",
              "      <th>3</th>\n",
              "      <td>Tidak</td>\n",
              "      <td>Tidak</td>\n",
              "      <td>Ya</td>\n",
              "      <td>Tidak</td>\n",
              "      <td>Tidak</td>\n",
              "      <td>Ya</td>\n",
              "      <td>Tidak</td>\n",
              "      <td>Berlendir</td>\n",
              "      <td>Akut</td>\n",
              "    </tr>\n",
              "    <tr>\n",
              "      <th>4</th>\n",
              "      <td>Tidak</td>\n",
              "      <td>Ya</td>\n",
              "      <td>Ya</td>\n",
              "      <td>Ya</td>\n",
              "      <td>Tidak</td>\n",
              "      <td>Ya</td>\n",
              "      <td>Tidak</td>\n",
              "      <td>Berlendir</td>\n",
              "      <td>Akut</td>\n",
              "    </tr>\n",
              "    <tr>\n",
              "      <th>...</th>\n",
              "      <td>...</td>\n",
              "      <td>...</td>\n",
              "      <td>...</td>\n",
              "      <td>...</td>\n",
              "      <td>...</td>\n",
              "      <td>...</td>\n",
              "      <td>...</td>\n",
              "      <td>...</td>\n",
              "      <td>...</td>\n",
              "    </tr>\n",
              "    <tr>\n",
              "      <th>500</th>\n",
              "      <td>Tidak</td>\n",
              "      <td>Tidak</td>\n",
              "      <td>Ya</td>\n",
              "      <td>Tidak</td>\n",
              "      <td>NaN</td>\n",
              "      <td>Ya</td>\n",
              "      <td>Ya</td>\n",
              "      <td>Berdarah</td>\n",
              "      <td>Akut</td>\n",
              "    </tr>\n",
              "    <tr>\n",
              "      <th>501</th>\n",
              "      <td>Tidak</td>\n",
              "      <td>Ya</td>\n",
              "      <td>Ya</td>\n",
              "      <td>Tidak</td>\n",
              "      <td>Tidak</td>\n",
              "      <td>Tidak</td>\n",
              "      <td>Ya</td>\n",
              "      <td>Berdarah</td>\n",
              "      <td>Akut</td>\n",
              "    </tr>\n",
              "    <tr>\n",
              "      <th>502</th>\n",
              "      <td>Ya</td>\n",
              "      <td>Tidak</td>\n",
              "      <td>Ya</td>\n",
              "      <td>Tidak</td>\n",
              "      <td>Tidak</td>\n",
              "      <td>Ya</td>\n",
              "      <td>Ya</td>\n",
              "      <td>Tidak</td>\n",
              "      <td>Akut</td>\n",
              "    </tr>\n",
              "    <tr>\n",
              "      <th>503</th>\n",
              "      <td>Tidak</td>\n",
              "      <td>Ya</td>\n",
              "      <td>Ya</td>\n",
              "      <td>Tidak</td>\n",
              "      <td>Tidak</td>\n",
              "      <td>Tidak</td>\n",
              "      <td>Ya</td>\n",
              "      <td>Berlendir</td>\n",
              "      <td>Akut</td>\n",
              "    </tr>\n",
              "    <tr>\n",
              "      <th>504</th>\n",
              "      <td>Tidak</td>\n",
              "      <td>Ya</td>\n",
              "      <td>Tidak</td>\n",
              "      <td>Ya</td>\n",
              "      <td>Tidak</td>\n",
              "      <td>NaN</td>\n",
              "      <td>Ya</td>\n",
              "      <td>Tidak</td>\n",
              "      <td>Akut</td>\n",
              "    </tr>\n",
              "  </tbody>\n",
              "</table>\n",
              "<p>505 rows × 9 columns</p>\n",
              "</div>"
            ],
            "text/plain": [
              "     Demam Muntah Mulut Kering  ... Feses Encer Feses Berdarah/Berlendir Diare\n",
              "0    Tidak     Ya           Ya  ...       Tidak                Berlendir  Akut\n",
              "1    Tidak  Tidak        Tidak  ...          Ya                    Tidak  Akut\n",
              "2    Tidak  Tidak        Tidak  ...          Ya                Berlendir  Akut\n",
              "3    Tidak  Tidak           Ya  ...       Tidak                Berlendir  Akut\n",
              "4    Tidak     Ya           Ya  ...       Tidak                Berlendir  Akut\n",
              "..     ...    ...          ...  ...         ...                      ...   ...\n",
              "500  Tidak  Tidak           Ya  ...          Ya                 Berdarah  Akut\n",
              "501  Tidak     Ya           Ya  ...          Ya                 Berdarah  Akut\n",
              "502     Ya  Tidak           Ya  ...          Ya                    Tidak  Akut\n",
              "503  Tidak     Ya           Ya  ...          Ya                Berlendir  Akut\n",
              "504  Tidak     Ya        Tidak  ...          Ya                    Tidak  Akut\n",
              "\n",
              "[505 rows x 9 columns]"
            ]
          },
          "metadata": {
            "tags": []
          },
          "execution_count": 13
        }
      ]
    },
    {
      "cell_type": "code",
      "metadata": {
        "colab": {
          "base_uri": "https://localhost:8080/",
          "height": 343
        },
        "id": "8S4Aapi7i24d",
        "outputId": "52ce816b-926d-4052-a885-4290aa94f052"
      },
      "source": [
        "#drop missing data\r\n",
        "data = da.dropna()\r\n",
        "print('Jumlah missing data: ', (len(da)-len(data)),'\\n')\r\n",
        "\r\n",
        "# renaming column each dataset\r\n",
        "data = data.rename(columns={'Nyeri di Perut':'Nyeri',\r\n",
        "                                    'Mulut Kering':'MK',\r\n",
        "                                    'BAB lebih dari 2 minggu':'BAB_1',\r\n",
        "                                    'BAB lebih dari 3x Sehari':'BAB_2',\r\n",
        "                                    'Feses Encer':'FE',\r\n",
        "                                    'Feses Berdarah/Berlendir':'FBoB'})\r\n",
        "\r\n",
        "\r\n",
        "#Check pembagian tiap target class untuk tiap dataset\r\n",
        "sns.countplot(x = data['Diare'])\r\n",
        "plt.title('Data pembagian kelas diare')\r\n",
        "plt.xlabel('Target kelas')\r\n",
        "plt.ylabel('Frekuensi')"
      ],
      "execution_count": 14,
      "outputs": [
        {
          "output_type": "stream",
          "text": [
            "Jumlah missing data:  23 \n",
            "\n"
          ],
          "name": "stdout"
        },
        {
          "output_type": "execute_result",
          "data": {
            "text/plain": [
              "Text(0, 0.5, 'Frekuensi')"
            ]
          },
          "metadata": {
            "tags": []
          },
          "execution_count": 14
        },
        {
          "output_type": "display_data",
          "data": {
            "image/png": "[encoded data removed]",
            "text/plain": [
              "<Figure size 432x288 with 1 Axes>"
            ]
          },
          "metadata": {
            "tags": [],
            "needs_background": "light"
          }
        }
      ]
    },
    {
      "cell_type": "code",
      "metadata": {
        "id": "CSf4GsdimqFH"
      },
      "source": [
        "#Encode using LabelEncoder\r\n",
        "le = LabelEncoder()\r\n",
        "#data = data.apply(le.fit_transform)\r\n",
        "\r\n",
        "clf= DecisionTreeClassifier(criterion='gini')\r\n",
        "X = data.drop(columns='Diare')\r\n",
        "y = data['Diare']\r\n",
        "\r\n",
        "X = X.apply(le.fit_transform)\r\n",
        "#X = data.iloc[:, 0:-1]\r\n",
        "#y = data.iloc[:, 8]\r\n",
        "\r\n",
        "\r\n",
        "#X[:, 0] = le.fit_transform(X[:, 0]) \r\n",
        "#X[:, 1] = le.fit_transform(X[:, 1]) \r\n",
        "#X[:, 2] = le.fit_transform(X[:, 2]) \r\n",
        "#X[:, 3] = le.fit_transform(X[:, 3]) \r\n",
        "#X[:, 4] = le.fit_transform(X[:, 4]) \r\n",
        "#X[:, 5] = le.fit_transform(X[:, 5]) \r\n",
        "#X[:, 6] = le.fit_transform(X[:, 6]) \r\n",
        "#X[:, 7] = le.fit_transform(X[:, 7]) \r\n"
      ],
      "execution_count": 15,
      "outputs": []
    },
    {
      "cell_type": "code",
      "metadata": {
        "colab": {
          "base_uri": "https://localhost:8080/",
          "height": 391
        },
        "id": "Qx_SW4l25ZYT",
        "outputId": "360269e3-f42f-446a-dc90-3c5f289bb218"
      },
      "source": [
        "X"
      ],
      "execution_count": 16,
      "outputs": [
        {
          "output_type": "execute_result",
          "data": {
            "text/html": [
              "<div>\n",
              "<style scoped>\n",
              "    .dataframe tbody tr th:only-of-type {\n",
              "        vertical-align: middle;\n",
              "    }\n",
              "\n",
              "    .dataframe tbody tr th {\n",
              "        vertical-align: top;\n",
              "    }\n",
              "\n",
              "    .dataframe thead th {\n",
              "        text-align: right;\n",
              "    }\n",
              "</style>\n",
              "<table border=\"1\" class=\"dataframe\">\n",
              "  <thead>\n",
              "    <tr style=\"text-align: right;\">\n",
              "      <th></th>\n",
              "      <th>Demam</th>\n",
              "      <th>Muntah</th>\n",
              "      <th>MK</th>\n",
              "      <th>Nyeri</th>\n",
              "      <th>BAB_1</th>\n",
              "      <th>BAB_2</th>\n",
              "      <th>FE</th>\n",
              "      <th>FBoB</th>\n",
              "    </tr>\n",
              "  </thead>\n",
              "  <tbody>\n",
              "    <tr>\n",
              "      <th>0</th>\n",
              "      <td>0</td>\n",
              "      <td>1</td>\n",
              "      <td>1</td>\n",
              "      <td>1</td>\n",
              "      <td>0</td>\n",
              "      <td>1</td>\n",
              "      <td>0</td>\n",
              "      <td>1</td>\n",
              "    </tr>\n",
              "    <tr>\n",
              "      <th>1</th>\n",
              "      <td>0</td>\n",
              "      <td>0</td>\n",
              "      <td>0</td>\n",
              "      <td>0</td>\n",
              "      <td>0</td>\n",
              "      <td>1</td>\n",
              "      <td>1</td>\n",
              "      <td>2</td>\n",
              "    </tr>\n",
              "    <tr>\n",
              "      <th>2</th>\n",
              "      <td>0</td>\n",
              "      <td>0</td>\n",
              "      <td>0</td>\n",
              "      <td>0</td>\n",
              "      <td>0</td>\n",
              "      <td>0</td>\n",
              "      <td>1</td>\n",
              "      <td>1</td>\n",
              "    </tr>\n",
              "    <tr>\n",
              "      <th>3</th>\n",
              "      <td>0</td>\n",
              "      <td>0</td>\n",
              "      <td>1</td>\n",
              "      <td>0</td>\n",
              "      <td>0</td>\n",
              "      <td>1</td>\n",
              "      <td>0</td>\n",
              "      <td>1</td>\n",
              "    </tr>\n",
              "    <tr>\n",
              "      <th>4</th>\n",
              "      <td>0</td>\n",
              "      <td>1</td>\n",
              "      <td>1</td>\n",
              "      <td>1</td>\n",
              "      <td>0</td>\n",
              "      <td>1</td>\n",
              "      <td>0</td>\n",
              "      <td>1</td>\n",
              "    </tr>\n",
              "    <tr>\n",
              "      <th>...</th>\n",
              "      <td>...</td>\n",
              "      <td>...</td>\n",
              "      <td>...</td>\n",
              "      <td>...</td>\n",
              "      <td>...</td>\n",
              "      <td>...</td>\n",
              "      <td>...</td>\n",
              "      <td>...</td>\n",
              "    </tr>\n",
              "    <tr>\n",
              "      <th>498</th>\n",
              "      <td>1</td>\n",
              "      <td>0</td>\n",
              "      <td>0</td>\n",
              "      <td>1</td>\n",
              "      <td>1</td>\n",
              "      <td>1</td>\n",
              "      <td>1</td>\n",
              "      <td>0</td>\n",
              "    </tr>\n",
              "    <tr>\n",
              "      <th>499</th>\n",
              "      <td>1</td>\n",
              "      <td>0</td>\n",
              "      <td>0</td>\n",
              "      <td>1</td>\n",
              "      <td>1</td>\n",
              "      <td>1</td>\n",
              "      <td>1</td>\n",
              "      <td>0</td>\n",
              "    </tr>\n",
              "    <tr>\n",
              "      <th>501</th>\n",
              "      <td>0</td>\n",
              "      <td>1</td>\n",
              "      <td>1</td>\n",
              "      <td>0</td>\n",
              "      <td>0</td>\n",
              "      <td>0</td>\n",
              "      <td>1</td>\n",
              "      <td>0</td>\n",
              "    </tr>\n",
              "    <tr>\n",
              "      <th>502</th>\n",
              "      <td>1</td>\n",
              "      <td>0</td>\n",
              "      <td>1</td>\n",
              "      <td>0</td>\n",
              "      <td>0</td>\n",
              "      <td>1</td>\n",
              "      <td>1</td>\n",
              "      <td>2</td>\n",
              "    </tr>\n",
              "    <tr>\n",
              "      <th>503</th>\n",
              "      <td>0</td>\n",
              "      <td>1</td>\n",
              "      <td>1</td>\n",
              "      <td>0</td>\n",
              "      <td>0</td>\n",
              "      <td>0</td>\n",
              "      <td>1</td>\n",
              "      <td>1</td>\n",
              "    </tr>\n",
              "  </tbody>\n",
              "</table>\n",
              "<p>482 rows × 8 columns</p>\n",
              "</div>"
            ],
            "text/plain": [
              "     Demam  Muntah  MK  Nyeri  BAB_1  BAB_2  FE  FBoB\n",
              "0        0       1   1      1      0      1   0     1\n",
              "1        0       0   0      0      0      1   1     2\n",
              "2        0       0   0      0      0      0   1     1\n",
              "3        0       0   1      0      0      1   0     1\n",
              "4        0       1   1      1      0      1   0     1\n",
              "..     ...     ...  ..    ...    ...    ...  ..   ...\n",
              "498      1       0   0      1      1      1   1     0\n",
              "499      1       0   0      1      1      1   1     0\n",
              "501      0       1   1      0      0      0   1     0\n",
              "502      1       0   1      0      0      1   1     2\n",
              "503      0       1   1      0      0      0   1     1\n",
              "\n",
              "[482 rows x 8 columns]"
            ]
          },
          "metadata": {
            "tags": []
          },
          "execution_count": 16
        }
      ]
    },
    {
      "cell_type": "markdown",
      "metadata": {
        "id": "gsjadv2ihCd9"
      },
      "source": [
        "# Learn model"
      ]
    },
    {
      "cell_type": "code",
      "metadata": {
        "id": "nPJolkj5hEp3"
      },
      "source": [
        "def normal():\r\n",
        "  #Splitting data train and test\r\n",
        "  X_train, X_test, y_train, y_test = tt(X,y, test_size=0.2, random_state=20)\r\n",
        "  print(Counter(y_train), '\\n')\r\n",
        "  \r\n",
        "  #Proceed model\r\n",
        "  clf.fit(X_train, y_train)\r\n",
        "  y_pred = clf.predict(X_test)\r\n",
        "  print(classification_report(y_test, y_pred))\r\n",
        "  acc = metrics.accuracy_score(y_test, y_pred)*100\r\n",
        "  joblib.dump(clf, 'modelDT.pkl')\r\n",
        "  plot_confusion_matrix(clf, X_test, y_test)\r\n",
        "  plt.show()\r\n",
        "  print('\\n')\r\n",
        "\r\n",
        "  #tree viz and tree text\r\n",
        "  graph= Source(tree.export_graphviz(clf, feature_names=X.columns, class_names=True,\r\n",
        "                                     filled=True))\r\n",
        "  display(SVG(graph.pipe(format='svg')))\r\n",
        "  print('\\n')\r\n",
        "  tree_root = export_text(clf)\r\n",
        "  print(tree_root)\r\n",
        "\r\n",
        "def over():\r\n",
        "  #get balanced data sample also splitting data train and test\r\n",
        "  ros = RandomOverSampler(sampling_strategy='minority')\r\n",
        "  X_over, y_over = ros.fit_resample(X,y)\r\n",
        "  X_train, X_test, y_train, y_test = tt(X_over, y_over, test_size=0.2, random_state=8)\r\n",
        "  print(Counter(y_over))\r\n",
        "\r\n",
        "  #proceed model\r\n",
        "  clf.fit(X_train, y_train)\r\n",
        "  y_pred = clf.predict(X_test)\r\n",
        "  print(classification_report(y_test, y_pred))\r\n",
        "  plot_confusion_matrix(clf, X_test, y_test)\r\n",
        "  plt.show()\r\n",
        "  print('\\n')\r\n",
        "\r\n",
        "  #tree viz and tree text\r\n",
        "  graph= Source(tree.export_graphviz(clf, feature_names=X.columns, class_names=True,\r\n",
        "                                     filled=True))\r\n",
        "  display(SVG(graph.pipe(format='svg')))\r\n",
        "  print('\\n')\r\n",
        "  tree_root = export_text(clf)\r\n",
        "  print(tree_root)\r\n",
        "\r\n",
        "def under():\r\n",
        "  #get balanced data sample also splitting data train and test\r\n",
        "  rus = RandomUnderSampler(random_state=8)\r\n",
        "  X_under, y_under = rus.fit_resample(X,y)\r\n",
        "  X_train, X_test, y_train, y_test = tt(X_under, y_under, test_size=0.2, random_state=8)\r\n",
        "  print(Counter(y_under))\r\n",
        "\r\n",
        "  #proceed model\r\n",
        "  clf.fit(X_train, y_train)\r\n",
        "  y_pred = clf.predict(X_test)\r\n",
        "  print(classification_report(y_test, y_pred))\r\n",
        "  plot_confusion_matrix(clf, X_test, y_test)\r\n",
        "  plt.show()\r\n",
        "  print('\\n')\r\n",
        "\r\n",
        "  #tree viz and tree text\r\n",
        "  graph= Source(tree.export_graphviz(clf, feature_names=X.columns, class_names=True,\r\n",
        "                                     filled=True))\r\n",
        "  display(SVG(graph.pipe(format='svg')))\r\n",
        "  print('\\n')\r\n",
        "  tree_root = export_text(clf)\r\n",
        "  print(tree_root)\r\n"
      ],
      "execution_count": 19,
      "outputs": []
    },
    {
      "cell_type": "code",
      "metadata": {
        "colab": {
          "base_uri": "https://localhost:8080/",
          "height": 867
        },
        "id": "LuiCnz3DysPP",
        "outputId": "24a47d8b-586b-48f0-e927-0db85e67b175"
      },
      "source": [
        "normal()"
      ],
      "execution_count": 20,
      "outputs": [
        {
          "output_type": "stream",
          "text": [
            "Counter({'Akut': 359, 'Kronis': 26}) \n",
            "\n",
            "              precision    recall  f1-score   support\n",
            "\n",
            "        Akut       1.00      1.00      1.00        92\n",
            "      Kronis       1.00      1.00      1.00         5\n",
            "\n",
            "    accuracy                           1.00        97\n",
            "   macro avg       1.00      1.00      1.00        97\n",
            "weighted avg       1.00      1.00      1.00        97\n",
            "\n"
          ],
          "name": "stdout"
        },
        {
          "output_type": "display_data",
          "data": {
            "image/png": "[encoded data removed]",
            "text/plain": [
              "<Figure size 432x288 with 2 Axes>"
            ]
          },
          "metadata": {
            "tags": [],
            "needs_background": "light"
          }
        },
        {
          "output_type": "stream",
          "text": [
            "\n",
            "\n"
          ],
          "name": "stdout"
        },
        {
          "output_type": "display_data",
          "data": {
            "text/plain": [
              "<IPython.core.display.SVG object>"
            ],
            "image/svg+xml": "<svg height=\"195pt\" viewBox=\"0.00 0.00 238.00 195.00\" width=\"238pt\" xmlns=\"http://www.w3.org/2000/svg\" xmlns:xlink=\"http://www.w3.org/1999/xlink\">\n<g class=\"graph\" id=\"graph0\" transform=\"scale(1 1) rotate(0) translate(4 191)\">\n<title>Tree</title>\n<polygon fill=\"#ffffff\" points=\"-4,4 -4,-191 234,-191 234,4 -4,4\" stroke=\"transparent\"/>\n<!-- 0 -->\n<g class=\"node\" id=\"node1\">\n<title>0</title>\n<polygon fill=\"#e78a47\" points=\"175.5,-187 58.5,-187 58.5,-104 175.5,-104 175.5,-187\" stroke=\"#000000\"/>\n<text fill=\"#000000\" font-family=\"Times,serif\" font-size=\"14.00\" text-anchor=\"middle\" x=\"117\" y=\"-171.8\">BAB_1 &lt;= 0.5</text>\n<text fill=\"#000000\" font-family=\"Times,serif\" font-size=\"14.00\" text-anchor=\"middle\" x=\"117\" y=\"-156.8\">gini = 0.126</text>\n<text fill=\"#000000\" font-family=\"Times,serif\" font-size=\"14.00\" text-anchor=\"middle\" x=\"117\" y=\"-141.8\">samples = 385</text>\n<text fill=\"#000000\" font-family=\"Times,serif\" font-size=\"14.00\" text-anchor=\"middle\" x=\"117\" y=\"-126.8\">value = [359, 26]</text>\n<text fill=\"#000000\" font-family=\"Times,serif\" font-size=\"14.00\" text-anchor=\"middle\" x=\"117\" y=\"-111.8\">class = y[0]</text>\n</g>\n<!-- 1 -->\n<g class=\"node\" id=\"node2\">\n<title>1</title>\n<polygon fill=\"#e58139\" points=\"110,-68 0,-68 0,0 110,0 110,-68\" stroke=\"#000000\"/>\n<text fill=\"#000000\" font-family=\"Times,serif\" font-size=\"14.00\" text-anchor=\"middle\" x=\"55\" y=\"-52.8\">gini = 0.0</text>\n<text fill=\"#000000\" font-family=\"Times,serif\" font-size=\"14.00\" text-anchor=\"middle\" x=\"55\" y=\"-37.8\">samples = 359</text>\n<text fill=\"#000000\" font-family=\"Times,serif\" font-size=\"14.00\" text-anchor=\"middle\" x=\"55\" y=\"-22.8\">value = [359, 0]</text>\n<text fill=\"#000000\" font-family=\"Times,serif\" font-size=\"14.00\" text-anchor=\"middle\" x=\"55\" y=\"-7.8\">class = y[0]</text>\n</g>\n<!-- 0&#45;&gt;1 -->\n<g class=\"edge\" id=\"edge1\">\n<title>0-&gt;1</title>\n<path d=\"M93.9135,-103.9815C89.0585,-95.2504 83.926,-86.0202 79.0371,-77.2281\" fill=\"none\" stroke=\"#000000\"/>\n<polygon fill=\"#000000\" points=\"81.9712,-75.3025 74.0524,-68.2637 75.8533,-78.7043 81.9712,-75.3025\" stroke=\"#000000\"/>\n<text fill=\"#000000\" font-family=\"Times,serif\" font-size=\"14.00\" text-anchor=\"middle\" x=\"67.1936\" y=\"-88.6044\">True</text>\n</g>\n<!-- 2 -->\n<g class=\"node\" id=\"node3\">\n<title>2</title>\n<polygon fill=\"#399de5\" points=\"230,-68 128,-68 128,0 230,0 230,-68\" stroke=\"#000000\"/>\n<text fill=\"#000000\" font-family=\"Times,serif\" font-size=\"14.00\" text-anchor=\"middle\" x=\"179\" y=\"-52.8\">gini = 0.0</text>\n<text fill=\"#000000\" font-family=\"Times,serif\" font-size=\"14.00\" text-anchor=\"middle\" x=\"179\" y=\"-37.8\">samples = 26</text>\n<text fill=\"#000000\" font-family=\"Times,serif\" font-size=\"14.00\" text-anchor=\"middle\" x=\"179\" y=\"-22.8\">value = [0, 26]</text>\n<text fill=\"#000000\" font-family=\"Times,serif\" font-size=\"14.00\" text-anchor=\"middle\" x=\"179\" y=\"-7.8\">class = y[1]</text>\n</g>\n<!-- 0&#45;&gt;2 -->\n<g class=\"edge\" id=\"edge2\">\n<title>0-&gt;2</title>\n<path d=\"M140.0865,-103.9815C144.9415,-95.2504 150.074,-86.0202 154.9629,-77.2281\" fill=\"none\" stroke=\"#000000\"/>\n<polygon fill=\"#000000\" points=\"158.1467,-78.7043 159.9476,-68.2637 152.0288,-75.3025 158.1467,-78.7043\" stroke=\"#000000\"/>\n<text fill=\"#000000\" font-family=\"Times,serif\" font-size=\"14.00\" text-anchor=\"middle\" x=\"166.8064\" y=\"-88.6044\">False</text>\n</g>\n</g>\n</svg>"
          },
          "metadata": {
            "tags": []
          }
        },
        {
          "output_type": "stream",
          "text": [
            "\n",
            "\n",
            "|--- feature_4 <= 0.50\n",
            "|   |--- class: Akut\n",
            "|--- feature_4 >  0.50\n",
            "|   |--- class: Kronis\n",
            "\n"
          ],
          "name": "stdout"
        }
      ]
    },
    {
      "cell_type": "code",
      "metadata": {
        "id": "sbUq9t1SywjA"
      },
      "source": [
        "#over()"
      ],
      "execution_count": 21,
      "outputs": []
    },
    {
      "cell_type": "code",
      "metadata": {
        "id": "B3bT3HQoyzlK"
      },
      "source": [
        "#under()"
      ],
      "execution_count": 22,
      "outputs": []
    },
    {
      "cell_type": "markdown",
      "metadata": {
        "id": "zmNW30L1rgtC"
      },
      "source": [
        "# Test Predict start here"
      ]
    },
    {
      "cell_type": "code",
      "metadata": {
        "colab": {
          "base_uri": "https://localhost:8080/",
          "height": 386
        },
        "id": "7LR0WoFxrfWI",
        "outputId": "59941bd9-45f8-4138-a30e-fa43e545245f"
      },
      "source": [
        "def test():\r\n",
        "  de = int(input('kondisi demam. 1 untuk ya, 0 untuk tidak: '))\r\n",
        "  mu = int(input('\\n kondisi muntah. 1 untuk ya, 0 untuk tidak: '))\r\n",
        "  mk = int(input('\\n kondisi mulut kering. 1 untuk ya, 0 untuk tidak: '))\r\n",
        "  ny = int(input('\\n kondisi nyeri di perut. 1 untuk ya, 0 untuk tidak: '))\r\n",
        "  bab1 = int(input('\\n kondisi BAB lebih dari 2 minggu. 1 untuk ya, 0 untuk tidak: '))\r\n",
        "  bab2 = int(input('\\n kondisi BAB lebih dari 3x sehari. 1 untuk ya, 0 untuk tidak: '))\r\n",
        "  fe = int(input('\\n kondisi feses encer. 1 untuk ya, 0 untuk tidak: '))\r\n",
        "  fb = int(input('\\n kondisi feses berdarah atau berlendir. 2 untuk tidak sama sekali, 1 untuk berlendir, 0 untuk berdarah: '))\r\n",
        "\r\n",
        "  pred = [[de,mu,mk,ny,bab1,bab2,fe,fb]]\r\n",
        "  print(pred)\r\n",
        "\r\n",
        "\r\n",
        "  loaded_model = joblib.load('modelDT.pkl')\r\n",
        "  dt_res=(loaded_model.predict(pred))\r\n",
        "  print(dt_res)1\r\n",
        "\r\n",
        "test()"
      ],
      "execution_count": 37,
      "outputs": [
        {
          "output_type": "stream",
          "text": [
            "kondisi demam. 1 untuk ya, 0 untuk tidak: 1\n",
            "\n",
            " kondisi muntah. 1 untuk ya, 0 untuk tidak: 0\n",
            "\n",
            " kondisi mulut kering. 1 untuk ya, 0 untuk tidak: \n"
          ],
          "name": "stdout"
        },
        {
          "output_type": "error",
          "ename": "ValueError",
          "evalue": "ignored",
          "traceback": [
            "\u001b[0;31m---------------------------------------------------------------------------\u001b[0m",
            "\u001b[0;31mValueError\u001b[0m                                Traceback (most recent call last)",
            "\u001b[0;32m<ipython-input-37-4183c1117b17>\u001b[0m in \u001b[0;36m<module>\u001b[0;34m()\u001b[0m\n\u001b[1;32m     17\u001b[0m   \u001b[0mprint\u001b[0m\u001b[0;34m(\u001b[0m\u001b[0mdt_res\u001b[0m\u001b[0;34m)\u001b[0m\u001b[0;34m\u001b[0m\u001b[0;34m\u001b[0m\u001b[0m\n\u001b[1;32m     18\u001b[0m \u001b[0;34m\u001b[0m\u001b[0m\n\u001b[0;32m---> 19\u001b[0;31m \u001b[0mtest\u001b[0m\u001b[0;34m(\u001b[0m\u001b[0;34m)\u001b[0m\u001b[0;34m\u001b[0m\u001b[0;34m\u001b[0m\u001b[0m\n\u001b[0m",
            "\u001b[0;32m<ipython-input-37-4183c1117b17>\u001b[0m in \u001b[0;36mtest\u001b[0;34m()\u001b[0m\n\u001b[1;32m      2\u001b[0m   \u001b[0mde\u001b[0m \u001b[0;34m=\u001b[0m \u001b[0mint\u001b[0m\u001b[0;34m(\u001b[0m\u001b[0minput\u001b[0m\u001b[0;34m(\u001b[0m\u001b[0;34m'kondisi demam. 1 untuk ya, 0 untuk tidak: '\u001b[0m\u001b[0;34m)\u001b[0m\u001b[0;34m)\u001b[0m\u001b[0;34m\u001b[0m\u001b[0;34m\u001b[0m\u001b[0m\n\u001b[1;32m      3\u001b[0m   \u001b[0mmu\u001b[0m \u001b[0;34m=\u001b[0m \u001b[0mint\u001b[0m\u001b[0;34m(\u001b[0m\u001b[0minput\u001b[0m\u001b[0;34m(\u001b[0m\u001b[0;34m'\\n kondisi muntah. 1 untuk ya, 0 untuk tidak: '\u001b[0m\u001b[0;34m)\u001b[0m\u001b[0;34m)\u001b[0m\u001b[0;34m\u001b[0m\u001b[0;34m\u001b[0m\u001b[0m\n\u001b[0;32m----> 4\u001b[0;31m   \u001b[0mmk\u001b[0m \u001b[0;34m=\u001b[0m \u001b[0mint\u001b[0m\u001b[0;34m(\u001b[0m\u001b[0minput\u001b[0m\u001b[0;34m(\u001b[0m\u001b[0;34m'\\n kondisi mulut kering. 1 untuk ya, 0 untuk tidak: '\u001b[0m\u001b[0;34m)\u001b[0m\u001b[0;34m)\u001b[0m\u001b[0;34m\u001b[0m\u001b[0;34m\u001b[0m\u001b[0m\n\u001b[0m\u001b[1;32m      5\u001b[0m   \u001b[0mny\u001b[0m \u001b[0;34m=\u001b[0m \u001b[0mint\u001b[0m\u001b[0;34m(\u001b[0m\u001b[0minput\u001b[0m\u001b[0;34m(\u001b[0m\u001b[0;34m'\\n kondisi nyeri di perut. 1 untuk ya, 0 untuk tidak: '\u001b[0m\u001b[0;34m)\u001b[0m\u001b[0;34m)\u001b[0m\u001b[0;34m\u001b[0m\u001b[0;34m\u001b[0m\u001b[0m\n\u001b[1;32m      6\u001b[0m   \u001b[0mbab1\u001b[0m \u001b[0;34m=\u001b[0m \u001b[0mint\u001b[0m\u001b[0;34m(\u001b[0m\u001b[0minput\u001b[0m\u001b[0;34m(\u001b[0m\u001b[0;34m'\\n kondisi BAB lebih dari 2 minggu. 1 untuk ya, 0 untuk tidak: '\u001b[0m\u001b[0;34m)\u001b[0m\u001b[0;34m)\u001b[0m\u001b[0;34m\u001b[0m\u001b[0;34m\u001b[0m\u001b[0m\n",
            "\u001b[0;31mValueError\u001b[0m: invalid literal for int() with base 10: ''"
          ]
        }
      ]
    },
    {
      "cell_type": "code",
      "metadata": {
        "id": "Jt1qBxZ-FAiA"
      },
      "source": [
        "test()"
      ],
      "execution_count": null,
      "outputs": []
    },
    {
      "cell_type": "code",
      "metadata": {
        "id": "Rh9qZcmkFFwc"
      },
      "source": [
        "test()"
      ],
      "execution_count": null,
      "outputs": []
    },
    {
      "cell_type": "code",
      "metadata": {
        "id": "byL8YioO5s2I"
      },
      "source": [
        "#pred = [[de,mu,mk,ny,bab1,bab2,fe,fb]]\r\n",
        "#print(pred)"
      ],
      "execution_count": null,
      "outputs": []
    },
    {
      "cell_type": "code",
      "metadata": {
        "id": "MflVetvF57yL"
      },
      "source": [
        "#loaded_model = joblib.load('modelDT.pkl')\r\n",
        "#dt_res=(loaded_model.predict(pred))\r\n",
        "#print(dt_res)\r\n"
      ],
      "execution_count": null,
      "outputs": []
    },
    {
      "cell_type": "code",
      "metadata": {
        "id": "t25rYmxpBX7P"
      },
      "source": [
        "#\r\n",
        "#x=[rfc_res,gb_res,lr_res,svm_res,knn_res,dt_res,mlp_res]\r\n",
        "#result= np.mean(x)\r\n",
        "#if result >= 0.5:\r\n",
        "#    print(\"positive\")\r\n",
        "#else:\r\n",
        "#    print(\"negative\")"
      ],
      "execution_count": null,
      "outputs": []
    }
  ]
}