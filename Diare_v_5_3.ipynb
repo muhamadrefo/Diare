{
  "nbformat": 4,
  "nbformat_minor": 0,
  "metadata": {
    "colab": {
      "name": "Diare v.5.3.ipynb",
      "provenance": [],
      "collapsed_sections": [
        "zmNW30L1rgtC",
        "mYcLv7kQkuXz"
      ],
      "authorship_tag": "ABX9TyP75IZN49mjYP4unwj/c1i2"
    },
    "kernelspec": {
      "display_name": "Python 3",
      "name": "python3"
    }
  },
  "cells": [
    {
      "cell_type": "markdown",
      "metadata": {
        "id": "zNETeOQwg85I"
      },
      "source": [
        "# Preprocessing"
      ]
    },
    {
      "cell_type": "code",
      "metadata": {
        "colab": {
          "base_uri": "https://localhost:8080/"
        },
        "id": "Kw_UVGBKgJ_R",
        "outputId": "d57b7c52-1744-42e9-d098-7b8cf5555aaa"
      },
      "source": [
        "from google.colab import drive\n",
        "drive.mount('/content/drive')"
      ],
      "execution_count": 46,
      "outputs": [
        {
          "output_type": "stream",
          "text": [
            "Drive already mounted at /content/drive; to attempt to forcibly remount, call drive.mount(\"/content/drive\", force_remount=True).\n"
          ],
          "name": "stdout"
        }
      ]
    },
    {
      "cell_type": "code",
      "metadata": {
        "colab": {
          "base_uri": "https://localhost:8080/"
        },
        "id": "rlr3LNDQg6qM",
        "outputId": "8ce48a59-1532-41c0-b5ba-12852132489a"
      },
      "source": [
        "%cd /content/drive/MyDrive/Dataset/Diarrhea\n",
        "%ls"
      ],
      "execution_count": 47,
      "outputs": [
        {
          "output_type": "stream",
          "text": [
            "/content/drive/MyDrive/Dataset/Diarrhea\n",
            " cos1.dot        Diare3.csv      golf_df.csv               search4.csv\n",
            " CusDiare2.csv   Diare.csv      'Laporan Diare 2019.xls'   search.csv\n",
            " cusdm1.csv      dm01.csv        modelDT.pkl               tree2.dot\n",
            " cusdm2.csv      dm02.csv        normal.pkl                tree3.dot\n",
            " cusdm3.csv      dm03.csv        over.pkl                  tree4.dot\n",
            " demo.csv        dumnormal.pkl   savecsv.csv               tree.dot\n",
            " Diare2.csv      dumover.pkl     search2.csv               under.pkl\n",
            " Diare3-1.csv    dumunder.pkl    search3.csv\n"
          ],
          "name": "stdout"
        }
      ]
    },
    {
      "cell_type": "code",
      "metadata": {
        "colab": {
          "base_uri": "https://localhost:8080/",
          "height": 419
        },
        "id": "BnLzUMtnhXre",
        "outputId": "d5be34f6-95d3-4a76-b9ca-7dcf43e12299"
      },
      "source": [
        "import csv\n",
        "import joblib\n",
        "%matplotlib inline\n",
        "import pandas as pd\n",
        "import seaborn as sns\n",
        "from sklearn import tree\n",
        "from sklearn import metrics\n",
        "from graphviz import Source\n",
        "import matplotlib.pyplot as plt\n",
        "from collections import Counter\n",
        "from warnings import simplefilter\n",
        "from sklearn.tree import export_text\n",
        "from sklearn.pipeline import Pipeline\n",
        "from sklearn.tree import export_graphviz\n",
        "from imblearn.over_sampling import SMOTE\n",
        "from IPython.display import display, SVG\n",
        "from sklearn.preprocessing import LabelEncoder\n",
        "from sklearn.tree import DecisionTreeClassifier\n",
        "from imblearn.over_sampling import SMOTE\n",
        "from imblearn.under_sampling import RandomUnderSampler\n",
        "from sklearn.model_selection import train_test_split as tt\n",
        "from sklearn.metrics import confusion_matrix, plot_confusion_matrix, classification_report\n",
        "\n",
        "#ignore all future warning\n",
        "simplefilter(action='ignore', category=FutureWarning)\n",
        "#da= pd.read_csv('Diare3.csv') #no filter\n",
        "da = pd.read_csv('Diare3-1.csv')\n",
        "da"
      ],
      "execution_count": 48,
      "outputs": [
        {
          "output_type": "execute_result",
          "data": {
            "text/html": [
              "<div>\n",
              "<style scoped>\n",
              "    .dataframe tbody tr th:only-of-type {\n",
              "        vertical-align: middle;\n",
              "    }\n",
              "\n",
              "    .dataframe tbody tr th {\n",
              "        vertical-align: top;\n",
              "    }\n",
              "\n",
              "    .dataframe thead th {\n",
              "        text-align: right;\n",
              "    }\n",
              "</style>\n",
              "<table border=\"1\" class=\"dataframe\">\n",
              "  <thead>\n",
              "    <tr style=\"text-align: right;\">\n",
              "      <th></th>\n",
              "      <th>Muntah</th>\n",
              "      <th>BAB lebih dari 2 minggu</th>\n",
              "      <th>BAB lebih dari 3x Sehari</th>\n",
              "      <th>Feses Encer</th>\n",
              "      <th>Feses Berdarah/Berlendir</th>\n",
              "      <th>Diare</th>\n",
              "    </tr>\n",
              "  </thead>\n",
              "  <tbody>\n",
              "    <tr>\n",
              "      <th>0</th>\n",
              "      <td>Ya</td>\n",
              "      <td>Tidak</td>\n",
              "      <td>Ya</td>\n",
              "      <td>Tidak</td>\n",
              "      <td>Berlendir</td>\n",
              "      <td>Akut</td>\n",
              "    </tr>\n",
              "    <tr>\n",
              "      <th>1</th>\n",
              "      <td>Tidak</td>\n",
              "      <td>Tidak</td>\n",
              "      <td>Ya</td>\n",
              "      <td>Ya</td>\n",
              "      <td>Tidak</td>\n",
              "      <td>Akut</td>\n",
              "    </tr>\n",
              "    <tr>\n",
              "      <th>2</th>\n",
              "      <td>Tidak</td>\n",
              "      <td>Tidak</td>\n",
              "      <td>Tidak</td>\n",
              "      <td>Ya</td>\n",
              "      <td>Berlendir</td>\n",
              "      <td>Akut</td>\n",
              "    </tr>\n",
              "    <tr>\n",
              "      <th>3</th>\n",
              "      <td>Tidak</td>\n",
              "      <td>Tidak</td>\n",
              "      <td>Ya</td>\n",
              "      <td>Tidak</td>\n",
              "      <td>Berlendir</td>\n",
              "      <td>Akut</td>\n",
              "    </tr>\n",
              "    <tr>\n",
              "      <th>4</th>\n",
              "      <td>Ya</td>\n",
              "      <td>Tidak</td>\n",
              "      <td>Ya</td>\n",
              "      <td>Tidak</td>\n",
              "      <td>Berlendir</td>\n",
              "      <td>Akut</td>\n",
              "    </tr>\n",
              "    <tr>\n",
              "      <th>...</th>\n",
              "      <td>...</td>\n",
              "      <td>...</td>\n",
              "      <td>...</td>\n",
              "      <td>...</td>\n",
              "      <td>...</td>\n",
              "      <td>...</td>\n",
              "    </tr>\n",
              "    <tr>\n",
              "      <th>500</th>\n",
              "      <td>Tidak</td>\n",
              "      <td>NaN</td>\n",
              "      <td>Ya</td>\n",
              "      <td>Ya</td>\n",
              "      <td>Berdarah</td>\n",
              "      <td>Akut</td>\n",
              "    </tr>\n",
              "    <tr>\n",
              "      <th>501</th>\n",
              "      <td>Ya</td>\n",
              "      <td>Tidak</td>\n",
              "      <td>Tidak</td>\n",
              "      <td>Ya</td>\n",
              "      <td>Berdarah</td>\n",
              "      <td>Akut</td>\n",
              "    </tr>\n",
              "    <tr>\n",
              "      <th>502</th>\n",
              "      <td>Tidak</td>\n",
              "      <td>Tidak</td>\n",
              "      <td>Ya</td>\n",
              "      <td>Ya</td>\n",
              "      <td>Tidak</td>\n",
              "      <td>Akut</td>\n",
              "    </tr>\n",
              "    <tr>\n",
              "      <th>503</th>\n",
              "      <td>Ya</td>\n",
              "      <td>Tidak</td>\n",
              "      <td>Tidak</td>\n",
              "      <td>Ya</td>\n",
              "      <td>Berlendir</td>\n",
              "      <td>Akut</td>\n",
              "    </tr>\n",
              "    <tr>\n",
              "      <th>504</th>\n",
              "      <td>Ya</td>\n",
              "      <td>Tidak</td>\n",
              "      <td>NaN</td>\n",
              "      <td>Ya</td>\n",
              "      <td>Tidak</td>\n",
              "      <td>Akut</td>\n",
              "    </tr>\n",
              "  </tbody>\n",
              "</table>\n",
              "<p>505 rows × 6 columns</p>\n",
              "</div>"
            ],
            "text/plain": [
              "    Muntah BAB lebih dari 2 minggu  ... Feses Berdarah/Berlendir Diare\n",
              "0       Ya                   Tidak  ...                Berlendir  Akut\n",
              "1    Tidak                   Tidak  ...                    Tidak  Akut\n",
              "2    Tidak                   Tidak  ...                Berlendir  Akut\n",
              "3    Tidak                   Tidak  ...                Berlendir  Akut\n",
              "4       Ya                   Tidak  ...                Berlendir  Akut\n",
              "..     ...                     ...  ...                      ...   ...\n",
              "500  Tidak                     NaN  ...                 Berdarah  Akut\n",
              "501     Ya                   Tidak  ...                 Berdarah  Akut\n",
              "502  Tidak                   Tidak  ...                    Tidak  Akut\n",
              "503     Ya                   Tidak  ...                Berlendir  Akut\n",
              "504     Ya                   Tidak  ...                    Tidak  Akut\n",
              "\n",
              "[505 rows x 6 columns]"
            ]
          },
          "metadata": {
            "tags": []
          },
          "execution_count": 48
        }
      ]
    },
    {
      "cell_type": "code",
      "metadata": {
        "colab": {
          "base_uri": "https://localhost:8080/",
          "height": 173
        },
        "id": "08WZARk_0FdJ",
        "outputId": "bd13338a-1736-4bad-aaa1-3bc94ab2ca23"
      },
      "source": [
        "da.describe()"
      ],
      "execution_count": 49,
      "outputs": [
        {
          "output_type": "execute_result",
          "data": {
            "text/html": [
              "<div>\n",
              "<style scoped>\n",
              "    .dataframe tbody tr th:only-of-type {\n",
              "        vertical-align: middle;\n",
              "    }\n",
              "\n",
              "    .dataframe tbody tr th {\n",
              "        vertical-align: top;\n",
              "    }\n",
              "\n",
              "    .dataframe thead th {\n",
              "        text-align: right;\n",
              "    }\n",
              "</style>\n",
              "<table border=\"1\" class=\"dataframe\">\n",
              "  <thead>\n",
              "    <tr style=\"text-align: right;\">\n",
              "      <th></th>\n",
              "      <th>Muntah</th>\n",
              "      <th>BAB lebih dari 2 minggu</th>\n",
              "      <th>BAB lebih dari 3x Sehari</th>\n",
              "      <th>Feses Encer</th>\n",
              "      <th>Feses Berdarah/Berlendir</th>\n",
              "      <th>Diare</th>\n",
              "    </tr>\n",
              "  </thead>\n",
              "  <tbody>\n",
              "    <tr>\n",
              "      <th>count</th>\n",
              "      <td>500</td>\n",
              "      <td>491</td>\n",
              "      <td>504</td>\n",
              "      <td>500</td>\n",
              "      <td>496</td>\n",
              "      <td>504</td>\n",
              "    </tr>\n",
              "    <tr>\n",
              "      <th>unique</th>\n",
              "      <td>2</td>\n",
              "      <td>2</td>\n",
              "      <td>2</td>\n",
              "      <td>2</td>\n",
              "      <td>3</td>\n",
              "      <td>2</td>\n",
              "    </tr>\n",
              "    <tr>\n",
              "      <th>top</th>\n",
              "      <td>Ya</td>\n",
              "      <td>Tidak</td>\n",
              "      <td>Ya</td>\n",
              "      <td>Ya</td>\n",
              "      <td>Berlendir</td>\n",
              "      <td>Akut</td>\n",
              "    </tr>\n",
              "    <tr>\n",
              "      <th>freq</th>\n",
              "      <td>305</td>\n",
              "      <td>448</td>\n",
              "      <td>303</td>\n",
              "      <td>407</td>\n",
              "      <td>214</td>\n",
              "      <td>473</td>\n",
              "    </tr>\n",
              "  </tbody>\n",
              "</table>\n",
              "</div>"
            ],
            "text/plain": [
              "       Muntah BAB lebih dari 2 minggu  ... Feses Berdarah/Berlendir Diare\n",
              "count     500                     491  ...                      496   504\n",
              "unique      2                       2  ...                        3     2\n",
              "top        Ya                   Tidak  ...                Berlendir  Akut\n",
              "freq      305                     448  ...                      214   473\n",
              "\n",
              "[4 rows x 6 columns]"
            ]
          },
          "metadata": {
            "tags": []
          },
          "execution_count": 49
        }
      ]
    },
    {
      "cell_type": "code",
      "metadata": {
        "colab": {
          "base_uri": "https://localhost:8080/",
          "height": 346
        },
        "id": "8S4Aapi7i24d",
        "outputId": "f4ad992b-191e-4a2d-cfe9-511c0b928e21"
      },
      "source": [
        "#drop missing data\n",
        "data = da.dropna()\n",
        "print('Jumlah missing data: ', (len(da)-len(data)),'\\n')\n",
        "\n",
        "#data = data.drop(columns='Umur')\n",
        "#data = data.drop(columns='Nyeri di Perut')\n",
        "#data = data.drop(columns='Demam')\n",
        "#data = data.drop(columns='Mulut Kering')\n",
        "#data = data.drop(columns='Muntah')\n",
        "#data = data.drop(columns='BAB lebih dari 3x sehari')\n",
        "#data = data.drop(columns='BAB lebih dari 2 minggu')\n",
        "#data = data.drop(columns='Feses Encer')\n",
        "\n",
        "# renaming label column on dataset\n",
        "data = data.rename(columns={'BAB lebih dari 2 minggu':'BAB_1',\n",
        "                                    'BAB lebih dari 3x Sehari':'BAB_2',\n",
        "                                    'Feses Encer':'FE',\n",
        "                                    'Feses Berdarah/Berlendir':'FBoB'})\n",
        "\n",
        "\n",
        "#Check pembagian tiap target class\n",
        "sns.countplot(x = data['Diare'])\n",
        "plt.title('Data pembagian kelas diare')\n",
        "plt.xlabel('Target kelas')\n",
        "plt.ylabel('Frekuensi')"
      ],
      "execution_count": 50,
      "outputs": [
        {
          "output_type": "stream",
          "text": [
            "Jumlah missing data:  23 \n",
            "\n"
          ],
          "name": "stdout"
        },
        {
          "output_type": "execute_result",
          "data": {
            "text/plain": [
              "Text(0, 0.5, 'Frekuensi')"
            ]
          },
          "metadata": {
            "tags": []
          },
          "execution_count": 50
        },
        {
          "output_type": "display_data",
          "data": {
            "image/png": "[encoded data removed]",
            "text/plain": [
              "<Figure size 432x288 with 1 Axes>"
            ]
          },
          "metadata": {
            "tags": [],
            "needs_background": "light"
          }
        }
      ]
    },
    {
      "cell_type": "code",
      "metadata": {
        "colab": {
          "base_uri": "https://localhost:8080/",
          "height": 419
        },
        "id": "pVhqewqA9-qh",
        "outputId": "a8b1a4cf-b49e-4191-87d8-2b4ec06dfaa8"
      },
      "source": [
        "data"
      ],
      "execution_count": 51,
      "outputs": [
        {
          "output_type": "execute_result",
          "data": {
            "text/html": [
              "<div>\n",
              "<style scoped>\n",
              "    .dataframe tbody tr th:only-of-type {\n",
              "        vertical-align: middle;\n",
              "    }\n",
              "\n",
              "    .dataframe tbody tr th {\n",
              "        vertical-align: top;\n",
              "    }\n",
              "\n",
              "    .dataframe thead th {\n",
              "        text-align: right;\n",
              "    }\n",
              "</style>\n",
              "<table border=\"1\" class=\"dataframe\">\n",
              "  <thead>\n",
              "    <tr style=\"text-align: right;\">\n",
              "      <th></th>\n",
              "      <th>Muntah</th>\n",
              "      <th>BAB_1</th>\n",
              "      <th>BAB_2</th>\n",
              "      <th>FE</th>\n",
              "      <th>FBoB</th>\n",
              "      <th>Diare</th>\n",
              "    </tr>\n",
              "  </thead>\n",
              "  <tbody>\n",
              "    <tr>\n",
              "      <th>0</th>\n",
              "      <td>Ya</td>\n",
              "      <td>Tidak</td>\n",
              "      <td>Ya</td>\n",
              "      <td>Tidak</td>\n",
              "      <td>Berlendir</td>\n",
              "      <td>Akut</td>\n",
              "    </tr>\n",
              "    <tr>\n",
              "      <th>1</th>\n",
              "      <td>Tidak</td>\n",
              "      <td>Tidak</td>\n",
              "      <td>Ya</td>\n",
              "      <td>Ya</td>\n",
              "      <td>Tidak</td>\n",
              "      <td>Akut</td>\n",
              "    </tr>\n",
              "    <tr>\n",
              "      <th>2</th>\n",
              "      <td>Tidak</td>\n",
              "      <td>Tidak</td>\n",
              "      <td>Tidak</td>\n",
              "      <td>Ya</td>\n",
              "      <td>Berlendir</td>\n",
              "      <td>Akut</td>\n",
              "    </tr>\n",
              "    <tr>\n",
              "      <th>3</th>\n",
              "      <td>Tidak</td>\n",
              "      <td>Tidak</td>\n",
              "      <td>Ya</td>\n",
              "      <td>Tidak</td>\n",
              "      <td>Berlendir</td>\n",
              "      <td>Akut</td>\n",
              "    </tr>\n",
              "    <tr>\n",
              "      <th>4</th>\n",
              "      <td>Ya</td>\n",
              "      <td>Tidak</td>\n",
              "      <td>Ya</td>\n",
              "      <td>Tidak</td>\n",
              "      <td>Berlendir</td>\n",
              "      <td>Akut</td>\n",
              "    </tr>\n",
              "    <tr>\n",
              "      <th>...</th>\n",
              "      <td>...</td>\n",
              "      <td>...</td>\n",
              "      <td>...</td>\n",
              "      <td>...</td>\n",
              "      <td>...</td>\n",
              "      <td>...</td>\n",
              "    </tr>\n",
              "    <tr>\n",
              "      <th>498</th>\n",
              "      <td>Tidak</td>\n",
              "      <td>Ya</td>\n",
              "      <td>Ya</td>\n",
              "      <td>Ya</td>\n",
              "      <td>Berdarah</td>\n",
              "      <td>Kronis</td>\n",
              "    </tr>\n",
              "    <tr>\n",
              "      <th>499</th>\n",
              "      <td>Tidak</td>\n",
              "      <td>Ya</td>\n",
              "      <td>Ya</td>\n",
              "      <td>Ya</td>\n",
              "      <td>Berdarah</td>\n",
              "      <td>Kronis</td>\n",
              "    </tr>\n",
              "    <tr>\n",
              "      <th>501</th>\n",
              "      <td>Ya</td>\n",
              "      <td>Tidak</td>\n",
              "      <td>Tidak</td>\n",
              "      <td>Ya</td>\n",
              "      <td>Berdarah</td>\n",
              "      <td>Akut</td>\n",
              "    </tr>\n",
              "    <tr>\n",
              "      <th>502</th>\n",
              "      <td>Tidak</td>\n",
              "      <td>Tidak</td>\n",
              "      <td>Ya</td>\n",
              "      <td>Ya</td>\n",
              "      <td>Tidak</td>\n",
              "      <td>Akut</td>\n",
              "    </tr>\n",
              "    <tr>\n",
              "      <th>503</th>\n",
              "      <td>Ya</td>\n",
              "      <td>Tidak</td>\n",
              "      <td>Tidak</td>\n",
              "      <td>Ya</td>\n",
              "      <td>Berlendir</td>\n",
              "      <td>Akut</td>\n",
              "    </tr>\n",
              "  </tbody>\n",
              "</table>\n",
              "<p>482 rows × 6 columns</p>\n",
              "</div>"
            ],
            "text/plain": [
              "    Muntah  BAB_1  BAB_2     FE       FBoB   Diare\n",
              "0       Ya  Tidak     Ya  Tidak  Berlendir    Akut\n",
              "1    Tidak  Tidak     Ya     Ya      Tidak    Akut\n",
              "2    Tidak  Tidak  Tidak     Ya  Berlendir    Akut\n",
              "3    Tidak  Tidak     Ya  Tidak  Berlendir    Akut\n",
              "4       Ya  Tidak     Ya  Tidak  Berlendir    Akut\n",
              "..     ...    ...    ...    ...        ...     ...\n",
              "498  Tidak     Ya     Ya     Ya   Berdarah  Kronis\n",
              "499  Tidak     Ya     Ya     Ya   Berdarah  Kronis\n",
              "501     Ya  Tidak  Tidak     Ya   Berdarah    Akut\n",
              "502  Tidak  Tidak     Ya     Ya      Tidak    Akut\n",
              "503     Ya  Tidak  Tidak     Ya  Berlendir    Akut\n",
              "\n",
              "[482 rows x 6 columns]"
            ]
          },
          "metadata": {
            "tags": []
          },
          "execution_count": 51
        }
      ]
    },
    {
      "cell_type": "code",
      "metadata": {
        "id": "CSf4GsdimqFH",
        "colab": {
          "base_uri": "https://localhost:8080/",
          "height": 419
        },
        "outputId": "bf5cd645-0c8f-4340-b50c-a7557c689aef"
      },
      "source": [
        "#Encode using LabelEncoder\n",
        "\n",
        "le = LabelEncoder()\n",
        "clf= DecisionTreeClassifier()\n",
        "X = data.drop(columns='Diare')\n",
        "y = data['Diare']\n",
        "\n",
        "#applying label encoder untuk tiap atribut predictor\n",
        "X = X.apply(le.fit_transform)\n",
        "X"
      ],
      "execution_count": 52,
      "outputs": [
        {
          "output_type": "execute_result",
          "data": {
            "text/html": [
              "<div>\n",
              "<style scoped>\n",
              "    .dataframe tbody tr th:only-of-type {\n",
              "        vertical-align: middle;\n",
              "    }\n",
              "\n",
              "    .dataframe tbody tr th {\n",
              "        vertical-align: top;\n",
              "    }\n",
              "\n",
              "    .dataframe thead th {\n",
              "        text-align: right;\n",
              "    }\n",
              "</style>\n",
              "<table border=\"1\" class=\"dataframe\">\n",
              "  <thead>\n",
              "    <tr style=\"text-align: right;\">\n",
              "      <th></th>\n",
              "      <th>Muntah</th>\n",
              "      <th>BAB_1</th>\n",
              "      <th>BAB_2</th>\n",
              "      <th>FE</th>\n",
              "      <th>FBoB</th>\n",
              "    </tr>\n",
              "  </thead>\n",
              "  <tbody>\n",
              "    <tr>\n",
              "      <th>0</th>\n",
              "      <td>1</td>\n",
              "      <td>0</td>\n",
              "      <td>1</td>\n",
              "      <td>0</td>\n",
              "      <td>1</td>\n",
              "    </tr>\n",
              "    <tr>\n",
              "      <th>1</th>\n",
              "      <td>0</td>\n",
              "      <td>0</td>\n",
              "      <td>1</td>\n",
              "      <td>1</td>\n",
              "      <td>2</td>\n",
              "    </tr>\n",
              "    <tr>\n",
              "      <th>2</th>\n",
              "      <td>0</td>\n",
              "      <td>0</td>\n",
              "      <td>0</td>\n",
              "      <td>1</td>\n",
              "      <td>1</td>\n",
              "    </tr>\n",
              "    <tr>\n",
              "      <th>3</th>\n",
              "      <td>0</td>\n",
              "      <td>0</td>\n",
              "      <td>1</td>\n",
              "      <td>0</td>\n",
              "      <td>1</td>\n",
              "    </tr>\n",
              "    <tr>\n",
              "      <th>4</th>\n",
              "      <td>1</td>\n",
              "      <td>0</td>\n",
              "      <td>1</td>\n",
              "      <td>0</td>\n",
              "      <td>1</td>\n",
              "    </tr>\n",
              "    <tr>\n",
              "      <th>...</th>\n",
              "      <td>...</td>\n",
              "      <td>...</td>\n",
              "      <td>...</td>\n",
              "      <td>...</td>\n",
              "      <td>...</td>\n",
              "    </tr>\n",
              "    <tr>\n",
              "      <th>498</th>\n",
              "      <td>0</td>\n",
              "      <td>1</td>\n",
              "      <td>1</td>\n",
              "      <td>1</td>\n",
              "      <td>0</td>\n",
              "    </tr>\n",
              "    <tr>\n",
              "      <th>499</th>\n",
              "      <td>0</td>\n",
              "      <td>1</td>\n",
              "      <td>1</td>\n",
              "      <td>1</td>\n",
              "      <td>0</td>\n",
              "    </tr>\n",
              "    <tr>\n",
              "      <th>501</th>\n",
              "      <td>1</td>\n",
              "      <td>0</td>\n",
              "      <td>0</td>\n",
              "      <td>1</td>\n",
              "      <td>0</td>\n",
              "    </tr>\n",
              "    <tr>\n",
              "      <th>502</th>\n",
              "      <td>0</td>\n",
              "      <td>0</td>\n",
              "      <td>1</td>\n",
              "      <td>1</td>\n",
              "      <td>2</td>\n",
              "    </tr>\n",
              "    <tr>\n",
              "      <th>503</th>\n",
              "      <td>1</td>\n",
              "      <td>0</td>\n",
              "      <td>0</td>\n",
              "      <td>1</td>\n",
              "      <td>1</td>\n",
              "    </tr>\n",
              "  </tbody>\n",
              "</table>\n",
              "<p>482 rows × 5 columns</p>\n",
              "</div>"
            ],
            "text/plain": [
              "     Muntah  BAB_1  BAB_2  FE  FBoB\n",
              "0         1      0      1   0     1\n",
              "1         0      0      1   1     2\n",
              "2         0      0      0   1     1\n",
              "3         0      0      1   0     1\n",
              "4         1      0      1   0     1\n",
              "..      ...    ...    ...  ..   ...\n",
              "498       0      1      1   1     0\n",
              "499       0      1      1   1     0\n",
              "501       1      0      0   1     0\n",
              "502       0      0      1   1     2\n",
              "503       1      0      0   1     1\n",
              "\n",
              "[482 rows x 5 columns]"
            ]
          },
          "metadata": {
            "tags": []
          },
          "execution_count": 52
        }
      ]
    },
    {
      "cell_type": "code",
      "metadata": {
        "colab": {
          "base_uri": "https://localhost:8080/",
          "height": 1000
        },
        "id": "eZtJdSjkV1a_",
        "outputId": "abbd77b2-8280-42d0-86fc-23c55f96c5ff"
      },
      "source": [
        "def normal():\n",
        "  #Splitting data train and test\n",
        "  X_train, X_test, y_train, y_test = tt(X,y, test_size=0.2, random_state=20)\n",
        "  print(Counter(y_train), '\\n')\n",
        "  \n",
        "  #Proceed model\n",
        "  clf.fit(X_train, y_train)\n",
        "  y_pred = clf.predict(X_test)\n",
        "  print(classification_report(y_test, y_pred))\n",
        "  #acc = metrics.accuracy_score(y_test, y_pred)*100\n",
        "  joblib.dump(clf, 'normal.pkl')\n",
        "  plot_confusion_matrix(clf, X_test, y_test)\n",
        "  plt.show()\n",
        "  print('\\n')\n",
        "\n",
        "  #tree viz and tree text\n",
        "  graph= Source(tree.export_graphviz(clf, feature_names=X.columns, \n",
        "                                     filled=True))\n",
        "  display(SVG(graph.pipe(format='svg')))\n",
        "  print('\\n')\n",
        "  tree_root = export_text(clf)\n",
        "  print(tree_root)\n",
        "\n",
        "normal()"
      ],
      "execution_count": 53,
      "outputs": [
        {
          "output_type": "stream",
          "text": [
            "Counter({'Akut': 359, 'Kronis': 26}) \n",
            "\n",
            "              precision    recall  f1-score   support\n",
            "\n",
            "        Akut       1.00      1.00      1.00        92\n",
            "      Kronis       1.00      1.00      1.00         5\n",
            "\n",
            "    accuracy                           1.00        97\n",
            "   macro avg       1.00      1.00      1.00        97\n",
            "weighted avg       1.00      1.00      1.00        97\n",
            "\n"
          ],
          "name": "stdout"
        },
        {
          "output_type": "display_data",
          "data": {
            "image/png": "[encoded data removed]",
            "text/plain": [
              "<Figure size 432x288 with 2 Axes>"
            ]
          },
          "metadata": {
            "tags": [],
            "needs_background": "light"
          }
        },
        {
          "output_type": "stream",
          "text": [
            "\n",
            "\n"
          ],
          "name": "stdout"
        },
        {
          "output_type": "display_data",
          "data": {
            "text/plain": [
              "<IPython.core.display.SVG object>"
            ],
            "image/svg+xml": "<svg height=\"685pt\" viewBox=\"0.00 0.00 525.50 685.00\" width=\"526pt\" xmlns=\"http://www.w3.org/2000/svg\" xmlns:xlink=\"http://www.w3.org/1999/xlink\">\n<g class=\"graph\" id=\"graph0\" transform=\"scale(1 1) rotate(0) translate(4 681)\">\n<title>Tree</title>\n<polygon fill=\"#ffffff\" points=\"-4,4 -4,-681 521.5,-681 521.5,4 -4,4\" stroke=\"transparent\"/>\n<!-- 0 -->\n<g class=\"node\" id=\"node1\">\n<title>0</title>\n<polygon fill=\"#e78a47\" points=\"175.5,-677 58.5,-677 58.5,-609 175.5,-609 175.5,-677\" stroke=\"#000000\"/>\n<text fill=\"#000000\" font-family=\"Times,serif\" font-size=\"14.00\" text-anchor=\"middle\" x=\"117\" y=\"-661.8\">BAB_1 &lt;= 0.5</text>\n<text fill=\"#000000\" font-family=\"Times,serif\" font-size=\"14.00\" text-anchor=\"middle\" x=\"117\" y=\"-646.8\">gini = 0.126</text>\n<text fill=\"#000000\" font-family=\"Times,serif\" font-size=\"14.00\" text-anchor=\"middle\" x=\"117\" y=\"-631.8\">samples = 385</text>\n<text fill=\"#000000\" font-family=\"Times,serif\" font-size=\"14.00\" text-anchor=\"middle\" x=\"117\" y=\"-616.8\">value = [359, 26]</text>\n</g>\n<!-- 1 -->\n<g class=\"node\" id=\"node2\">\n<title>1</title>\n<polygon fill=\"#e58139\" points=\"110,-565.5 0,-565.5 0,-512.5 110,-512.5 110,-565.5\" stroke=\"#000000\"/>\n<text fill=\"#000000\" font-family=\"Times,serif\" font-size=\"14.00\" text-anchor=\"middle\" x=\"55\" y=\"-550.3\">gini = 0.0</text>\n<text fill=\"#000000\" font-family=\"Times,serif\" font-size=\"14.00\" text-anchor=\"middle\" x=\"55\" y=\"-535.3\">samples = 350</text>\n<text fill=\"#000000\" font-family=\"Times,serif\" font-size=\"14.00\" text-anchor=\"middle\" x=\"55\" y=\"-520.3\">value = [350, 0]</text>\n</g>\n<!-- 0&#45;&gt;1 -->\n<g class=\"edge\" id=\"edge1\">\n<title>0-&gt;1</title>\n<path d=\"M96.6989,-608.9465C90.0666,-597.8215 82.6897,-585.4473 76.0067,-574.237\" fill=\"none\" stroke=\"#000000\"/>\n<polygon fill=\"#000000\" points=\"78.9502,-572.3394 70.8232,-565.5422 72.9376,-575.9239 78.9502,-572.3394\" stroke=\"#000000\"/>\n<text fill=\"#000000\" font-family=\"Times,serif\" font-size=\"14.00\" text-anchor=\"middle\" x=\"64.6911\" y=\"-586.0785\">True</text>\n</g>\n<!-- 2 -->\n<g class=\"node\" id=\"node3\">\n<title>2</title>\n<polygon fill=\"#7ebfee\" points=\"232,-573 128,-573 128,-505 232,-505 232,-573\" stroke=\"#000000\"/>\n<text fill=\"#000000\" font-family=\"Times,serif\" font-size=\"14.00\" text-anchor=\"middle\" x=\"180\" y=\"-557.8\">BAB_2 &lt;= 0.5</text>\n<text fill=\"#000000\" font-family=\"Times,serif\" font-size=\"14.00\" text-anchor=\"middle\" x=\"180\" y=\"-542.8\">gini = 0.382</text>\n<text fill=\"#000000\" font-family=\"Times,serif\" font-size=\"14.00\" text-anchor=\"middle\" x=\"180\" y=\"-527.8\">samples = 35</text>\n<text fill=\"#000000\" font-family=\"Times,serif\" font-size=\"14.00\" text-anchor=\"middle\" x=\"180\" y=\"-512.8\">value = [9, 26]</text>\n</g>\n<!-- 0&#45;&gt;2 -->\n<g class=\"edge\" id=\"edge2\">\n<title>0-&gt;2</title>\n<path d=\"M137.6286,-608.9465C142.8499,-600.3271 148.5255,-590.9579 153.9755,-581.9611\" fill=\"none\" stroke=\"#000000\"/>\n<polygon fill=\"#000000\" points=\"157.1374,-583.4965 159.3251,-573.13 151.1503,-579.8697 157.1374,-583.4965\" stroke=\"#000000\"/>\n<text fill=\"#000000\" font-family=\"Times,serif\" font-size=\"14.00\" text-anchor=\"middle\" x=\"165.2858\" y=\"-593.709\">False</text>\n</g>\n<!-- 3 -->\n<g class=\"node\" id=\"node4\">\n<title>3</title>\n<polygon fill=\"#e58139\" points=\"169.5,-461.5 74.5,-461.5 74.5,-408.5 169.5,-408.5 169.5,-461.5\" stroke=\"#000000\"/>\n<text fill=\"#000000\" font-family=\"Times,serif\" font-size=\"14.00\" text-anchor=\"middle\" x=\"122\" y=\"-446.3\">gini = 0.0</text>\n<text fill=\"#000000\" font-family=\"Times,serif\" font-size=\"14.00\" text-anchor=\"middle\" x=\"122\" y=\"-431.3\">samples = 6</text>\n<text fill=\"#000000\" font-family=\"Times,serif\" font-size=\"14.00\" text-anchor=\"middle\" x=\"122\" y=\"-416.3\">value = [6, 0]</text>\n</g>\n<!-- 2&#45;&gt;3 -->\n<g class=\"edge\" id=\"edge3\">\n<title>2-&gt;3</title>\n<path d=\"M161.0086,-504.9465C154.8657,-493.9316 148.0399,-481.6922 141.8373,-470.5703\" fill=\"none\" stroke=\"#000000\"/>\n<polygon fill=\"#000000\" points=\"144.7299,-468.5711 136.8024,-461.5422 138.6163,-471.9806 144.7299,-468.5711\" stroke=\"#000000\"/>\n</g>\n<!-- 4 -->\n<g class=\"node\" id=\"node5\">\n<title>4</title>\n<polygon fill=\"#50a8e8\" points=\"290,-469 188,-469 188,-401 290,-401 290,-469\" stroke=\"#000000\"/>\n<text fill=\"#000000\" font-family=\"Times,serif\" font-size=\"14.00\" text-anchor=\"middle\" x=\"239\" y=\"-453.8\">FE &lt;= 0.5</text>\n<text fill=\"#000000\" font-family=\"Times,serif\" font-size=\"14.00\" text-anchor=\"middle\" x=\"239\" y=\"-438.8\">gini = 0.185</text>\n<text fill=\"#000000\" font-family=\"Times,serif\" font-size=\"14.00\" text-anchor=\"middle\" x=\"239\" y=\"-423.8\">samples = 29</text>\n<text fill=\"#000000\" font-family=\"Times,serif\" font-size=\"14.00\" text-anchor=\"middle\" x=\"239\" y=\"-408.8\">value = [3, 26]</text>\n</g>\n<!-- 2&#45;&gt;4 -->\n<g class=\"edge\" id=\"edge4\">\n<title>2-&gt;4</title>\n<path d=\"M199.3188,-504.9465C204.2087,-496.3271 209.5239,-486.9579 214.6278,-477.9611\" fill=\"none\" stroke=\"#000000\"/>\n<polygon fill=\"#000000\" points=\"217.7476,-479.5549 219.6378,-469.13 211.6592,-476.1008 217.7476,-479.5549\" stroke=\"#000000\"/>\n</g>\n<!-- 5 -->\n<g class=\"node\" id=\"node6\">\n<title>5</title>\n<polygon fill=\"#e58139\" points=\"228.5,-357.5 133.5,-357.5 133.5,-304.5 228.5,-304.5 228.5,-357.5\" stroke=\"#000000\"/>\n<text fill=\"#000000\" font-family=\"Times,serif\" font-size=\"14.00\" text-anchor=\"middle\" x=\"181\" y=\"-342.3\">gini = 0.0</text>\n<text fill=\"#000000\" font-family=\"Times,serif\" font-size=\"14.00\" text-anchor=\"middle\" x=\"181\" y=\"-327.3\">samples = 1</text>\n<text fill=\"#000000\" font-family=\"Times,serif\" font-size=\"14.00\" text-anchor=\"middle\" x=\"181\" y=\"-312.3\">value = [1, 0]</text>\n</g>\n<!-- 4&#45;&gt;5 -->\n<g class=\"edge\" id=\"edge5\">\n<title>4-&gt;5</title>\n<path d=\"M220.0086,-400.9465C213.8657,-389.9316 207.0399,-377.6922 200.8373,-366.5703\" fill=\"none\" stroke=\"#000000\"/>\n<polygon fill=\"#000000\" points=\"203.7299,-364.5711 195.8024,-357.5422 197.6163,-367.9806 203.7299,-364.5711\" stroke=\"#000000\"/>\n</g>\n<!-- 6 -->\n<g class=\"node\" id=\"node7\">\n<title>6</title>\n<polygon fill=\"#48a5e7\" points=\"349,-365 247,-365 247,-297 349,-297 349,-365\" stroke=\"#000000\"/>\n<text fill=\"#000000\" font-family=\"Times,serif\" font-size=\"14.00\" text-anchor=\"middle\" x=\"298\" y=\"-349.8\">FBoB &lt;= 1.5</text>\n<text fill=\"#000000\" font-family=\"Times,serif\" font-size=\"14.00\" text-anchor=\"middle\" x=\"298\" y=\"-334.8\">gini = 0.133</text>\n<text fill=\"#000000\" font-family=\"Times,serif\" font-size=\"14.00\" text-anchor=\"middle\" x=\"298\" y=\"-319.8\">samples = 28</text>\n<text fill=\"#000000\" font-family=\"Times,serif\" font-size=\"14.00\" text-anchor=\"middle\" x=\"298\" y=\"-304.8\">value = [2, 26]</text>\n</g>\n<!-- 4&#45;&gt;6 -->\n<g class=\"edge\" id=\"edge6\">\n<title>4-&gt;6</title>\n<path d=\"M258.3188,-400.9465C263.2087,-392.3271 268.5239,-382.9579 273.6278,-373.9611\" fill=\"none\" stroke=\"#000000\"/>\n<polygon fill=\"#000000\" points=\"276.7476,-375.5549 278.6378,-365.13 270.6592,-372.1008 276.7476,-375.5549\" stroke=\"#000000\"/>\n</g>\n<!-- 7 -->\n<g class=\"node\" id=\"node8\">\n<title>7</title>\n<polygon fill=\"#41a1e6\" points=\"288,-261 186,-261 186,-193 288,-193 288,-261\" stroke=\"#000000\"/>\n<text fill=\"#000000\" font-family=\"Times,serif\" font-size=\"14.00\" text-anchor=\"middle\" x=\"237\" y=\"-245.8\">FBoB &lt;= 0.5</text>\n<text fill=\"#000000\" font-family=\"Times,serif\" font-size=\"14.00\" text-anchor=\"middle\" x=\"237\" y=\"-230.8\">gini = 0.074</text>\n<text fill=\"#000000\" font-family=\"Times,serif\" font-size=\"14.00\" text-anchor=\"middle\" x=\"237\" y=\"-215.8\">samples = 26</text>\n<text fill=\"#000000\" font-family=\"Times,serif\" font-size=\"14.00\" text-anchor=\"middle\" x=\"237\" y=\"-200.8\">value = [1, 25]</text>\n</g>\n<!-- 6&#45;&gt;7 -->\n<g class=\"edge\" id=\"edge7\">\n<title>6-&gt;7</title>\n<path d=\"M278.0263,-296.9465C272.9707,-288.3271 267.4753,-278.9579 262.1983,-269.9611\" fill=\"none\" stroke=\"#000000\"/>\n<polygon fill=\"#000000\" points=\"265.0969,-267.985 257.0186,-261.13 259.0589,-271.5265 265.0969,-267.985\" stroke=\"#000000\"/>\n</g>\n<!-- 12 -->\n<g class=\"node\" id=\"node13\">\n<title>12</title>\n<polygon fill=\"#ffffff\" points=\"410,-261 306,-261 306,-193 410,-193 410,-261\" stroke=\"#000000\"/>\n<text fill=\"#000000\" font-family=\"Times,serif\" font-size=\"14.00\" text-anchor=\"middle\" x=\"358\" y=\"-245.8\">Muntah &lt;= 0.5</text>\n<text fill=\"#000000\" font-family=\"Times,serif\" font-size=\"14.00\" text-anchor=\"middle\" x=\"358\" y=\"-230.8\">gini = 0.5</text>\n<text fill=\"#000000\" font-family=\"Times,serif\" font-size=\"14.00\" text-anchor=\"middle\" x=\"358\" y=\"-215.8\">samples = 2</text>\n<text fill=\"#000000\" font-family=\"Times,serif\" font-size=\"14.00\" text-anchor=\"middle\" x=\"358\" y=\"-200.8\">value = [1, 1]</text>\n</g>\n<!-- 6&#45;&gt;12 -->\n<g class=\"edge\" id=\"edge12\">\n<title>6-&gt;12</title>\n<path d=\"M317.6462,-296.9465C322.619,-288.3271 328.0243,-278.9579 333.2148,-269.9611\" fill=\"none\" stroke=\"#000000\"/>\n<polygon fill=\"#000000\" points=\"336.344,-271.5409 338.3096,-261.13 330.2807,-268.0428 336.344,-271.5409\" stroke=\"#000000\"/>\n</g>\n<!-- 8 -->\n<g class=\"node\" id=\"node9\">\n<title>8</title>\n<polygon fill=\"#399de5\" points=\"168,-149.5 66,-149.5 66,-96.5 168,-96.5 168,-149.5\" stroke=\"#000000\"/>\n<text fill=\"#000000\" font-family=\"Times,serif\" font-size=\"14.00\" text-anchor=\"middle\" x=\"117\" y=\"-134.3\">gini = 0.0</text>\n<text fill=\"#000000\" font-family=\"Times,serif\" font-size=\"14.00\" text-anchor=\"middle\" x=\"117\" y=\"-119.3\">samples = 20</text>\n<text fill=\"#000000\" font-family=\"Times,serif\" font-size=\"14.00\" text-anchor=\"middle\" x=\"117\" y=\"-104.3\">value = [0, 20]</text>\n</g>\n<!-- 7&#45;&gt;8 -->\n<g class=\"edge\" id=\"edge8\">\n<title>7-&gt;8</title>\n<path d=\"M197.7075,-192.9465C184.1083,-181.1606 168.8915,-167.9726 155.3676,-156.2519\" fill=\"none\" stroke=\"#000000\"/>\n<polygon fill=\"#000000\" points=\"157.4748,-153.4466 147.6256,-149.5422 152.8902,-158.7364 157.4748,-153.4466\" stroke=\"#000000\"/>\n</g>\n<!-- 9 -->\n<g class=\"node\" id=\"node10\">\n<title>9</title>\n<polygon fill=\"#61b1ea\" points=\"290,-157 186,-157 186,-89 290,-89 290,-157\" stroke=\"#000000\"/>\n<text fill=\"#000000\" font-family=\"Times,serif\" font-size=\"14.00\" text-anchor=\"middle\" x=\"238\" y=\"-141.8\">Muntah &lt;= 0.5</text>\n<text fill=\"#000000\" font-family=\"Times,serif\" font-size=\"14.00\" text-anchor=\"middle\" x=\"238\" y=\"-126.8\">gini = 0.278</text>\n<text fill=\"#000000\" font-family=\"Times,serif\" font-size=\"14.00\" text-anchor=\"middle\" x=\"238\" y=\"-111.8\">samples = 6</text>\n<text fill=\"#000000\" font-family=\"Times,serif\" font-size=\"14.00\" text-anchor=\"middle\" x=\"238\" y=\"-96.8\">value = [1, 5]</text>\n</g>\n<!-- 7&#45;&gt;9 -->\n<g class=\"edge\" id=\"edge9\">\n<title>7-&gt;9</title>\n<path d=\"M237.3274,-192.9465C237.406,-184.776 237.491,-175.9318 237.5734,-167.3697\" fill=\"none\" stroke=\"#000000\"/>\n<polygon fill=\"#000000\" points=\"241.0754,-167.1632 237.6718,-157.13 234.0757,-167.0958 241.0754,-167.1632\" stroke=\"#000000\"/>\n</g>\n<!-- 10 -->\n<g class=\"node\" id=\"node11\">\n<title>10</title>\n<polygon fill=\"#ffffff\" points=\"228.5,-53 133.5,-53 133.5,0 228.5,0 228.5,-53\" stroke=\"#000000\"/>\n<text fill=\"#000000\" font-family=\"Times,serif\" font-size=\"14.00\" text-anchor=\"middle\" x=\"181\" y=\"-37.8\">gini = 0.5</text>\n<text fill=\"#000000\" font-family=\"Times,serif\" font-size=\"14.00\" text-anchor=\"middle\" x=\"181\" y=\"-22.8\">samples = 2</text>\n<text fill=\"#000000\" font-family=\"Times,serif\" font-size=\"14.00\" text-anchor=\"middle\" x=\"181\" y=\"-7.8\">value = [1, 1]</text>\n</g>\n<!-- 9&#45;&gt;10 -->\n<g class=\"edge\" id=\"edge10\">\n<title>9-&gt;10</title>\n<path d=\"M217.9039,-88.9777C212.7656,-80.2786 207.227,-70.9018 202.0425,-62.1247\" fill=\"none\" stroke=\"#000000\"/>\n<polygon fill=\"#000000\" points=\"204.899,-60.0786 196.7996,-53.2485 198.8719,-63.6387 204.899,-60.0786\" stroke=\"#000000\"/>\n</g>\n<!-- 11 -->\n<g class=\"node\" id=\"node12\">\n<title>11</title>\n<polygon fill=\"#399de5\" points=\"341.5,-53 246.5,-53 246.5,0 341.5,0 341.5,-53\" stroke=\"#000000\"/>\n<text fill=\"#000000\" font-family=\"Times,serif\" font-size=\"14.00\" text-anchor=\"middle\" x=\"294\" y=\"-37.8\">gini = 0.0</text>\n<text fill=\"#000000\" font-family=\"Times,serif\" font-size=\"14.00\" text-anchor=\"middle\" x=\"294\" y=\"-22.8\">samples = 4</text>\n<text fill=\"#000000\" font-family=\"Times,serif\" font-size=\"14.00\" text-anchor=\"middle\" x=\"294\" y=\"-7.8\">value = [0, 4]</text>\n</g>\n<!-- 9&#45;&gt;11 -->\n<g class=\"edge\" id=\"edge11\">\n<title>9-&gt;11</title>\n<path d=\"M257.7435,-88.9777C262.7917,-80.2786 268.2331,-70.9018 273.3266,-62.1247\" fill=\"none\" stroke=\"#000000\"/>\n<polygon fill=\"#000000\" points=\"276.4855,-63.6544 278.4776,-53.2485 270.4311,-60.1409 276.4855,-63.6544\" stroke=\"#000000\"/>\n</g>\n<!-- 13 -->\n<g class=\"node\" id=\"node14\">\n<title>13</title>\n<polygon fill=\"#e58139\" points=\"404.5,-149.5 309.5,-149.5 309.5,-96.5 404.5,-96.5 404.5,-149.5\" stroke=\"#000000\"/>\n<text fill=\"#000000\" font-family=\"Times,serif\" font-size=\"14.00\" text-anchor=\"middle\" x=\"357\" y=\"-134.3\">gini = 0.0</text>\n<text fill=\"#000000\" font-family=\"Times,serif\" font-size=\"14.00\" text-anchor=\"middle\" x=\"357\" y=\"-119.3\">samples = 1</text>\n<text fill=\"#000000\" font-family=\"Times,serif\" font-size=\"14.00\" text-anchor=\"middle\" x=\"357\" y=\"-104.3\">value = [1, 0]</text>\n</g>\n<!-- 12&#45;&gt;13 -->\n<g class=\"edge\" id=\"edge13\">\n<title>12-&gt;13</title>\n<path d=\"M357.6726,-192.9465C357.5698,-182.2621 357.456,-170.4254 357.3517,-159.5742\" fill=\"none\" stroke=\"#000000\"/>\n<polygon fill=\"#000000\" points=\"360.8513,-159.508 357.2552,-149.5422 353.8516,-159.5754 360.8513,-159.508\" stroke=\"#000000\"/>\n</g>\n<!-- 14 -->\n<g class=\"node\" id=\"node15\">\n<title>14</title>\n<polygon fill=\"#399de5\" points=\"517.5,-149.5 422.5,-149.5 422.5,-96.5 517.5,-96.5 517.5,-149.5\" stroke=\"#000000\"/>\n<text fill=\"#000000\" font-family=\"Times,serif\" font-size=\"14.00\" text-anchor=\"middle\" x=\"470\" y=\"-134.3\">gini = 0.0</text>\n<text fill=\"#000000\" font-family=\"Times,serif\" font-size=\"14.00\" text-anchor=\"middle\" x=\"470\" y=\"-119.3\">samples = 1</text>\n<text fill=\"#000000\" font-family=\"Times,serif\" font-size=\"14.00\" text-anchor=\"middle\" x=\"470\" y=\"-104.3\">value = [0, 1]</text>\n</g>\n<!-- 12&#45;&gt;14 -->\n<g class=\"edge\" id=\"edge14\">\n<title>12-&gt;14</title>\n<path d=\"M394.673,-192.9465C407.2469,-181.2707 421.3026,-168.219 433.8359,-156.5809\" fill=\"none\" stroke=\"#000000\"/>\n<polygon fill=\"#000000\" points=\"436.4698,-158.9115 441.4161,-149.5422 431.7066,-153.7819 436.4698,-158.9115\" stroke=\"#000000\"/>\n</g>\n</g>\n</svg>"
          },
          "metadata": {
            "tags": []
          }
        },
        {
          "output_type": "stream",
          "text": [
            "\n",
            "\n",
            "|--- feature_1 <= 0.50\n",
            "|   |--- class: Akut\n",
            "|--- feature_1 >  0.50\n",
            "|   |--- feature_2 <= 0.50\n",
            "|   |   |--- class: Akut\n",
            "|   |--- feature_2 >  0.50\n",
            "|   |   |--- feature_3 <= 0.50\n",
            "|   |   |   |--- class: Akut\n",
            "|   |   |--- feature_3 >  0.50\n",
            "|   |   |   |--- feature_4 <= 1.50\n",
            "|   |   |   |   |--- feature_4 <= 0.50\n",
            "|   |   |   |   |   |--- class: Kronis\n",
            "|   |   |   |   |--- feature_4 >  0.50\n",
            "|   |   |   |   |   |--- feature_0 <= 0.50\n",
            "|   |   |   |   |   |   |--- class: Akut\n",
            "|   |   |   |   |   |--- feature_0 >  0.50\n",
            "|   |   |   |   |   |   |--- class: Kronis\n",
            "|   |   |   |--- feature_4 >  1.50\n",
            "|   |   |   |   |--- feature_0 <= 0.50\n",
            "|   |   |   |   |   |--- class: Akut\n",
            "|   |   |   |   |--- feature_0 >  0.50\n",
            "|   |   |   |   |   |--- class: Kronis\n",
            "\n"
          ],
          "name": "stdout"
        }
      ]
    },
    {
      "cell_type": "code",
      "metadata": {
        "colab": {
          "base_uri": "https://localhost:8080/",
          "height": 1000
        },
        "id": "u0cU-NIMjEYs",
        "outputId": "14bc1cab-e24b-49f9-a866-0b08ea4a9c85"
      },
      "source": [
        "def over():\n",
        "  oversample = SMOTE(random_state=20)\n",
        "  X_over, y_over = oversample.fit_resample(X,y)\n",
        "  X_train, X_test, y_train, y_test = tt(X_over, y_over, test_size=0.2, random_state=8)\n",
        "  print(Counter(y_train))\n",
        "\n",
        "  #proceed model\n",
        "  clf.fit(X_train, y_train)\n",
        "  y_pred = clf.predict(X_test)\n",
        "  print(classification_report(y_test, y_pred))\n",
        "  #acc = metrics.accuracy_score(y_test, y_pred)*100\n",
        "  joblib.dump(clf, 'over.pkl')\n",
        "  plot_confusion_matrix(clf, X_test, y_test)\n",
        "  plt.show()\n",
        "  print('\\n')\n",
        "\n",
        "  #tree viz and tree text\n",
        "  graph= Source(tree.export_graphviz(clf, feature_names=X.columns, \n",
        "                                     filled=True))\n",
        "  display(SVG(graph.pipe(format='svg')))\n",
        "  print('\\n')\n",
        "  tree_root = export_text(clf)\n",
        "  print(tree_root)\n",
        "\n",
        "over()"
      ],
      "execution_count": 54,
      "outputs": [
        {
          "output_type": "stream",
          "text": [
            "Counter({'Akut': 361, 'Kronis': 360})\n",
            "              precision    recall  f1-score   support\n",
            "\n",
            "        Akut       1.00      1.00      1.00        90\n",
            "      Kronis       1.00      1.00      1.00        91\n",
            "\n",
            "    accuracy                           1.00       181\n",
            "   macro avg       1.00      1.00      1.00       181\n",
            "weighted avg       1.00      1.00      1.00       181\n",
            "\n"
          ],
          "name": "stdout"
        },
        {
          "output_type": "display_data",
          "data": {
            "image/png": "[encoded data removed]",
            "text/plain": [
              "<Figure size 432x288 with 2 Axes>"
            ]
          },
          "metadata": {
            "tags": [],
            "needs_background": "light"
          }
        },
        {
          "output_type": "stream",
          "text": [
            "\n",
            "\n"
          ],
          "name": "stdout"
        },
        {
          "output_type": "display_data",
          "data": {
            "text/plain": [
              "<IPython.core.display.SVG object>"
            ],
            "image/svg+xml": "<svg height=\"685pt\" viewBox=\"0.00 0.00 536.50 685.00\" width=\"537pt\" xmlns=\"http://www.w3.org/2000/svg\" xmlns:xlink=\"http://www.w3.org/1999/xlink\">\n<g class=\"graph\" id=\"graph0\" transform=\"scale(1 1) rotate(0) translate(4 681)\">\n<title>Tree</title>\n<polygon fill=\"#ffffff\" points=\"-4,4 -4,-681 532.5,-681 532.5,4 -4,4\" stroke=\"transparent\"/>\n<!-- 0 -->\n<g class=\"node\" id=\"node1\">\n<title>0</title>\n<polygon fill=\"#fffffe\" points=\"182.5,-677 57.5,-677 57.5,-609 182.5,-609 182.5,-677\" stroke=\"#000000\"/>\n<text fill=\"#000000\" font-family=\"Times,serif\" font-size=\"14.00\" text-anchor=\"middle\" x=\"120\" y=\"-661.8\">BAB_1 &lt;= 0.5</text>\n<text fill=\"#000000\" font-family=\"Times,serif\" font-size=\"14.00\" text-anchor=\"middle\" x=\"120\" y=\"-646.8\">gini = 0.5</text>\n<text fill=\"#000000\" font-family=\"Times,serif\" font-size=\"14.00\" text-anchor=\"middle\" x=\"120\" y=\"-631.8\">samples = 721</text>\n<text fill=\"#000000\" font-family=\"Times,serif\" font-size=\"14.00\" text-anchor=\"middle\" x=\"120\" y=\"-616.8\">value = [361, 360]</text>\n</g>\n<!-- 1 -->\n<g class=\"node\" id=\"node2\">\n<title>1</title>\n<polygon fill=\"#e58139\" points=\"110,-565.5 0,-565.5 0,-512.5 110,-512.5 110,-565.5\" stroke=\"#000000\"/>\n<text fill=\"#000000\" font-family=\"Times,serif\" font-size=\"14.00\" text-anchor=\"middle\" x=\"55\" y=\"-550.3\">gini = 0.0</text>\n<text fill=\"#000000\" font-family=\"Times,serif\" font-size=\"14.00\" text-anchor=\"middle\" x=\"55\" y=\"-535.3\">samples = 350</text>\n<text fill=\"#000000\" font-family=\"Times,serif\" font-size=\"14.00\" text-anchor=\"middle\" x=\"55\" y=\"-520.3\">value = [350, 0]</text>\n</g>\n<!-- 0&#45;&gt;1 -->\n<g class=\"edge\" id=\"edge1\">\n<title>0-&gt;1</title>\n<path d=\"M98.7166,-608.9465C91.7634,-597.8215 84.0295,-585.4473 77.0231,-574.237\" fill=\"none\" stroke=\"#000000\"/>\n<polygon fill=\"#000000\" points=\"79.8569,-572.1671 71.5889,-565.5422 73.9209,-575.8772 79.8569,-572.1671\" stroke=\"#000000\"/>\n<text fill=\"#000000\" font-family=\"Times,serif\" font-size=\"14.00\" text-anchor=\"middle\" x=\"65.9674\" y=\"-586.2019\">True</text>\n</g>\n<!-- 2 -->\n<g class=\"node\" id=\"node3\">\n<title>2</title>\n<polygon fill=\"#3fa0e6\" points=\"244,-573 128,-573 128,-505 244,-505 244,-573\" stroke=\"#000000\"/>\n<text fill=\"#000000\" font-family=\"Times,serif\" font-size=\"14.00\" text-anchor=\"middle\" x=\"186\" y=\"-557.8\">BAB_2 &lt;= 0.5</text>\n<text fill=\"#000000\" font-family=\"Times,serif\" font-size=\"14.00\" text-anchor=\"middle\" x=\"186\" y=\"-542.8\">gini = 0.058</text>\n<text fill=\"#000000\" font-family=\"Times,serif\" font-size=\"14.00\" text-anchor=\"middle\" x=\"186\" y=\"-527.8\">samples = 371</text>\n<text fill=\"#000000\" font-family=\"Times,serif\" font-size=\"14.00\" text-anchor=\"middle\" x=\"186\" y=\"-512.8\">value = [11, 360]</text>\n</g>\n<!-- 0&#45;&gt;2 -->\n<g class=\"edge\" id=\"edge2\">\n<title>0-&gt;2</title>\n<path d=\"M141.6109,-608.9465C147.1378,-600.2373 153.1506,-590.7626 158.9146,-581.6801\" fill=\"none\" stroke=\"#000000\"/>\n<polygon fill=\"#000000\" points=\"161.9374,-583.4487 164.3406,-573.13 156.0271,-579.6979 161.9374,-583.4487\" stroke=\"#000000\"/>\n<text fill=\"#000000\" font-family=\"Times,serif\" font-size=\"14.00\" text-anchor=\"middle\" x=\"169.7942\" y=\"-593.8279\">False</text>\n</g>\n<!-- 3 -->\n<g class=\"node\" id=\"node4\">\n<title>3</title>\n<polygon fill=\"#e58139\" points=\"173.5,-461.5 78.5,-461.5 78.5,-408.5 173.5,-408.5 173.5,-461.5\" stroke=\"#000000\"/>\n<text fill=\"#000000\" font-family=\"Times,serif\" font-size=\"14.00\" text-anchor=\"middle\" x=\"126\" y=\"-446.3\">gini = 0.0</text>\n<text fill=\"#000000\" font-family=\"Times,serif\" font-size=\"14.00\" text-anchor=\"middle\" x=\"126\" y=\"-431.3\">samples = 7</text>\n<text fill=\"#000000\" font-family=\"Times,serif\" font-size=\"14.00\" text-anchor=\"middle\" x=\"126\" y=\"-416.3\">value = [7, 0]</text>\n</g>\n<!-- 2&#45;&gt;3 -->\n<g class=\"edge\" id=\"edge3\">\n<title>2-&gt;3</title>\n<path d=\"M166.3538,-504.9465C159.9355,-493.8215 152.7965,-481.4473 146.329,-470.237\" fill=\"none\" stroke=\"#000000\"/>\n<polygon fill=\"#000000\" points=\"149.3417,-468.455 141.3128,-461.5422 143.2784,-471.9531 149.3417,-468.455\" stroke=\"#000000\"/>\n</g>\n<!-- 4 -->\n<g class=\"node\" id=\"node5\">\n<title>4</title>\n<polygon fill=\"#3b9ee5\" points=\"302,-469 192,-469 192,-401 302,-401 302,-469\" stroke=\"#000000\"/>\n<text fill=\"#000000\" font-family=\"Times,serif\" font-size=\"14.00\" text-anchor=\"middle\" x=\"247\" y=\"-453.8\">FE &lt;= 0.5</text>\n<text fill=\"#000000\" font-family=\"Times,serif\" font-size=\"14.00\" text-anchor=\"middle\" x=\"247\" y=\"-438.8\">gini = 0.022</text>\n<text fill=\"#000000\" font-family=\"Times,serif\" font-size=\"14.00\" text-anchor=\"middle\" x=\"247\" y=\"-423.8\">samples = 364</text>\n<text fill=\"#000000\" font-family=\"Times,serif\" font-size=\"14.00\" text-anchor=\"middle\" x=\"247\" y=\"-408.8\">value = [4, 360]</text>\n</g>\n<!-- 2&#45;&gt;4 -->\n<g class=\"edge\" id=\"edge4\">\n<title>2-&gt;4</title>\n<path d=\"M205.9737,-504.9465C211.0293,-496.3271 216.5247,-486.9579 221.8017,-477.9611\" fill=\"none\" stroke=\"#000000\"/>\n<polygon fill=\"#000000\" points=\"224.9411,-479.5265 226.9814,-469.13 218.9031,-475.985 224.9411,-479.5265\" stroke=\"#000000\"/>\n</g>\n<!-- 5 -->\n<g class=\"node\" id=\"node6\">\n<title>5</title>\n<polygon fill=\"#e58139\" points=\"234.5,-357.5 139.5,-357.5 139.5,-304.5 234.5,-304.5 234.5,-357.5\" stroke=\"#000000\"/>\n<text fill=\"#000000\" font-family=\"Times,serif\" font-size=\"14.00\" text-anchor=\"middle\" x=\"187\" y=\"-342.3\">gini = 0.0</text>\n<text fill=\"#000000\" font-family=\"Times,serif\" font-size=\"14.00\" text-anchor=\"middle\" x=\"187\" y=\"-327.3\">samples = 2</text>\n<text fill=\"#000000\" font-family=\"Times,serif\" font-size=\"14.00\" text-anchor=\"middle\" x=\"187\" y=\"-312.3\">value = [2, 0]</text>\n</g>\n<!-- 4&#45;&gt;5 -->\n<g class=\"edge\" id=\"edge5\">\n<title>4-&gt;5</title>\n<path d=\"M227.3538,-400.9465C220.9355,-389.8215 213.7965,-377.4473 207.329,-366.237\" fill=\"none\" stroke=\"#000000\"/>\n<polygon fill=\"#000000\" points=\"210.3417,-364.455 202.3128,-357.5422 204.2784,-367.9531 210.3417,-364.455\" stroke=\"#000000\"/>\n</g>\n<!-- 6 -->\n<g class=\"node\" id=\"node7\">\n<title>6</title>\n<polygon fill=\"#3a9ee5\" points=\"363,-365 253,-365 253,-297 363,-297 363,-365\" stroke=\"#000000\"/>\n<text fill=\"#000000\" font-family=\"Times,serif\" font-size=\"14.00\" text-anchor=\"middle\" x=\"308\" y=\"-349.8\">FBoB &lt;= 1.5</text>\n<text fill=\"#000000\" font-family=\"Times,serif\" font-size=\"14.00\" text-anchor=\"middle\" x=\"308\" y=\"-334.8\">gini = 0.011</text>\n<text fill=\"#000000\" font-family=\"Times,serif\" font-size=\"14.00\" text-anchor=\"middle\" x=\"308\" y=\"-319.8\">samples = 362</text>\n<text fill=\"#000000\" font-family=\"Times,serif\" font-size=\"14.00\" text-anchor=\"middle\" x=\"308\" y=\"-304.8\">value = [2, 360]</text>\n</g>\n<!-- 4&#45;&gt;6 -->\n<g class=\"edge\" id=\"edge6\">\n<title>4-&gt;6</title>\n<path d=\"M266.9737,-400.9465C272.0293,-392.3271 277.5247,-382.9579 282.8017,-373.9611\" fill=\"none\" stroke=\"#000000\"/>\n<polygon fill=\"#000000\" points=\"285.9411,-375.5265 287.9814,-365.13 279.9031,-371.985 285.9411,-375.5265\" stroke=\"#000000\"/>\n</g>\n<!-- 7 -->\n<g class=\"node\" id=\"node8\">\n<title>7</title>\n<polygon fill=\"#3a9de5\" points=\"300,-261 190,-261 190,-193 300,-193 300,-261\" stroke=\"#000000\"/>\n<text fill=\"#000000\" font-family=\"Times,serif\" font-size=\"14.00\" text-anchor=\"middle\" x=\"245\" y=\"-245.8\">FBoB &lt;= 0.5</text>\n<text fill=\"#000000\" font-family=\"Times,serif\" font-size=\"14.00\" text-anchor=\"middle\" x=\"245\" y=\"-230.8\">gini = 0.006</text>\n<text fill=\"#000000\" font-family=\"Times,serif\" font-size=\"14.00\" text-anchor=\"middle\" x=\"245\" y=\"-215.8\">samples = 360</text>\n<text fill=\"#000000\" font-family=\"Times,serif\" font-size=\"14.00\" text-anchor=\"middle\" x=\"245\" y=\"-200.8\">value = [1, 359]</text>\n</g>\n<!-- 6&#45;&gt;7 -->\n<g class=\"edge\" id=\"edge7\">\n<title>6-&gt;7</title>\n<path d=\"M287.3714,-296.9465C282.1501,-288.3271 276.4745,-278.9579 271.0245,-269.9611\" fill=\"none\" stroke=\"#000000\"/>\n<polygon fill=\"#000000\" points=\"273.8497,-267.8697 265.6749,-261.13 267.8626,-271.4965 273.8497,-267.8697\" stroke=\"#000000\"/>\n</g>\n<!-- 12 -->\n<g class=\"node\" id=\"node13\">\n<title>12</title>\n<polygon fill=\"#ffffff\" points=\"422,-261 318,-261 318,-193 422,-193 422,-261\" stroke=\"#000000\"/>\n<text fill=\"#000000\" font-family=\"Times,serif\" font-size=\"14.00\" text-anchor=\"middle\" x=\"370\" y=\"-245.8\">Muntah &lt;= 0.5</text>\n<text fill=\"#000000\" font-family=\"Times,serif\" font-size=\"14.00\" text-anchor=\"middle\" x=\"370\" y=\"-230.8\">gini = 0.5</text>\n<text fill=\"#000000\" font-family=\"Times,serif\" font-size=\"14.00\" text-anchor=\"middle\" x=\"370\" y=\"-215.8\">samples = 2</text>\n<text fill=\"#000000\" font-family=\"Times,serif\" font-size=\"14.00\" text-anchor=\"middle\" x=\"370\" y=\"-200.8\">value = [1, 1]</text>\n</g>\n<!-- 6&#45;&gt;12 -->\n<g class=\"edge\" id=\"edge12\">\n<title>6-&gt;12</title>\n<path d=\"M328.3011,-296.9465C333.4396,-288.3271 339.0251,-278.9579 344.3886,-269.9611\" fill=\"none\" stroke=\"#000000\"/>\n<polygon fill=\"#000000\" points=\"347.5389,-271.5117 349.6533,-261.13 341.5263,-267.9272 347.5389,-271.5117\" stroke=\"#000000\"/>\n</g>\n<!-- 8 -->\n<g class=\"node\" id=\"node9\">\n<title>8</title>\n<polygon fill=\"#399de5\" points=\"177,-149.5 67,-149.5 67,-96.5 177,-96.5 177,-149.5\" stroke=\"#000000\"/>\n<text fill=\"#000000\" font-family=\"Times,serif\" font-size=\"14.00\" text-anchor=\"middle\" x=\"122\" y=\"-134.3\">gini = 0.0</text>\n<text fill=\"#000000\" font-family=\"Times,serif\" font-size=\"14.00\" text-anchor=\"middle\" x=\"122\" y=\"-119.3\">samples = 317</text>\n<text fill=\"#000000\" font-family=\"Times,serif\" font-size=\"14.00\" text-anchor=\"middle\" x=\"122\" y=\"-104.3\">value = [0, 317]</text>\n</g>\n<!-- 7&#45;&gt;8 -->\n<g class=\"edge\" id=\"edge8\">\n<title>7-&gt;8</title>\n<path d=\"M204.7252,-192.9465C190.7861,-181.1606 175.1888,-167.9726 161.3268,-156.2519\" fill=\"none\" stroke=\"#000000\"/>\n<polygon fill=\"#000000\" points=\"163.2873,-153.3262 153.3912,-149.5422 158.7676,-158.6715 163.2873,-153.3262\" stroke=\"#000000\"/>\n</g>\n<!-- 9 -->\n<g class=\"node\" id=\"node10\">\n<title>9</title>\n<polygon fill=\"#3e9fe6\" points=\"299,-157 195,-157 195,-89 299,-89 299,-157\" stroke=\"#000000\"/>\n<text fill=\"#000000\" font-family=\"Times,serif\" font-size=\"14.00\" text-anchor=\"middle\" x=\"247\" y=\"-141.8\">Muntah &lt;= 0.5</text>\n<text fill=\"#000000\" font-family=\"Times,serif\" font-size=\"14.00\" text-anchor=\"middle\" x=\"247\" y=\"-126.8\">gini = 0.045</text>\n<text fill=\"#000000\" font-family=\"Times,serif\" font-size=\"14.00\" text-anchor=\"middle\" x=\"247\" y=\"-111.8\">samples = 43</text>\n<text fill=\"#000000\" font-family=\"Times,serif\" font-size=\"14.00\" text-anchor=\"middle\" x=\"247\" y=\"-96.8\">value = [1, 42]</text>\n</g>\n<!-- 7&#45;&gt;9 -->\n<g class=\"edge\" id=\"edge9\">\n<title>7-&gt;9</title>\n<path d=\"M245.6549,-192.9465C245.812,-184.776 245.9821,-175.9318 246.1467,-167.3697\" fill=\"none\" stroke=\"#000000\"/>\n<polygon fill=\"#000000\" points=\"249.6506,-167.1955 246.3437,-157.13 242.6519,-167.0608 249.6506,-167.1955\" stroke=\"#000000\"/>\n</g>\n<!-- 10 -->\n<g class=\"node\" id=\"node11\">\n<title>10</title>\n<polygon fill=\"#52a9e8\" points=\"235.5,-53 140.5,-53 140.5,0 235.5,0 235.5,-53\" stroke=\"#000000\"/>\n<text fill=\"#000000\" font-family=\"Times,serif\" font-size=\"14.00\" text-anchor=\"middle\" x=\"188\" y=\"-37.8\">gini = 0.198</text>\n<text fill=\"#000000\" font-family=\"Times,serif\" font-size=\"14.00\" text-anchor=\"middle\" x=\"188\" y=\"-22.8\">samples = 9</text>\n<text fill=\"#000000\" font-family=\"Times,serif\" font-size=\"14.00\" text-anchor=\"middle\" x=\"188\" y=\"-7.8\">value = [1, 8]</text>\n</g>\n<!-- 9&#45;&gt;10 -->\n<g class=\"edge\" id=\"edge10\">\n<title>9-&gt;10</title>\n<path d=\"M226.1988,-88.9777C220.8242,-80.187 215.0265,-70.7044 209.6115,-61.8477\" fill=\"none\" stroke=\"#000000\"/>\n<polygon fill=\"#000000\" points=\"212.5564,-59.9545 204.354,-53.2485 206.5842,-63.6059 212.5564,-59.9545\" stroke=\"#000000\"/>\n</g>\n<!-- 11 -->\n<g class=\"node\" id=\"node12\">\n<title>11</title>\n<polygon fill=\"#399de5\" points=\"356,-53 254,-53 254,0 356,0 356,-53\" stroke=\"#000000\"/>\n<text fill=\"#000000\" font-family=\"Times,serif\" font-size=\"14.00\" text-anchor=\"middle\" x=\"305\" y=\"-37.8\">gini = 0.0</text>\n<text fill=\"#000000\" font-family=\"Times,serif\" font-size=\"14.00\" text-anchor=\"middle\" x=\"305\" y=\"-22.8\">samples = 34</text>\n<text fill=\"#000000\" font-family=\"Times,serif\" font-size=\"14.00\" text-anchor=\"middle\" x=\"305\" y=\"-7.8\">value = [0, 34]</text>\n</g>\n<!-- 9&#45;&gt;11 -->\n<g class=\"edge\" id=\"edge11\">\n<title>9-&gt;11</title>\n<path d=\"M267.4486,-88.9777C272.7322,-80.187 278.4316,-70.7044 283.7548,-61.8477\" fill=\"none\" stroke=\"#000000\"/>\n<polygon fill=\"#000000\" points=\"286.7715,-63.6225 288.9232,-53.2485 280.7718,-60.0165 286.7715,-63.6225\" stroke=\"#000000\"/>\n</g>\n<!-- 13 -->\n<g class=\"node\" id=\"node14\">\n<title>13</title>\n<polygon fill=\"#e58139\" points=\"415.5,-149.5 320.5,-149.5 320.5,-96.5 415.5,-96.5 415.5,-149.5\" stroke=\"#000000\"/>\n<text fill=\"#000000\" font-family=\"Times,serif\" font-size=\"14.00\" text-anchor=\"middle\" x=\"368\" y=\"-134.3\">gini = 0.0</text>\n<text fill=\"#000000\" font-family=\"Times,serif\" font-size=\"14.00\" text-anchor=\"middle\" x=\"368\" y=\"-119.3\">samples = 1</text>\n<text fill=\"#000000\" font-family=\"Times,serif\" font-size=\"14.00\" text-anchor=\"middle\" x=\"368\" y=\"-104.3\">value = [1, 0]</text>\n</g>\n<!-- 12&#45;&gt;13 -->\n<g class=\"edge\" id=\"edge13\">\n<title>12-&gt;13</title>\n<path d=\"M369.3451,-192.9465C369.1397,-182.2621 368.912,-170.4254 368.7034,-159.5742\" fill=\"none\" stroke=\"#000000\"/>\n<polygon fill=\"#000000\" points=\"372.2021,-159.473 368.5104,-149.5422 365.2034,-159.6076 372.2021,-159.473\" stroke=\"#000000\"/>\n</g>\n<!-- 14 -->\n<g class=\"node\" id=\"node15\">\n<title>14</title>\n<polygon fill=\"#399de5\" points=\"528.5,-149.5 433.5,-149.5 433.5,-96.5 528.5,-96.5 528.5,-149.5\" stroke=\"#000000\"/>\n<text fill=\"#000000\" font-family=\"Times,serif\" font-size=\"14.00\" text-anchor=\"middle\" x=\"481\" y=\"-134.3\">gini = 0.0</text>\n<text fill=\"#000000\" font-family=\"Times,serif\" font-size=\"14.00\" text-anchor=\"middle\" x=\"481\" y=\"-119.3\">samples = 1</text>\n<text fill=\"#000000\" font-family=\"Times,serif\" font-size=\"14.00\" text-anchor=\"middle\" x=\"481\" y=\"-104.3\">value = [0, 1]</text>\n</g>\n<!-- 12&#45;&gt;14 -->\n<g class=\"edge\" id=\"edge14\">\n<title>12-&gt;14</title>\n<path d=\"M406.3456,-192.9465C418.8072,-181.2707 432.7374,-168.219 445.1588,-156.5809\" fill=\"none\" stroke=\"#000000\"/>\n<polygon fill=\"#000000\" points=\"447.7669,-158.9335 452.6713,-149.5422 442.9809,-153.8253 447.7669,-158.9335\" stroke=\"#000000\"/>\n</g>\n</g>\n</svg>"
          },
          "metadata": {
            "tags": []
          }
        },
        {
          "output_type": "stream",
          "text": [
            "\n",
            "\n",
            "|--- feature_1 <= 0.50\n",
            "|   |--- class: Akut\n",
            "|--- feature_1 >  0.50\n",
            "|   |--- feature_2 <= 0.50\n",
            "|   |   |--- class: Akut\n",
            "|   |--- feature_2 >  0.50\n",
            "|   |   |--- feature_3 <= 0.50\n",
            "|   |   |   |--- class: Akut\n",
            "|   |   |--- feature_3 >  0.50\n",
            "|   |   |   |--- feature_4 <= 1.50\n",
            "|   |   |   |   |--- feature_4 <= 0.50\n",
            "|   |   |   |   |   |--- class: Kronis\n",
            "|   |   |   |   |--- feature_4 >  0.50\n",
            "|   |   |   |   |   |--- feature_0 <= 0.50\n",
            "|   |   |   |   |   |   |--- class: Kronis\n",
            "|   |   |   |   |   |--- feature_0 >  0.50\n",
            "|   |   |   |   |   |   |--- class: Kronis\n",
            "|   |   |   |--- feature_4 >  1.50\n",
            "|   |   |   |   |--- feature_0 <= 0.50\n",
            "|   |   |   |   |   |--- class: Akut\n",
            "|   |   |   |   |--- feature_0 >  0.50\n",
            "|   |   |   |   |   |--- class: Kronis\n",
            "\n"
          ],
          "name": "stdout"
        }
      ]
    },
    {
      "cell_type": "code",
      "metadata": {
        "colab": {
          "base_uri": "https://localhost:8080/",
          "height": 1000
        },
        "id": "djb1lu0hlaHv",
        "outputId": "017e9c92-5f35-4193-8f3e-bcc19a58b38e"
      },
      "source": [
        "def under():\n",
        "  #get balanced data sample also splitting data train and test\n",
        "  rus = RandomUnderSampler(random_state=8)\n",
        "  X_under, y_under = rus.fit_resample(X,y)\n",
        "  X_train, X_test, y_train, y_test = tt(X_under, y_under, test_size=0.2, random_state = 3)\n",
        "  print(Counter(y_train))\n",
        "\n",
        "  #proceed model\n",
        "  clf.fit(X_train, y_train)\n",
        "  y_pred = clf.predict(X_test)\n",
        "  print(classification_report(y_test, y_pred))\n",
        "  #acc = metrics.accuracy_score(y_test, y_pred)*100\n",
        "  joblib.dump(clf, 'under.pkl')\n",
        "  plot_confusion_matrix(clf, X_test, y_test)\n",
        "  plt.show()\n",
        "  print('\\n')\n",
        "\n",
        "  #tree viz and tree text\n",
        "  graph= Source(tree.export_graphviz(clf, feature_names=X.columns, \n",
        "                                     filled=True))\n",
        "  display(SVG(graph.pipe(format='svg')))\n",
        "  print('\\n')\n",
        "  tree_root = export_text(clf)\n",
        "  print(tree_root)\n",
        "\n",
        "under()"
      ],
      "execution_count": 55,
      "outputs": [
        {
          "output_type": "stream",
          "text": [
            "Counter({'Kronis': 25, 'Akut': 24})\n",
            "              precision    recall  f1-score   support\n",
            "\n",
            "        Akut       0.88      1.00      0.93         7\n",
            "      Kronis       1.00      0.83      0.91         6\n",
            "\n",
            "    accuracy                           0.92        13\n",
            "   macro avg       0.94      0.92      0.92        13\n",
            "weighted avg       0.93      0.92      0.92        13\n",
            "\n"
          ],
          "name": "stdout"
        },
        {
          "output_type": "display_data",
          "data": {
            "image/png": "[encoded data removed]",
            "text/plain": [
              "<Figure size 432x288 with 2 Axes>"
            ]
          },
          "metadata": {
            "tags": [],
            "needs_background": "light"
          }
        },
        {
          "output_type": "stream",
          "text": [
            "\n",
            "\n"
          ],
          "name": "stdout"
        },
        {
          "output_type": "display_data",
          "data": {
            "text/plain": [
              "<IPython.core.display.SVG object>"
            ],
            "image/svg+xml": "<svg height=\"269pt\" viewBox=\"0.00 0.00 284.50 269.00\" width=\"285pt\" xmlns=\"http://www.w3.org/2000/svg\" xmlns:xlink=\"http://www.w3.org/1999/xlink\">\n<g class=\"graph\" id=\"graph0\" transform=\"scale(1 1) rotate(0) translate(4 265)\">\n<title>Tree</title>\n<polygon fill=\"#ffffff\" points=\"-4,4 -4,-265 280.5,-265 280.5,4 -4,4\" stroke=\"transparent\"/>\n<!-- 0 -->\n<g class=\"node\" id=\"node1\">\n<title>0</title>\n<polygon fill=\"#f7fbfe\" points=\"166,-261 56,-261 56,-193 166,-193 166,-261\" stroke=\"#000000\"/>\n<text fill=\"#000000\" font-family=\"Times,serif\" font-size=\"14.00\" text-anchor=\"middle\" x=\"111\" y=\"-245.8\">BAB_1 &lt;= 0.5</text>\n<text fill=\"#000000\" font-family=\"Times,serif\" font-size=\"14.00\" text-anchor=\"middle\" x=\"111\" y=\"-230.8\">gini = 0.5</text>\n<text fill=\"#000000\" font-family=\"Times,serif\" font-size=\"14.00\" text-anchor=\"middle\" x=\"111\" y=\"-215.8\">samples = 49</text>\n<text fill=\"#000000\" font-family=\"Times,serif\" font-size=\"14.00\" text-anchor=\"middle\" x=\"111\" y=\"-200.8\">value = [24, 25]</text>\n</g>\n<!-- 1 -->\n<g class=\"node\" id=\"node2\">\n<title>1</title>\n<polygon fill=\"#e58139\" points=\"102,-149.5 0,-149.5 0,-96.5 102,-96.5 102,-149.5\" stroke=\"#000000\"/>\n<text fill=\"#000000\" font-family=\"Times,serif\" font-size=\"14.00\" text-anchor=\"middle\" x=\"51\" y=\"-134.3\">gini = 0.0</text>\n<text fill=\"#000000\" font-family=\"Times,serif\" font-size=\"14.00\" text-anchor=\"middle\" x=\"51\" y=\"-119.3\">samples = 23</text>\n<text fill=\"#000000\" font-family=\"Times,serif\" font-size=\"14.00\" text-anchor=\"middle\" x=\"51\" y=\"-104.3\">value = [23, 0]</text>\n</g>\n<!-- 0&#45;&gt;1 -->\n<g class=\"edge\" id=\"edge1\">\n<title>0-&gt;1</title>\n<path d=\"M91.3538,-192.9465C84.9355,-181.8215 77.7965,-169.4473 71.329,-158.237\" fill=\"none\" stroke=\"#000000\"/>\n<polygon fill=\"#000000\" points=\"74.3417,-156.455 66.3128,-149.5422 68.2784,-159.9531 74.3417,-156.455\" stroke=\"#000000\"/>\n<text fill=\"#000000\" font-family=\"Times,serif\" font-size=\"14.00\" text-anchor=\"middle\" x=\"59.8346\" y=\"-169.9882\">True</text>\n</g>\n<!-- 2 -->\n<g class=\"node\" id=\"node3\">\n<title>2</title>\n<polygon fill=\"#41a1e6\" points=\"222,-157 120,-157 120,-89 222,-89 222,-157\" stroke=\"#000000\"/>\n<text fill=\"#000000\" font-family=\"Times,serif\" font-size=\"14.00\" text-anchor=\"middle\" x=\"171\" y=\"-141.8\">FBoB &lt;= 1.5</text>\n<text fill=\"#000000\" font-family=\"Times,serif\" font-size=\"14.00\" text-anchor=\"middle\" x=\"171\" y=\"-126.8\">gini = 0.074</text>\n<text fill=\"#000000\" font-family=\"Times,serif\" font-size=\"14.00\" text-anchor=\"middle\" x=\"171\" y=\"-111.8\">samples = 26</text>\n<text fill=\"#000000\" font-family=\"Times,serif\" font-size=\"14.00\" text-anchor=\"middle\" x=\"171\" y=\"-96.8\">value = [1, 25]</text>\n</g>\n<!-- 0&#45;&gt;2 -->\n<g class=\"edge\" id=\"edge2\">\n<title>0-&gt;2</title>\n<path d=\"M130.6462,-192.9465C135.619,-184.3271 141.0243,-174.9579 146.2148,-165.9611\" fill=\"none\" stroke=\"#000000\"/>\n<polygon fill=\"#000000\" points=\"149.344,-167.5409 151.3096,-157.13 143.2807,-164.0428 149.344,-167.5409\" stroke=\"#000000\"/>\n<text fill=\"#000000\" font-family=\"Times,serif\" font-size=\"14.00\" text-anchor=\"middle\" x=\"157.7878\" y=\"-177.5761\">False</text>\n</g>\n<!-- 3 -->\n<g class=\"node\" id=\"node4\">\n<title>3</title>\n<polygon fill=\"#399de5\" points=\"163,-53 61,-53 61,0 163,0 163,-53\" stroke=\"#000000\"/>\n<text fill=\"#000000\" font-family=\"Times,serif\" font-size=\"14.00\" text-anchor=\"middle\" x=\"112\" y=\"-37.8\">gini = 0.0</text>\n<text fill=\"#000000\" font-family=\"Times,serif\" font-size=\"14.00\" text-anchor=\"middle\" x=\"112\" y=\"-22.8\">samples = 25</text>\n<text fill=\"#000000\" font-family=\"Times,serif\" font-size=\"14.00\" text-anchor=\"middle\" x=\"112\" y=\"-7.8\">value = [0, 25]</text>\n</g>\n<!-- 2&#45;&gt;3 -->\n<g class=\"edge\" id=\"edge3\">\n<title>2-&gt;3</title>\n<path d=\"M150.1988,-88.9777C144.8242,-80.187 139.0265,-70.7044 133.6115,-61.8477\" fill=\"none\" stroke=\"#000000\"/>\n<polygon fill=\"#000000\" points=\"136.5564,-59.9545 128.354,-53.2485 130.5842,-63.6059 136.5564,-59.9545\" stroke=\"#000000\"/>\n</g>\n<!-- 4 -->\n<g class=\"node\" id=\"node5\">\n<title>4</title>\n<polygon fill=\"#e58139\" points=\"276.5,-53 181.5,-53 181.5,0 276.5,0 276.5,-53\" stroke=\"#000000\"/>\n<text fill=\"#000000\" font-family=\"Times,serif\" font-size=\"14.00\" text-anchor=\"middle\" x=\"229\" y=\"-37.8\">gini = 0.0</text>\n<text fill=\"#000000\" font-family=\"Times,serif\" font-size=\"14.00\" text-anchor=\"middle\" x=\"229\" y=\"-22.8\">samples = 1</text>\n<text fill=\"#000000\" font-family=\"Times,serif\" font-size=\"14.00\" text-anchor=\"middle\" x=\"229\" y=\"-7.8\">value = [1, 0]</text>\n</g>\n<!-- 2&#45;&gt;4 -->\n<g class=\"edge\" id=\"edge4\">\n<title>2-&gt;4</title>\n<path d=\"M191.4486,-88.9777C196.7322,-80.187 202.4316,-70.7044 207.7548,-61.8477\" fill=\"none\" stroke=\"#000000\"/>\n<polygon fill=\"#000000\" points=\"210.7715,-63.6225 212.9232,-53.2485 204.7718,-60.0165 210.7715,-63.6225\" stroke=\"#000000\"/>\n</g>\n</g>\n</svg>"
          },
          "metadata": {
            "tags": []
          }
        },
        {
          "output_type": "stream",
          "text": [
            "\n",
            "\n",
            "|--- feature_1 <= 0.50\n",
            "|   |--- class: Akut\n",
            "|--- feature_1 >  0.50\n",
            "|   |--- feature_4 <= 1.50\n",
            "|   |   |--- class: Kronis\n",
            "|   |--- feature_4 >  1.50\n",
            "|   |   |--- class: Akut\n",
            "\n"
          ],
          "name": "stdout"
        }
      ]
    },
    {
      "cell_type": "markdown",
      "metadata": {
        "id": "zmNW30L1rgtC"
      },
      "source": [
        "# Test Predict start here"
      ]
    },
    {
      "cell_type": "code",
      "metadata": {
        "id": "7LR0WoFxrfWI"
      },
      "source": [
        "def test_normal():\n",
        "  while True:\n",
        "    class CustomException(Exception):\n",
        "      pass #print('Please input integer between 0 and 2')\n",
        "\n",
        "    try:\n",
        "      print('======================================================')\n",
        "      print('\\t\\t\\t START')\n",
        "      print('======================================================')\n",
        "      #de = int(input('\\n  kondisi demam. 1 untuk ya, 0 untuk tidak: '))\n",
        "      #if de > 1 or de < 0:\n",
        "      #  raise AssertionError\n",
        "\n",
        "      mu = int(input('\\n  kondisi muntah. 1 untuk ya, 0 untuk tidak: '))\n",
        "      if mu > 1 or mu < 0:\n",
        "        raise AssertionError\n",
        "      \n",
        "      mk = int(input('\\n  kondisi mulut kering. 1 untuk ya, 0 untuk tidak: '))\n",
        "      if mk > 1 or mk < 0:\n",
        "        raise AssertionError\n",
        "      \n",
        "      #ny = int(input('\\n  kondisi nyeri di perut. 1 untuk ya, 0 untuk tidak: '))\n",
        "      #if ny > 1 or ny < 0:\n",
        "      #  raise AssertionError\n",
        "      \n",
        "      bab1 = int(input('\\n  kondisi BAB lebih dari 2 minggu. 1 untuk ya, 0 untuk tidak: '))\n",
        "      if bab1 > 1 or bab1 < 0:\n",
        "        raise AssertionError\n",
        "      \n",
        "      bab2 = int(input('\\n  kondisi BAB lebih dari 3x sehari. 1 untuk ya, 0 untuk tidak: '))\n",
        "      if bab2 > 1 or bab2 < 0:\n",
        "        raise AssertionError\n",
        "      \n",
        "      fe = int(input('\\n  kondisi feses encer. 1 untuk ya, 0 untuk tidak: '))\n",
        "      if fe > 1 or fe < 0:\n",
        "        raise AssertionError\n",
        "      \n",
        "      fb = int(input('\\n  kondisi feses berdarah atau berlendir. 2 untuk tidak sama sekali, 1 untuk berlendir, 0 untuk berdarah: '))\n",
        "      if fb > 2 or fb < 0:\n",
        "        raise CustomException\n",
        "      break\n",
        "    except ValueError:\n",
        "      print('Please input integer only...')\n",
        "    except AssertionError:\n",
        "      print('Please input integer between 1 or 0')\n",
        "    except CustomException:\n",
        "      print('Please input integer between 0 and 2')\n",
        "      continue\n",
        "\n",
        "  #pred = [[de,mu,mk,ny,bab1,bab2,fe,fb]]\n",
        "  #print('\\n  Binary Input',pred)\n",
        "\n",
        "  pred = [[mu,mk,bab1,bab2,fe,fb]]\n",
        "  print('\\n  Binary Input',pred)\n",
        "\n",
        "  load_model = joblib.load('normal.pkl')\n",
        "  result=(load_model.predict(pred))\n",
        "  print('\\n  Result:',result)\n",
        "  print('======================================================')\n",
        "  print('\\t\\t\\t END')\n",
        "  print('======================================================')\n",
        "\n",
        "#test_normal()"
      ],
      "execution_count": 56,
      "outputs": []
    },
    {
      "cell_type": "code",
      "metadata": {
        "id": "Jt1qBxZ-FAiA"
      },
      "source": [
        "def test_over():\n",
        "  while True:\n",
        "    class CustomException(Exception):\n",
        "      pass\n",
        "\n",
        "    try:\n",
        "      print('======================================================')\n",
        "      print('\\t\\t\\t START')\n",
        "      print('======================================================')\n",
        "      de = int(input('\\n  kondisi demam. 1 untuk ya, 0 untuk tidak: '))\n",
        "      if de > 1 or de < 0:\n",
        "        raise AssertionError\n",
        "\n",
        "      mu = int(input('\\n  kondisi muntah. 1 untuk ya, 0 untuk tidak: '))\n",
        "      if mu > 1 or mu < 0:\n",
        "        raise AssertionError\n",
        "      \n",
        "      mk = int(input('\\n  kondisi mulut kering. 1 untuk ya, 0 untuk tidak: '))\n",
        "      if mk > 1 or mk < 0:\n",
        "        raise AssertionError\n",
        "      \n",
        "      ny = int(input('\\n  kondisi nyeri di perut. 1 untuk ya, 0 untuk tidak: '))\n",
        "      if ny > 1 or ny < 0:\n",
        "        raise AssertionError\n",
        "      \n",
        "      bab1 = int(input('\\n  kondisi BAB lebih dari 2 minggu. 1 untuk ya, 0 untuk tidak: '))\n",
        "      if bab1 > 1 or bab1 < 0:\n",
        "        raise AssertionError\n",
        "      \n",
        "      bab2 = int(input('\\n  kondisi BAB lebih dari 3x sehari. 1 untuk ya, 0 untuk tidak: '))\n",
        "      if bab2 > 1 or bab2 < 0:\n",
        "        raise AssertionError\n",
        "      \n",
        "      fe = int(input('\\n  kondisi feses encer. 1 untuk ya, 0 untuk tidak: '))\n",
        "      if fe > 1 or fe < 0:\n",
        "        raise AssertionError\n",
        "      \n",
        "      fb = int(input('\\n  kondisi feses berdarah atau berlendir. 2 untuk tidak sama sekali, 1 untuk berlendir, 0 untuk berdarah: '))\n",
        "      if fb > 2 or fb < 0:\n",
        "        raise CustomException\n",
        "      break\n",
        "    except ValueError:\n",
        "      print('Please input integer only...')\n",
        "    except AssertionError:\n",
        "      print('Please input integer between 1 or 0')\n",
        "    except CustomException:\n",
        "      print('Please input integer between 0 and 2')\n",
        "      continue\n",
        "\n",
        "  pred = [[de,mu,mk,ny,bab1,bab2,fe,fb]]\n",
        "  print('\\n  Binary Input',pred)\n",
        "\n",
        "  load_model = joblib.load('over.pkl')\n",
        "  result=(load_model.predict(pred))\n",
        "  print('\\n  Result:',result)\n",
        "  print('======================================================')\n",
        "  print('\\t\\t\\t END')\n",
        "  print('======================================================')\n",
        "\n",
        "#test_over()"
      ],
      "execution_count": 57,
      "outputs": []
    },
    {
      "cell_type": "code",
      "metadata": {
        "id": "Rh9qZcmkFFwc"
      },
      "source": [
        "def test_under():\n",
        "  while True:\n",
        "    class CustomException(Exception):\n",
        "      pass\n",
        "      \n",
        "    try:\n",
        "      print('======================================================')\n",
        "      print('\\t\\t\\t START')\n",
        "      print('======================================================')\n",
        "      de = int(input('\\n  kondisi demam. 1 untuk ya, 0 untuk tidak: '))\n",
        "      if de > 1 or de < 0:\n",
        "        raise AssertionError\n",
        "\n",
        "      mu = int(input('\\n  kondisi muntah. 1 untuk ya, 0 untuk tidak: '))\n",
        "      if mu > 1 or mu < 0:\n",
        "        raise AssertionError\n",
        "      \n",
        "      mk = int(input('\\n  kondisi mulut kering. 1 untuk ya, 0 untuk tidak: '))\n",
        "      if mk > 1 or mk < 0:\n",
        "        raise AssertionError\n",
        "      \n",
        "      ny = int(input('\\n  kondisi nyeri di perut. 1 untuk ya, 0 untuk tidak: '))\n",
        "      if ny > 1 or ny < 0:\n",
        "        raise AssertionError\n",
        "      \n",
        "      bab1 = int(input('\\n  kondisi BAB lebih dari 2 minggu. 1 untuk ya, 0 untuk tidak: '))\n",
        "      if bab1 > 1 or bab1 < 0:\n",
        "        raise AssertionError\n",
        "      \n",
        "      bab2 = int(input('\\n  kondisi BAB lebih dari 3x sehari. 1 untuk ya, 0 untuk tidak: '))\n",
        "      if bab2 > 1 or bab2 < 0:\n",
        "        raise AssertionError\n",
        "      \n",
        "      fe = int(input('\\n  kondisi feses encer. 1 untuk ya, 0 untuk tidak: '))\n",
        "      if fe > 1 or fe < 0:\n",
        "        raise AssertionError\n",
        "      \n",
        "      fb = int(input('\\n  kondisi feses berdarah atau berlendir. 2 untuk tidak sama sekali, 1 untuk berlendir, 0 untuk berdarah: '))\n",
        "      if fb > 2 or fb < 0:\n",
        "        raise CustomException\n",
        "      break\n",
        "    except ValueError:\n",
        "      print('Please input integer only...')\n",
        "    except AssertionError:\n",
        "      print('Please input integer between 1 or 0')\n",
        "    except CustomException:\n",
        "      print('Please input integer between 0 and 2')\n",
        "      continue\n",
        "\n",
        "  pred = [[de,mu,mk,ny,bab1,bab2,fe,fb]]\n",
        "  print('\\n  Binary Input',pred)\n",
        "\n",
        "  load_model = joblib.load('under.pkl')\n",
        "  result=(load_model.predict(pred))\n",
        "  print('\\n  Result:',result)\n",
        "  print('======================================================')\n",
        "  print('\\t\\t\\t END')\n",
        "  print('======================================================')\n",
        "\n",
        "\n",
        "#test_under()"
      ],
      "execution_count": 58,
      "outputs": []
    },
    {
      "cell_type": "markdown",
      "metadata": {
        "id": "mYcLv7kQkuXz"
      },
      "source": [
        "# Misc"
      ]
    },
    {
      "cell_type": "code",
      "metadata": {
        "id": "Y3fy0ZMPeAdD"
      },
      "source": [
        "def fast_n():\n",
        "  predfast = [[0,1,0,1,0,1,1,2]]\n",
        "  model = joblib.load('normal.pkl')\n",
        "  hasil = (model.predict(predfast))\n",
        "\n",
        "  print('\\n Prediksi normal', hasil)\n",
        "#fast_n()\n",
        "\n",
        "def fast_o():\n",
        "  predfast = [[0,1,0,1,0,1,1,2]]\n",
        "  model = joblib.load('over.pkl')\n",
        "  hasil = (model.predict(predfast))\n",
        "\n",
        "  print('\\n Prediksi over', hasil)\n",
        "#fast_o()\n",
        "\n",
        "def fast_u():\n",
        "  predfast = [[0,1,0,1,0,1,1,2]]\n",
        "  model = joblib.load('under.pkl')\n",
        "  hasil = (model.predict(predfast))\n",
        "\n",
        "  print('\\n Prediksi under', hasil)\n",
        "#fast_u()"
      ],
      "execution_count": 59,
      "outputs": []
    },
    {
      "cell_type": "code",
      "metadata": {
        "id": "MVsVROl9lGnF",
        "colab": {
          "base_uri": "https://localhost:8080/"
        },
        "outputId": "c2b5e00e-925d-4449-eb79-aca3d4c44ced"
      },
      "source": [
        "\n",
        "def counter():\n",
        "  le = LabelEncoder()\n",
        "  clf= DecisionTreeClassifier(criterion='gini')\n",
        "  X = data.drop(columns='Diare')\n",
        "  y  = data['Diare']\n",
        "\n",
        "  #applying label encoder untuk tiap atribut predictor\n",
        "  X = X.apply(le.fit_transform)\n",
        "  X_train, X_test, y_train, y_test = tt(X,y, test_size=0.2, random_state=20)\n",
        "  print('Normal')\n",
        "  print(Counter(y_train), 'Train' )\n",
        "  print(Counter(y_test), 'Test')\n",
        "\n",
        "  oversample = SMOTE(random_state=20)\n",
        "  X_over, y_over = oversample.fit_resample(X,y)\n",
        "  XX_train, XX_test, yy_train, yy_test = tt(X_over, y_over, test_size=0.2, random_state=8)\n",
        "  print( '\\nSMOTE')\n",
        "  print(Counter(yy_train), 'Train' )\n",
        "  print(Counter(yy_test), 'Test')\n",
        "\n",
        "  rus = RandomUnderSampler(random_state=8)\n",
        "  X_under, y_under = rus.fit_resample(X,y)\n",
        "  XXX_train, XXX_test, yyy_train, yyy_test = tt(X_under, y_under, test_size=0.2, random_state=3)\n",
        "  print('\\nRandom Undersampling')\n",
        "  print(Counter(yyy_train), 'Train' )\n",
        "  print(Counter(yyy_test), 'Test')\n",
        "\n",
        "counter()"
      ],
      "execution_count": 60,
      "outputs": [
        {
          "output_type": "stream",
          "text": [
            "Normal\n",
            "Counter({'Akut': 359, 'Kronis': 26}) Train\n",
            "Counter({'Akut': 92, 'Kronis': 5}) Test\n",
            "\n",
            "SMOTE\n",
            "Counter({'Akut': 361, 'Kronis': 360}) Train\n",
            "Counter({'Kronis': 91, 'Akut': 90}) Test\n",
            "\n",
            "Random Undersampling\n",
            "Counter({'Kronis': 25, 'Akut': 24}) Train\n",
            "Counter({'Akut': 7, 'Kronis': 6}) Test\n"
          ],
          "name": "stdout"
        }
      ]
    },
    {
      "cell_type": "code",
      "metadata": {
        "colab": {
          "base_uri": "https://localhost:8080/"
        },
        "id": "XybITTS9KAqH",
        "outputId": "ae905c68-2adb-45f8-d414-1c5f66cfddc0"
      },
      "source": [
        "def sample():\n",
        "  le = LabelEncoder()\n",
        "  clf= DecisionTreeClassifier(criterion='gini')\n",
        "  X = data.drop(columns='Diare')\n",
        "  y  = data['Diare']\n",
        "  X = X.apply(le.fit_transform)\n",
        "  rus = RandomUnderSampler(random_state=8)\n",
        "  X_under, y_under = rus.fit_resample(X,y)\n",
        "  XXX_train, XXX_test, yyy_train, yyy_test = tt(X_under, y_under, test_size=0.2, random_state=3)\n",
        "  print('\\nUndersampling')\n",
        "  print(XXX_train)\n",
        "  #print(yyy_train)\n",
        "\n",
        "def sampleNormal():\n",
        "  le = LabelEncoder()\n",
        "  clf= DecisionTreeClassifier(criterion='gini')\n",
        "  X = data.drop(columns='Diare')\n",
        "  y  = data['Diare']\n",
        "  X = X.apply(le.fit_transform)\n",
        "  X_train, X_test, y_train, y_test = tt(X,y, test_size = 0.2, random_state=8)\n",
        "  print(X_test.head(10))\n",
        "\n",
        "sample()"
      ],
      "execution_count": 61,
      "outputs": [
        {
          "output_type": "stream",
          "text": [
            "\n",
            "Undersampling\n",
            "[[0 1 0 1 2]\n",
            " [1 1 1 1 1]\n",
            " [1 0 1 0 1]\n",
            " [1 1 1 1 1]\n",
            " [0 1 1 1 0]\n",
            " [1 0 1 0 1]\n",
            " [0 1 1 1 0]\n",
            " [1 1 1 1 0]\n",
            " [1 0 1 1 0]\n",
            " [0 0 1 0 0]\n",
            " [1 1 1 1 0]\n",
            " [1 0 1 0 1]\n",
            " [0 0 1 0 1]\n",
            " [1 0 0 1 2]\n",
            " [0 1 1 1 0]\n",
            " [1 1 1 1 0]\n",
            " [1 1 1 1 0]\n",
            " [1 1 1 1 0]\n",
            " [1 1 1 1 0]\n",
            " [0 0 1 1 2]\n",
            " [1 1 1 1 0]\n",
            " [1 0 1 1 1]\n",
            " [1 1 1 1 0]\n",
            " [1 0 0 1 2]\n",
            " [1 0 0 1 2]\n",
            " [1 1 1 1 0]\n",
            " [1 0 0 1 1]\n",
            " [1 0 1 1 1]\n",
            " [0 0 1 1 0]\n",
            " [1 1 1 1 0]\n",
            " [1 0 0 1 2]\n",
            " [1 1 1 1 0]\n",
            " [1 0 1 1 2]\n",
            " [1 1 1 1 0]\n",
            " [0 1 1 1 0]\n",
            " [1 1 1 1 0]\n",
            " [0 1 1 1 1]\n",
            " [0 1 1 1 0]\n",
            " [1 1 1 1 0]\n",
            " [1 0 1 0 2]\n",
            " [1 0 0 1 2]\n",
            " [0 0 1 1 0]\n",
            " [0 0 1 1 1]\n",
            " [1 0 0 1 1]\n",
            " [0 1 1 1 0]\n",
            " [1 0 1 1 1]\n",
            " [1 1 1 1 0]\n",
            " [1 0 0 1 1]\n",
            " [1 1 1 1 0]]\n"
          ],
          "name": "stdout"
        }
      ]
    }
  ]
}